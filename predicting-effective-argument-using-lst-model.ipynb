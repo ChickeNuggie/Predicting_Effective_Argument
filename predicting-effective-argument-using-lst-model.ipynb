{
 "cells": [
  {
   "cell_type": "markdown",
   "id": "dfc141c7",
   "metadata": {
    "papermill": {
     "duration": 0.009402,
     "end_time": "2022-08-03T17:58:55.419853",
     "exception": false,
     "start_time": "2022-08-03T17:58:55.410451",
     "status": "completed"
    },
    "tags": []
   },
   "source": [
    "### Load the dataset from kaggle's data directory.\n",
    "Check the working directory of kaggle's dataset and load its train dataset."
   ]
  },
  {
   "cell_type": "code",
   "execution_count": 1,
   "id": "2c439aec",
   "metadata": {
    "execution": {
     "iopub.execute_input": "2022-08-03T17:58:55.438290Z",
     "iopub.status.busy": "2022-08-03T17:58:55.437616Z",
     "iopub.status.idle": "2022-08-03T17:58:55.452809Z",
     "shell.execute_reply": "2022-08-03T17:58:55.451752Z"
    },
    "papermill": {
     "duration": 0.027757,
     "end_time": "2022-08-03T17:58:55.456011",
     "exception": false,
     "start_time": "2022-08-03T17:58:55.428254",
     "status": "completed"
    },
    "tags": []
   },
   "outputs": [
    {
     "data": {
      "text/plain": [
       "['sample_submission.csv', 'train.csv', 'test.csv', 'test', 'train']"
      ]
     },
     "execution_count": 1,
     "metadata": {},
     "output_type": "execute_result"
    }
   ],
   "source": [
    "import os\n",
    "os.listdir('/kaggle/input/feedback-prize-effectiveness')"
   ]
  },
  {
   "cell_type": "code",
   "execution_count": 2,
   "id": "6676df5c",
   "metadata": {
    "execution": {
     "iopub.execute_input": "2022-08-03T17:58:55.472677Z",
     "iopub.status.busy": "2022-08-03T17:58:55.472395Z",
     "iopub.status.idle": "2022-08-03T17:58:57.273809Z",
     "shell.execute_reply": "2022-08-03T17:58:57.272868Z"
    },
    "papermill": {
     "duration": 1.812522,
     "end_time": "2022-08-03T17:58:57.276261",
     "exception": false,
     "start_time": "2022-08-03T17:58:55.463739",
     "status": "completed"
    },
    "tags": []
   },
   "outputs": [],
   "source": [
    "import numpy as np\n",
    "import pandas as pd\n",
    "from sklearn.model_selection import train_test_split, GridSearchCV \n",
    "\n",
    "\n",
    "df_feeds = pd.read_csv(\"../input/feedback-prize-effectiveness/train.csv\")\n",
    "df_feeds['discourse_text'].isnull().sum() # checks for NAs\n",
    "\n",
    "import string\n",
    "string.punctuation \n",
    "import re\n",
    "\n",
    "\n",
    "from nltk.corpus import stopwords \n",
    "from collections import Counter\n",
    "from itertools import chain\n",
    "\n"
   ]
  },
  {
   "cell_type": "markdown",
   "id": "554da1c0",
   "metadata": {
    "papermill": {
     "duration": 0.007374,
     "end_time": "2022-08-03T17:58:57.291599",
     "exception": false,
     "start_time": "2022-08-03T17:58:57.284225",
     "status": "completed"
    },
    "tags": []
   },
   "source": [
    "### Data pre-processing\n",
    "\n",
    "Remove stopwords from corpus stopwords dictionary to prevent commonly used language or text such as 'a', 'the', etc, that may affect the predictive performance."
   ]
  },
  {
   "cell_type": "code",
   "execution_count": 3,
   "id": "7c62d406",
   "metadata": {
    "execution": {
     "iopub.execute_input": "2022-08-03T17:58:57.308666Z",
     "iopub.status.busy": "2022-08-03T17:58:57.307657Z",
     "iopub.status.idle": "2022-08-03T17:58:58.277794Z",
     "shell.execute_reply": "2022-08-03T17:58:58.276691Z"
    },
    "papermill": {
     "duration": 0.98105,
     "end_time": "2022-08-03T17:58:58.280376",
     "exception": false,
     "start_time": "2022-08-03T17:58:57.299326",
     "status": "completed"
    },
    "tags": []
   },
   "outputs": [
    {
     "name": "stdout",
     "output_type": "stream",
     "text": [
      "0        hi  i m isaac  i m going to be writing about h...\n",
      "1        on my perspective  i think that the face is a ...\n",
      "2        i think that the face is a natural landform be...\n",
      "3        if life was on mars  we would know by now  the...\n",
      "4        people thought that the face was formed by ali...\n",
      "                               ...                        \n",
      "36760    for many people they don t like only asking on...\n",
      "36761    also people have different views and opinions ...\n",
      "36762    advice is something that can impact a persons ...\n",
      "36763    someone can use everything that many people sa...\n",
      "36764    in conclusion asking for an opinion can be ben...\n",
      "Name: discourse_text, Length: 36765, dtype: object\n"
     ]
    }
   ],
   "source": [
    "stop = set(stopwords.words('english')) \n",
    "df_feeds['discourse_text'].replace(\"[^a-zA-Z]\",\" \", regex=True, inplace =True)  # match strings that contains non-letter and replace with black to remove string.punctuations.\n",
    "df_feeds['discourse_text'] = df_feeds['discourse_text'].str.lower() # converts strings to lower case.\n",
    "print(df_feeds['discourse_text'])\n",
    "df_feeds['discourse_text'] = df_feeds['discourse_text'].apply(lambda x: [item for item in str(x).split() if item not in stop])\n",
    "freq = pd.Series(Counter(chain.from_iterable(df_feeds['discourse_text']))).sort_values(ascending=False) # count the frequencies of words."
   ]
  },
  {
   "cell_type": "markdown",
   "id": "912dedf7",
   "metadata": {
    "papermill": {
     "duration": 0.00701,
     "end_time": "2022-08-03T17:58:58.295567",
     "exception": false,
     "start_time": "2022-08-03T17:58:58.288557",
     "status": "completed"
    },
    "tags": []
   },
   "source": [
    "#### Note: To access and run nltk corpora 'owm-1.4' file without internet, simply download the file at https://raw.githubusercontent.com/nltk/nltk_data/gh-pages/packages/corpora/omw-1.4.zip , upload to kaggle dataset and run the below command to install the file from kaggle input into the kernel."
   ]
  },
  {
   "cell_type": "code",
   "execution_count": 4,
   "id": "4a5f6ab5",
   "metadata": {
    "execution": {
     "iopub.execute_input": "2022-08-03T17:58:58.311467Z",
     "iopub.status.busy": "2022-08-03T17:58:58.311102Z",
     "iopub.status.idle": "2022-08-03T17:58:59.330296Z",
     "shell.execute_reply": "2022-08-03T17:58:59.328848Z"
    },
    "papermill": {
     "duration": 1.029857,
     "end_time": "2022-08-03T17:58:59.332639",
     "exception": false,
     "start_time": "2022-08-03T17:58:58.302782",
     "status": "completed"
    },
    "tags": []
   },
   "outputs": [],
   "source": [
    "!ln -s /kaggle/input/nltk-omw/omw-1.4 /usr/share/nltk_data/corpora/omw-1.4 "
   ]
  },
  {
   "cell_type": "markdown",
   "id": "c884d760",
   "metadata": {
    "papermill": {
     "duration": 0.007073,
     "end_time": "2022-08-03T17:58:59.348572",
     "exception": false,
     "start_time": "2022-08-03T17:58:59.341499",
     "status": "completed"
    },
    "tags": []
   },
   "source": [
    "Test if the file is working"
   ]
  },
  {
   "cell_type": "code",
   "execution_count": 5,
   "id": "f3afb224",
   "metadata": {
    "execution": {
     "iopub.execute_input": "2022-08-03T17:58:59.364447Z",
     "iopub.status.busy": "2022-08-03T17:58:59.364102Z",
     "iopub.status.idle": "2022-08-03T17:59:01.362139Z",
     "shell.execute_reply": "2022-08-03T17:59:01.361117Z"
    },
    "papermill": {
     "duration": 2.008819,
     "end_time": "2022-08-03T17:59:01.364496",
     "exception": false,
     "start_time": "2022-08-03T17:58:59.355677",
     "status": "completed"
    },
    "tags": []
   },
   "outputs": [
    {
     "data": {
      "text/plain": [
       "[Synset('trial.n.02'),\n",
       " Synset('test.n.02'),\n",
       " Synset('examination.n.02'),\n",
       " Synset('test.n.04'),\n",
       " Synset('test.n.05'),\n",
       " Synset('test.n.06'),\n",
       " Synset('test.v.01'),\n",
       " Synset('screen.v.01'),\n",
       " Synset('quiz.v.01'),\n",
       " Synset('test.v.04'),\n",
       " Synset('test.v.05'),\n",
       " Synset('test.v.06'),\n",
       " Synset('test.v.07')]"
      ]
     },
     "execution_count": 5,
     "metadata": {},
     "output_type": "execute_result"
    }
   ],
   "source": [
    "import nltk\n",
    "nltk.corpus.wordnet.synsets('test')"
   ]
  },
  {
   "cell_type": "markdown",
   "id": "797ececf",
   "metadata": {
    "papermill": {
     "duration": 0.007313,
     "end_time": "2022-08-03T17:59:01.380065",
     "exception": false,
     "start_time": "2022-08-03T17:59:01.372752",
     "status": "completed"
    },
    "tags": []
   },
   "source": [
    "#### Lemmatize all tokens into a new list to prevent overfitting of dataset when verb, nouns, adverb or adjectives are not as concerning on the impact of effectiveness of an argument.\n"
   ]
  },
  {
   "cell_type": "code",
   "execution_count": 6,
   "id": "f917f8c9",
   "metadata": {
    "execution": {
     "iopub.execute_input": "2022-08-03T17:59:01.396233Z",
     "iopub.status.busy": "2022-08-03T17:59:01.395913Z",
     "iopub.status.idle": "2022-08-03T17:59:13.560801Z",
     "shell.execute_reply": "2022-08-03T17:59:13.559791Z"
    },
    "papermill": {
     "duration": 12.175773,
     "end_time": "2022-08-03T17:59:13.563492",
     "exception": false,
     "start_time": "2022-08-03T17:59:01.387719",
     "status": "completed"
    },
    "tags": []
   },
   "outputs": [],
   "source": [
    "from nltk.stem import WordNetLemmatizer\n",
    "from nltk.tokenize import word_tokenize\n",
    "from nltk import word_tokenize\n",
    "wordnet_lem = WordNetLemmatizer()\n",
    "df_feeds['discourse_text'] = df_feeds['discourse_text'].apply(\n",
    "                   lambda lst:[wordnet_lem.lemmatize(word, pos='v') for word in lst])\n",
    "df_feeds['discourse_text'] = df_feeds['discourse_text'].apply(\n",
    "                    lambda lst:[wordnet_lem.lemmatize(word, pos='n') for word in lst])\n",
    "df_feeds['discourse_text'] = df_feeds['discourse_text'].apply(\n",
    "                    lambda lst:[wordnet_lem.lemmatize(word, pos='r') for word in lst])\n",
    "df_feeds['discourse_text'] = df_feeds['discourse_text'].apply(\n",
    "                    lambda lst:[wordnet_lem.lemmatize(word, pos='a') for word in lst])\n",
    "freq_final = pd.Series(Counter(chain.from_iterable(df_feeds['discourse_text']))).sort_values(ascending=False)\n"
   ]
  },
  {
   "cell_type": "markdown",
   "id": "4f4a6806",
   "metadata": {
    "papermill": {
     "duration": 0.007136,
     "end_time": "2022-08-03T17:59:13.578907",
     "exception": false,
     "start_time": "2022-08-03T17:59:13.571771",
     "status": "completed"
    },
    "tags": []
   },
   "source": [
    "#### Visualize top 30 word frequencies. "
   ]
  },
  {
   "cell_type": "code",
   "execution_count": 7,
   "id": "6a16b76a",
   "metadata": {
    "execution": {
     "iopub.execute_input": "2022-08-03T17:59:13.595611Z",
     "iopub.status.busy": "2022-08-03T17:59:13.594631Z",
     "iopub.status.idle": "2022-08-03T17:59:14.201067Z",
     "shell.execute_reply": "2022-08-03T17:59:14.200153Z"
    },
    "papermill": {
     "duration": 0.617097,
     "end_time": "2022-08-03T17:59:14.203112",
     "exception": false,
     "start_time": "2022-08-03T17:59:13.586015",
     "status": "completed"
    },
    "tags": []
   },
   "outputs": [
    {
     "data": {
      "image/png": "[encoded data removed]",
      "text/plain": [
       "<Figure size 576x432 with 1 Axes>"
      ]
     },
     "metadata": {
      "needs_background": "light"
     },
     "output_type": "display_data"
    }
   ],
   "source": [
    "import seaborn as sns \n",
    "import matplotlib.pyplot as plt\n",
    "top_words = freq_final.head(30).reset_index()\n",
    "\n",
    "sns.reset_orig()\n",
    "plt.figure(figsize = (8,6))\n",
    "my_palette = sns.color_palette(\"colorblind\") # variations of default palette: deep, muted, pastel, bright, dark, colorblind. \n",
    "plt.style.use('seaborn-colorblind')\n",
    "sns.set(rc={'figure.figsize':(10,5)})\n",
    "sns.barplot(x=top_words.iloc[:,1], y=top_words.iloc[:,0],data=top_words , alpha = 0.6).set_title('Top 20 count of word frequencies')\n",
    "plt.xlabel('Frequencies')\n",
    "plt.ylabel('Words')\n",
    "plt.show()"
   ]
  },
  {
   "cell_type": "markdown",
   "id": "d90863c6",
   "metadata": {
    "papermill": {
     "duration": 0.007741,
     "end_time": "2022-08-03T17:59:14.218767",
     "exception": false,
     "start_time": "2022-08-03T17:59:14.211026",
     "status": "completed"
    },
    "tags": []
   },
   "source": [
    "#### Visualize the dataset to determine if data is normal distributed."
   ]
  },
  {
   "cell_type": "code",
   "execution_count": 8,
   "id": "1211011c",
   "metadata": {
    "execution": {
     "iopub.execute_input": "2022-08-03T17:59:14.235620Z",
     "iopub.status.busy": "2022-08-03T17:59:14.235319Z",
     "iopub.status.idle": "2022-08-03T17:59:14.247653Z",
     "shell.execute_reply": "2022-08-03T17:59:14.246735Z"
    },
    "papermill": {
     "duration": 0.023188,
     "end_time": "2022-08-03T17:59:14.249869",
     "exception": false,
     "start_time": "2022-08-03T17:59:14.226681",
     "status": "completed"
    },
    "tags": []
   },
   "outputs": [
    {
     "name": "stdout",
     "output_type": "stream",
     "text": [
      "Adequate       20977\n",
      "Effective       9326\n",
      "Ineffective     6462\n",
      "Name: discourse_effectiveness, dtype: int64\n",
      "\n",
      "Predicting only 0 = 57.06% accuracy\n",
      "\n",
      "Predicting only 1 = 25.37% accuracy\n",
      "\n",
      "Predicting only 2 = 17.58% accuracy\n"
     ]
    }
   ],
   "source": [
    "counts = df_feeds.discourse_effectiveness.value_counts()\n",
    "print(counts)\n",
    "print(\"\\nPredicting only 0 = {:.2f}% accuracy\".format(counts[0] / sum(counts) * 100))\n",
    "print(\"\\nPredicting only 1 = {:.2f}% accuracy\".format(counts[1] / sum(counts) * 100))\n",
    "print(\"\\nPredicting only 2 = {:.2f}% accuracy\".format(counts[2] / sum(counts) * 100))"
   ]
  },
  {
   "cell_type": "code",
   "execution_count": 9,
   "id": "9a7884bd",
   "metadata": {
    "execution": {
     "iopub.execute_input": "2022-08-03T17:59:14.266487Z",
     "iopub.status.busy": "2022-08-03T17:59:14.266189Z",
     "iopub.status.idle": "2022-08-03T17:59:14.478012Z",
     "shell.execute_reply": "2022-08-03T17:59:14.477103Z"
    },
    "papermill": {
     "duration": 0.222986,
     "end_time": "2022-08-03T17:59:14.480537",
     "exception": false,
     "start_time": "2022-08-03T17:59:14.257551",
     "status": "completed"
    },
    "tags": []
   },
   "outputs": [
    {
     "data": {
      "image/png": "[encoded data removed]",
      "text/plain": [
       "<Figure size 720x360 with 1 Axes>"
      ]
     },
     "metadata": {},
     "output_type": "display_data"
    }
   ],
   "source": [
    "df_counts = pd.DataFrame(counts).reset_index()\n",
    "plt.figure(figsize = (10,5))\n",
    "sns.barplot(x=df_counts['index'],y=df_counts['discourse_effectiveness'],data=df_counts,alpha = 0.6).set_title('Total count of Effectiveness')\n",
    "plt.xlabel('Effectiveness')\n",
    "plt.ylabel('Count')\n",
    "plt.show()"
   ]
  },
  {
   "cell_type": "markdown",
   "id": "bed62b8b",
   "metadata": {
    "papermill": {
     "duration": 0.007749,
     "end_time": "2022-08-03T17:59:14.496638",
     "exception": false,
     "start_time": "2022-08-03T17:59:14.488889",
     "status": "completed"
    },
    "tags": []
   },
   "source": [
    "It can be observed that there are more Adequate feedbacks than Effective and Ineffective, indicating that the data may be imbalanced and may be prone to lower prediction accuracy. "
   ]
  },
  {
   "cell_type": "markdown",
   "id": "d0116878",
   "metadata": {
    "papermill": {
     "duration": 0.007928,
     "end_time": "2022-08-03T17:59:14.512727",
     "exception": false,
     "start_time": "2022-08-03T17:59:14.504799",
     "status": "completed"
    },
    "tags": []
   },
   "source": [
    "#### One-hot-encoding by creating dummies to categorical data."
   ]
  },
  {
   "cell_type": "code",
   "execution_count": 10,
   "id": "09785238",
   "metadata": {
    "execution": {
     "iopub.execute_input": "2022-08-03T17:59:14.530577Z",
     "iopub.status.busy": "2022-08-03T17:59:14.530245Z",
     "iopub.status.idle": "2022-08-03T17:59:14.543350Z",
     "shell.execute_reply": "2022-08-03T17:59:14.542487Z"
    },
    "papermill": {
     "duration": 0.024112,
     "end_time": "2022-08-03T17:59:14.545419",
     "exception": false,
     "start_time": "2022-08-03T17:59:14.521307",
     "status": "completed"
    },
    "tags": []
   },
   "outputs": [],
   "source": [
    "df_effects = pd.get_dummies(df_feeds.iloc[:,4])\n",
    "df_feeds = pd.concat([df_feeds, df_effects], axis=1) # combine dummy rows."
   ]
  },
  {
   "cell_type": "markdown",
   "id": "7a32b236",
   "metadata": {
    "papermill": {
     "duration": 0.008037,
     "end_time": "2022-08-03T17:59:14.561779",
     "exception": false,
     "start_time": "2022-08-03T17:59:14.553742",
     "status": "completed"
    },
    "tags": []
   },
   "source": [
    "#### Train-test validation approach."
   ]
  },
  {
   "cell_type": "code",
   "execution_count": 11,
   "id": "0bcf2522",
   "metadata": {
    "execution": {
     "iopub.execute_input": "2022-08-03T17:59:14.580716Z",
     "iopub.status.busy": "2022-08-03T17:59:14.580408Z",
     "iopub.status.idle": "2022-08-03T17:59:14.616846Z",
     "shell.execute_reply": "2022-08-03T17:59:14.616010Z"
    },
    "papermill": {
     "duration": 0.048782,
     "end_time": "2022-08-03T17:59:14.618904",
     "exception": false,
     "start_time": "2022-08-03T17:59:14.570122",
     "status": "completed"
    },
    "tags": []
   },
   "outputs": [],
   "source": [
    "X_train, X_test, y_train, y_test = train_test_split(df_feeds['discourse_text'].values, df_feeds[['Adequate', 'Effective','Ineffective']].values, stratify=df_feeds['discourse_effectiveness'],test_size=0.1, random_state=100)"
   ]
  },
  {
   "cell_type": "markdown",
   "id": "7eb47a7d",
   "metadata": {
    "papermill": {
     "duration": 0.007964,
     "end_time": "2022-08-03T17:59:14.634766",
     "exception": false,
     "start_time": "2022-08-03T17:59:14.626802",
     "status": "completed"
    },
    "tags": []
   },
   "source": [
    "#### Tokenize 500 most common words to prevent overftitting from noise text that least occur."
   ]
  },
  {
   "cell_type": "code",
   "execution_count": 12,
   "id": "ed41d80b",
   "metadata": {
    "execution": {
     "iopub.execute_input": "2022-08-03T17:59:14.651845Z",
     "iopub.status.busy": "2022-08-03T17:59:14.651567Z",
     "iopub.status.idle": "2022-08-03T17:59:21.204156Z",
     "shell.execute_reply": "2022-08-03T17:59:21.203122Z"
    },
    "papermill": {
     "duration": 6.564158,
     "end_time": "2022-08-03T17:59:21.206923",
     "exception": false,
     "start_time": "2022-08-03T17:59:14.642765",
     "status": "completed"
    },
    "tags": []
   },
   "outputs": [],
   "source": [
    "from tensorflow.keras.preprocessing.text import Tokenizer\n",
    "from tensorflow.keras.preprocessing.sequence import pad_sequences\n",
    "tokenizer = Tokenizer(num_words=500, oov_token='x')\n",
    "word_index = tokenizer.word_index\n",
    "count_words = tokenizer.word_counts\n",
    "tokenizer.fit_on_texts(X_train) \n",
    "tokenizer.fit_on_texts(X_test)\n",
    "seq_train = tokenizer.texts_to_sequences(X_train)\n",
    "seq_test = tokenizer.texts_to_sequences(X_test)\n",
    "pad_train = pad_sequences(seq_train) \n",
    "pad_test = pad_sequences(seq_test)"
   ]
  },
  {
   "cell_type": "markdown",
   "id": "e263d56f",
   "metadata": {
    "papermill": {
     "duration": 0.008288,
     "end_time": "2022-08-03T17:59:21.223903",
     "exception": false,
     "start_time": "2022-08-03T17:59:21.215615",
     "status": "completed"
    },
    "tags": []
   },
   "source": [
    "#### Shuffle train set after splitting to improve or avoid overfitting and ensure data are representatives.\n"
   ]
  },
  {
   "cell_type": "code",
   "execution_count": 13,
   "id": "be848614",
   "metadata": {
    "execution": {
     "iopub.execute_input": "2022-08-03T17:59:21.242680Z",
     "iopub.status.busy": "2022-08-03T17:59:21.241444Z",
     "iopub.status.idle": "2022-08-03T17:59:21.270918Z",
     "shell.execute_reply": "2022-08-03T17:59:21.269722Z"
    },
    "papermill": {
     "duration": 0.042468,
     "end_time": "2022-08-03T17:59:21.274476",
     "exception": false,
     "start_time": "2022-08-03T17:59:21.232008",
     "status": "completed"
    },
    "tags": []
   },
   "outputs": [
    {
     "name": "stdout",
     "output_type": "stream",
     "text": [
      "[  0   0   0   0   0   0   0   0   0   0   0   0   0   0   0   0   0   0\n",
      "   0   0   0   0   0   0   0   0   0   0   0   0   0   0   0   0   0   0\n",
      "   0   0   0   0   0   0   0   0   0   0   0   0   0   0   0   0   0   0\n",
      "   0   0   0   0   0   0   0   0   0   0   0   0   0   0   0   0   0   0\n",
      "   0   0   0   0   0   0   0   0   0   0   0   0   0   0   0   0   0   0\n",
      "   0   0   0   0   0   0   0   0   0   0   0   0   0   0   0   0   0   0\n",
      "   0   0   0   0   0   0   0   0   0   0   0   0   0   0   0   0   0   0\n",
      "   0   0   0   0   0   0   0   0   0   0   0   0   0   0   0   0   0   0\n",
      "   0   0   0   0   0   0   0   0   0   0   0   0   0   0   0   0   0   0\n",
      "   0   0   0   0   0   0   0   0   0   0   0   0   0   0   0   0   0   0\n",
      "   0   0   0   0   0   0   0   0   0   0   0   0   0   0   0   0   0   0\n",
      "   0   0   0   0   0   0   0   0   0   0   0   0   0   0   0   0   0   0\n",
      "   0   0   0   0   0   0   0   0   0   0   0   0   0   0   0   0   0   0\n",
      "   0   0   0   0   0   0   0   0   0   0   0   0   0   0   0   0   0   0\n",
      "   0   0   0   0   0   0   0   0   0   0   0   0   0   0   0   0   0   0\n",
      "   0   0   0   0   0   0   0   0   0   0   0   0   0   0   0   0   0   0\n",
      "   0   0   0   0   0   0   0   0   0   0   0   0   0   0   0   0   0   0\n",
      "   0   0   0   0   0   0   0   0   0   0   0   0   0   0   0   0   0   0\n",
      "   0   0   0   0   0   0   0   0   0   0   0   0   0   0   0   0   0   0\n",
      "   0   0   0   0   0   0   0   0   0   0   0   0   0   0   0   0   0   0\n",
      "   0   0   0   0   0   0   0   0   0  80   2  31 193]\n"
     ]
    }
   ],
   "source": [
    "from sklearn.utils import shuffle\n",
    "pad_train, y_train = shuffle(pad_train, y_train)\n",
    "print(pad_train[9])"
   ]
  },
  {
   "cell_type": "markdown",
   "id": "a78c9ccc",
   "metadata": {
    "papermill": {
     "duration": 0.008046,
     "end_time": "2022-08-03T17:59:21.291269",
     "exception": false,
     "start_time": "2022-08-03T17:59:21.283223",
     "status": "completed"
    },
    "tags": []
   },
   "source": [
    "### Creating LST model to predict effectiveness of arguments.\n",
    "Create LST model and add neuron layers to easily define relationship of the output classess. Last layer based on number of desired categorical/classes output of interest.\n",
    "\n",
    "Linear regularization used in optimizer settings to prevent overfitting of data."
   ]
  },
  {
   "cell_type": "code",
   "execution_count": 14,
   "id": "6096da78",
   "metadata": {
    "execution": {
     "iopub.execute_input": "2022-08-03T17:59:21.309118Z",
     "iopub.status.busy": "2022-08-03T17:59:21.308743Z",
     "iopub.status.idle": "2022-08-03T17:59:24.818813Z",
     "shell.execute_reply": "2022-08-03T17:59:24.817610Z"
    },
    "papermill": {
     "duration": 3.522251,
     "end_time": "2022-08-03T17:59:24.821812",
     "exception": false,
     "start_time": "2022-08-03T17:59:21.299561",
     "status": "completed"
    },
    "tags": []
   },
   "outputs": [
    {
     "name": "stderr",
     "output_type": "stream",
     "text": [
      "2022-08-03 17:59:21.673090: I tensorflow/stream_executor/cuda/cuda_gpu_executor.cc:937] successful NUMA node read from SysFS had negative value (-1), but there must be at least one NUMA node, so returning NUMA node zero\n",
      "2022-08-03 17:59:21.797948: I tensorflow/stream_executor/cuda/cuda_gpu_executor.cc:937] successful NUMA node read from SysFS had negative value (-1), but there must be at least one NUMA node, so returning NUMA node zero\n",
      "2022-08-03 17:59:21.798757: I tensorflow/stream_executor/cuda/cuda_gpu_executor.cc:937] successful NUMA node read from SysFS had negative value (-1), but there must be at least one NUMA node, so returning NUMA node zero\n",
      "2022-08-03 17:59:21.801239: I tensorflow/core/platform/cpu_feature_guard.cc:142] This TensorFlow binary is optimized with oneAPI Deep Neural Network Library (oneDNN) to use the following CPU instructions in performance-critical operations:  AVX2 AVX512F FMA\n",
      "To enable them in other operations, rebuild TensorFlow with the appropriate compiler flags.\n",
      "2022-08-03 17:59:21.801648: I tensorflow/stream_executor/cuda/cuda_gpu_executor.cc:937] successful NUMA node read from SysFS had negative value (-1), but there must be at least one NUMA node, so returning NUMA node zero\n",
      "2022-08-03 17:59:21.802692: I tensorflow/stream_executor/cuda/cuda_gpu_executor.cc:937] successful NUMA node read from SysFS had negative value (-1), but there must be at least one NUMA node, so returning NUMA node zero\n",
      "2022-08-03 17:59:21.803671: I tensorflow/stream_executor/cuda/cuda_gpu_executor.cc:937] successful NUMA node read from SysFS had negative value (-1), but there must be at least one NUMA node, so returning NUMA node zero\n",
      "2022-08-03 17:59:24.104312: I tensorflow/stream_executor/cuda/cuda_gpu_executor.cc:937] successful NUMA node read from SysFS had negative value (-1), but there must be at least one NUMA node, so returning NUMA node zero\n",
      "2022-08-03 17:59:24.105148: I tensorflow/stream_executor/cuda/cuda_gpu_executor.cc:937] successful NUMA node read from SysFS had negative value (-1), but there must be at least one NUMA node, so returning NUMA node zero\n",
      "2022-08-03 17:59:24.105872: I tensorflow/stream_executor/cuda/cuda_gpu_executor.cc:937] successful NUMA node read from SysFS had negative value (-1), but there must be at least one NUMA node, so returning NUMA node zero\n",
      "2022-08-03 17:59:24.106511: I tensorflow/core/common_runtime/gpu/gpu_device.cc:1510] Created device /job:localhost/replica:0/task:0/device:GPU:0 with 15403 MB memory:  -> device: 0, name: Tesla P100-PCIE-16GB, pci bus id: 0000:00:04.0, compute capability: 6.0\n"
     ]
    },
    {
     "name": "stdout",
     "output_type": "stream",
     "text": [
      "Model: \"sequential\"\n",
      "_________________________________________________________________\n",
      "Layer (type)                 Output Shape              Param #   \n",
      "=================================================================\n",
      "embedding (Embedding)        (None, None, 100)         300000    \n",
      "_________________________________________________________________\n",
      "spatial_dropout1d (SpatialDr (None, None, 100)         0         \n",
      "_________________________________________________________________\n",
      "lstm (LSTM)                  (None, 128)               117248    \n",
      "_________________________________________________________________\n",
      "dense (Dense)                (None, 128)               16512     \n",
      "_________________________________________________________________\n",
      "dense_1 (Dense)              (None, 128)               16512     \n",
      "_________________________________________________________________\n",
      "dropout (Dropout)            (None, 128)               0         \n",
      "_________________________________________________________________\n",
      "dense_2 (Dense)              (None, 128)               16512     \n",
      "_________________________________________________________________\n",
      "dense_3 (Dense)              (None, 64)                8256      \n",
      "_________________________________________________________________\n",
      "dense_4 (Dense)              (None, 64)                4160      \n",
      "_________________________________________________________________\n",
      "dropout_1 (Dropout)          (None, 64)                0         \n",
      "_________________________________________________________________\n",
      "dense_5 (Dense)              (None, 3)                 195       \n",
      "=================================================================\n",
      "Total params: 479,395\n",
      "Trainable params: 479,395\n",
      "Non-trainable params: 0\n",
      "_________________________________________________________________\n"
     ]
    }
   ],
   "source": [
    "import tensorflow as tf\n",
    "from tensorflow.keras import regularizers\n",
    "import keras\n",
    "from keras.callbacks import EarlyStopping\n",
    "from tensorflow.keras.models import Sequential \n",
    "import tensorflow\n",
    "from tensorflow.keras.layers import Dropout\n",
    "\n",
    "# Create LST model and add neuron layers to easily define relationship of the output classess. Last layer based on number of desired categorical/classes output of interest.\n",
    "# Linear regularization used in optimizer settings to prevent overfitting of data.\n",
    "lst_mod = tf.keras.Sequential([\n",
    "    tf.keras.layers.Embedding(input_dim=3000, output_dim=100),\n",
    "    tf.keras.layers.SpatialDropout1D(0.3),\n",
    "    tf.keras.layers.LSTM(128),\n",
    "    tf.keras.layers.Dense(128, activation='relu'),\n",
    "    tf.keras.layers.Dense(128, activation='relu'),\n",
    "    tf.keras.layers.Dropout(0.3),\n",
    "    tf.keras.layers.Dense(128, activation='relu'),\n",
    "    tf.keras.layers.Dense(64, activation='relu'),\n",
    "    tf.keras.layers.Dense(64, activation='relu'),\n",
    "    tf.keras.layers.Dropout(0.2),\n",
    "    tf.keras.layers.Dense(3, activation='softmax')\n",
    "])\n",
    "\n",
    "optimizer = tf.keras.optimizers.Adam(learning_rate=0.001)\n",
    "lst_mod.compile(loss='categorical_crossentropy', optimizer=optimizer, metrics=['accuracy'])\n",
    "lst_mod.summary()"
   ]
  },
  {
   "cell_type": "markdown",
   "id": "fe39c94a",
   "metadata": {
    "papermill": {
     "duration": 0.00901,
     "end_time": "2022-08-03T17:59:24.839637",
     "exception": false,
     "start_time": "2022-08-03T17:59:24.830627",
     "status": "completed"
    },
    "tags": []
   },
   "source": [
    "#### Implementing early stopper to prevent overfitting of data that may occur on validation accuracy.\n"
   ]
  },
  {
   "cell_type": "code",
   "execution_count": 15,
   "id": "b9d9c282",
   "metadata": {
    "execution": {
     "iopub.execute_input": "2022-08-03T17:59:24.858305Z",
     "iopub.status.busy": "2022-08-03T17:59:24.857286Z",
     "iopub.status.idle": "2022-08-03T17:59:24.863497Z",
     "shell.execute_reply": "2022-08-03T17:59:24.862612Z"
    },
    "papermill": {
     "duration": 0.017554,
     "end_time": "2022-08-03T17:59:24.865664",
     "exception": false,
     "start_time": "2022-08-03T17:59:24.848110",
     "status": "completed"
    },
    "tags": []
   },
   "outputs": [],
   "source": [
    "class earlystop(tf.keras.callbacks.Callback):\n",
    "  def on_epoch_end(self, epoch, logs={}): \n",
    "    if(logs.get('val_accuracy')>0.855):\n",
    "      print(\"Accuracy has reached > 85.5%!\") \n",
    "      self.model.stop_training = True\n",
    "es = earlystop() "
   ]
  },
  {
   "cell_type": "markdown",
   "id": "6279927f",
   "metadata": {
    "papermill": {
     "duration": 0.008027,
     "end_time": "2022-08-03T17:59:24.881993",
     "exception": false,
     "start_time": "2022-08-03T17:59:24.873966",
     "status": "completed"
    },
    "tags": []
   },
   "source": [
    "After numerous trial runs, epochs = 20 provides constant increase in test accuracy. If epochs > 20, LST model may overfit, where train accuracy graduaually increasing while validation accuracy decreases."
   ]
  },
  {
   "cell_type": "code",
   "execution_count": 16,
   "id": "ca1fe62b",
   "metadata": {
    "execution": {
     "iopub.execute_input": "2022-08-03T17:59:24.901351Z",
     "iopub.status.busy": "2022-08-03T17:59:24.900513Z",
     "iopub.status.idle": "2022-08-03T18:02:48.964750Z",
     "shell.execute_reply": "2022-08-03T18:02:48.963641Z"
    },
    "papermill": {
     "duration": 204.076941,
     "end_time": "2022-08-03T18:02:48.967505",
     "exception": false,
     "start_time": "2022-08-03T17:59:24.890564",
     "status": "completed"
    },
    "tags": []
   },
   "outputs": [
    {
     "name": "stderr",
     "output_type": "stream",
     "text": [
      "2022-08-03 17:59:24.992101: I tensorflow/compiler/mlir/mlir_graph_optimization_pass.cc:185] None of the MLIR Optimization Passes are enabled (registered 2)\n"
     ]
    },
    {
     "name": "stdout",
     "output_type": "stream",
     "text": [
      "Epoch 1/20\n"
     ]
    },
    {
     "name": "stderr",
     "output_type": "stream",
     "text": [
      "2022-08-03 17:59:28.170420: I tensorflow/stream_executor/cuda/cuda_dnn.cc:369] Loaded cuDNN version 8005\n"
     ]
    },
    {
     "name": "stdout",
     "output_type": "stream",
     "text": [
      "331/331 [==============================] - 15s 31ms/step - loss: 0.8936 - accuracy: 0.6097 - val_loss: 0.8337 - val_accuracy: 0.6299\n",
      "Epoch 2/20\n",
      "331/331 [==============================] - 10s 30ms/step - loss: 0.8332 - accuracy: 0.6278 - val_loss: 0.8212 - val_accuracy: 0.6364\n",
      "Epoch 3/20\n",
      "331/331 [==============================] - 10s 30ms/step - loss: 0.8185 - accuracy: 0.6355 - val_loss: 0.8196 - val_accuracy: 0.6367\n",
      "Epoch 4/20\n",
      "331/331 [==============================] - 10s 29ms/step - loss: 0.8065 - accuracy: 0.6434 - val_loss: 0.8170 - val_accuracy: 0.6413\n",
      "Epoch 5/20\n",
      "331/331 [==============================] - 10s 29ms/step - loss: 0.7968 - accuracy: 0.6456 - val_loss: 0.8100 - val_accuracy: 0.6494\n",
      "Epoch 6/20\n",
      "331/331 [==============================] - 10s 29ms/step - loss: 0.7870 - accuracy: 0.6514 - val_loss: 0.8244 - val_accuracy: 0.6532\n",
      "Epoch 7/20\n",
      "331/331 [==============================] - 10s 30ms/step - loss: 0.7796 - accuracy: 0.6519 - val_loss: 0.8032 - val_accuracy: 0.6459\n",
      "Epoch 8/20\n",
      "331/331 [==============================] - 10s 29ms/step - loss: 0.7693 - accuracy: 0.6600 - val_loss: 0.8121 - val_accuracy: 0.6475\n",
      "Epoch 9/20\n",
      "331/331 [==============================] - 10s 29ms/step - loss: 0.7613 - accuracy: 0.6632 - val_loss: 0.8121 - val_accuracy: 0.6454\n",
      "Epoch 10/20\n",
      "331/331 [==============================] - 10s 29ms/step - loss: 0.7561 - accuracy: 0.6638 - val_loss: 0.8074 - val_accuracy: 0.6573\n",
      "Epoch 11/20\n",
      "331/331 [==============================] - 10s 30ms/step - loss: 0.7497 - accuracy: 0.6667 - val_loss: 0.8225 - val_accuracy: 0.6530\n",
      "Epoch 12/20\n",
      "331/331 [==============================] - 10s 29ms/step - loss: 0.7411 - accuracy: 0.6688 - val_loss: 0.8099 - val_accuracy: 0.6532\n",
      "Epoch 13/20\n",
      "331/331 [==============================] - 10s 29ms/step - loss: 0.7348 - accuracy: 0.6750 - val_loss: 0.8165 - val_accuracy: 0.6484\n",
      "Epoch 14/20\n",
      "331/331 [==============================] - 10s 29ms/step - loss: 0.7265 - accuracy: 0.6754 - val_loss: 0.8175 - val_accuracy: 0.6511\n",
      "Epoch 15/20\n",
      "331/331 [==============================] - 10s 30ms/step - loss: 0.7212 - accuracy: 0.6802 - val_loss: 0.8334 - val_accuracy: 0.6489\n",
      "Epoch 16/20\n",
      "331/331 [==============================] - 10s 30ms/step - loss: 0.7111 - accuracy: 0.6799 - val_loss: 0.8354 - val_accuracy: 0.6432\n",
      "Epoch 17/20\n",
      "331/331 [==============================] - 10s 30ms/step - loss: 0.7060 - accuracy: 0.6833 - val_loss: 0.8520 - val_accuracy: 0.6348\n",
      "Epoch 18/20\n",
      "331/331 [==============================] - 10s 29ms/step - loss: 0.6982 - accuracy: 0.6859 - val_loss: 0.8632 - val_accuracy: 0.6358\n",
      "Epoch 19/20\n",
      "331/331 [==============================] - 10s 29ms/step - loss: 0.6880 - accuracy: 0.6925 - val_loss: 0.8815 - val_accuracy: 0.6467\n",
      "Epoch 20/20\n",
      "331/331 [==============================] - 10s 29ms/step - loss: 0.6823 - accuracy: 0.6944 - val_loss: 0.8733 - val_accuracy: 0.6258\n"
     ]
    }
   ],
   "source": [
    "lst_mod1 = lst_mod.fit(pad_train, y_train, epochs=20, callbacks=[es],\n",
    "            validation_data=(pad_test, y_test), verbose=1, batch_size=100)"
   ]
  },
  {
   "cell_type": "markdown",
   "id": "08007a8e",
   "metadata": {
    "papermill": {
     "duration": 0.180707,
     "end_time": "2022-08-03T18:02:49.328987",
     "exception": false,
     "start_time": "2022-08-03T18:02:49.148280",
     "status": "completed"
    },
    "tags": []
   },
   "source": [
    "##### Visualize overview accuracy and validation accuracy of individual epochs of the LST model.\n",
    "\n",
    "###### Note: Saving LST model into a variable allows the model to be visualized on graph, else it would return an error where history is not callable."
   ]
  },
  {
   "cell_type": "code",
   "execution_count": 17,
   "id": "9db2f530",
   "metadata": {
    "execution": {
     "iopub.execute_input": "2022-08-03T18:02:49.749434Z",
     "iopub.status.busy": "2022-08-03T18:02:49.748967Z",
     "iopub.status.idle": "2022-08-03T18:02:50.041081Z",
     "shell.execute_reply": "2022-08-03T18:02:50.040113Z"
    },
    "papermill": {
     "duration": 0.474604,
     "end_time": "2022-08-03T18:02:50.043605",
     "exception": false,
     "start_time": "2022-08-03T18:02:49.569001",
     "status": "completed"
    },
    "tags": []
   },
   "outputs": [
    {
     "data": {
      "image/png": "[encoded data removed]",
      "text/plain": [
       "<Figure size 1080x720 with 1 Axes>"
      ]
     },
     "metadata": {},
     "output_type": "display_data"
    }
   ],
   "source": [
    "plt.figure(figsize = (15,10))\n",
    "plt.plot(lst_mod1.history['accuracy'])\n",
    "plt.plot(lst_mod1.history['val_accuracy'])\n",
    "plt.title('accuracy')\n",
    "plt.ylabel('accuracy')\n",
    "plt.xlabel('epoch')\n",
    "plt.legend(['train', 'val'], loc='upper left')\n",
    "plt.show()"
   ]
  },
  {
   "cell_type": "markdown",
   "id": "ca285a4a",
   "metadata": {
    "papermill": {
     "duration": 0.184839,
     "end_time": "2022-08-03T18:02:50.410591",
     "exception": false,
     "start_time": "2022-08-03T18:02:50.225752",
     "status": "completed"
    },
    "tags": []
   },
   "source": [
    "##### Predict LST model on padded test set."
   ]
  },
  {
   "cell_type": "code",
   "execution_count": 18,
   "id": "8130f104",
   "metadata": {
    "execution": {
     "iopub.execute_input": "2022-08-03T18:02:50.771924Z",
     "iopub.status.busy": "2022-08-03T18:02:50.771561Z",
     "iopub.status.idle": "2022-08-03T18:02:51.709897Z",
     "shell.execute_reply": "2022-08-03T18:02:51.708858Z"
    },
    "papermill": {
     "duration": 1.118096,
     "end_time": "2022-08-03T18:02:51.711929",
     "exception": false,
     "start_time": "2022-08-03T18:02:50.593833",
     "status": "completed"
    },
    "tags": []
   },
   "outputs": [
    {
     "name": "stdout",
     "output_type": "stream",
     "text": [
      "[[0.6014005  0.01232192 0.38627756]\n",
      " [0.712948   0.12984371 0.15720825]\n",
      " [0.7927905  0.02152188 0.18568762]\n",
      " ...\n",
      " [0.785922   0.15048055 0.06359745]\n",
      " [0.5016654  0.49381903 0.00451554]\n",
      " [0.7096211  0.13878255 0.15159643]]\n"
     ]
    }
   ],
   "source": [
    "y_predict = lst_mod.predict(pad_test, verbose=0)\n",
    "print(y_predict)"
   ]
  },
  {
   "cell_type": "markdown",
   "id": "3a27fa61",
   "metadata": {
    "papermill": {
     "duration": 0.181153,
     "end_time": "2022-08-03T18:02:52.071696",
     "exception": false,
     "start_time": "2022-08-03T18:02:51.890543",
     "status": "completed"
    },
    "tags": []
   },
   "source": [
    "#### Confusion matrix "
   ]
  },
  {
   "cell_type": "code",
   "execution_count": 19,
   "id": "a3f5f211",
   "metadata": {
    "execution": {
     "iopub.execute_input": "2022-08-03T18:02:52.427657Z",
     "iopub.status.busy": "2022-08-03T18:02:52.426628Z",
     "iopub.status.idle": "2022-08-03T18:02:52.446442Z",
     "shell.execute_reply": "2022-08-03T18:02:52.444919Z"
    },
    "papermill": {
     "duration": 0.201579,
     "end_time": "2022-08-03T18:02:52.448591",
     "exception": false,
     "start_time": "2022-08-03T18:02:52.247012",
     "status": "completed"
    },
    "tags": []
   },
   "outputs": [
    {
     "name": "stdout",
     "output_type": "stream",
     "text": [
      "[[1729  244  125]\n",
      " [ 447  478    8]\n",
      " [ 506   46   94]]\n",
      "0.6257818874082132\n",
      "              precision    recall  f1-score   support\n",
      "\n",
      "           0       0.64      0.82      0.72      2098\n",
      "           1       0.62      0.51      0.56       933\n",
      "           2       0.41      0.15      0.22       646\n",
      "\n",
      "    accuracy                           0.63      3677\n",
      "   macro avg       0.56      0.49      0.50      3677\n",
      "weighted avg       0.60      0.63      0.59      3677\n",
      "\n"
     ]
    }
   ],
   "source": [
    "import sklearn.metrics as metrics\n",
    "from sklearn.metrics import classification_report,confusion_matrix,accuracy_score\n",
    "test_cm = metrics.confusion_matrix(y_test.argmax(axis=1), y_predict.argmax(axis=1))\n",
    "print(test_cm)\n",
    "test_score = metrics.accuracy_score(y_test.argmax(axis=1), y_predict.argmax(axis=1))\n",
    "print(test_score)\n",
    "test_report = metrics.classification_report(y_test.argmax(axis=1), y_predict.argmax(axis=1))\n",
    "print(test_report)\n"
   ]
  },
  {
   "cell_type": "markdown",
   "id": "4331a9ab",
   "metadata": {
    "papermill": {
     "duration": 0.180824,
     "end_time": "2022-08-03T18:02:52.849364",
     "exception": false,
     "start_time": "2022-08-03T18:02:52.668540",
     "status": "completed"
    },
    "tags": []
   },
   "source": [
    "It can be seen that basesd on classification report, 0: 'Adequate' has the highest overall accuracy in terms of precision (actual true positive ouf of predicted positive), recall (true positive rate) and f1-score (mean of precision and recall, taking consideration of false positive and false negatives)\n",
    "\n",
    "It can also be observed that 'Adequate' has the highest number of observations supporting its accuracy.\n",
    "\n",
    "Followed by 1:'Effective' with the second highest accuracy and 2: 'Ineffective' as the least overall accuracy. \n"
   ]
  },
  {
   "cell_type": "markdown",
   "id": "a4c5408d",
   "metadata": {
    "papermill": {
     "duration": 0.176182,
     "end_time": "2022-08-03T18:02:53.203356",
     "exception": false,
     "start_time": "2022-08-03T18:02:53.027174",
     "status": "completed"
    },
    "tags": []
   },
   "source": [
    "#### Visualize Confusion Matrix"
   ]
  },
  {
   "cell_type": "code",
   "execution_count": 20,
   "id": "9bf15794",
   "metadata": {
    "execution": {
     "iopub.execute_input": "2022-08-03T18:02:53.561408Z",
     "iopub.status.busy": "2022-08-03T18:02:53.560988Z",
     "iopub.status.idle": "2022-08-03T18:02:53.844390Z",
     "shell.execute_reply": "2022-08-03T18:02:53.843168Z"
    },
    "papermill": {
     "duration": 0.467011,
     "end_time": "2022-08-03T18:02:53.846770",
     "exception": false,
     "start_time": "2022-08-03T18:02:53.379759",
     "status": "completed"
    },
    "tags": []
   },
   "outputs": [
    {
     "data": {
      "image/png": "[encoded data removed]",
      "text/plain": [
       "<Figure size 720x576 with 2 Axes>"
      ]
     },
     "metadata": {},
     "output_type": "display_data"
    }
   ],
   "source": [
    "test_cm = pd.DataFrame(test_cm, range(3), range(3))\n",
    "plt.figure(figsize = (10,8))\n",
    "sns.set(font_scale=2)\n",
    "sns.heatmap(test_cm, annot=True, annot_kws={\"size\": 21},fmt='d')\n",
    "plt.show()"
   ]
  },
  {
   "cell_type": "markdown",
   "id": "c589f678",
   "metadata": {
    "papermill": {
     "duration": 0.178236,
     "end_time": "2022-08-03T18:02:54.202846",
     "exception": false,
     "start_time": "2022-08-03T18:02:54.024610",
     "status": "completed"
    },
    "tags": []
   },
   "source": [
    "#### Rename columns and Export final test.csv dataset for submission.\n"
   ]
  },
  {
   "cell_type": "code",
   "execution_count": 21,
   "id": "e88dac8a",
   "metadata": {
    "execution": {
     "iopub.execute_input": "2022-08-03T18:02:54.562256Z",
     "iopub.status.busy": "2022-08-03T18:02:54.561864Z",
     "iopub.status.idle": "2022-08-03T18:02:54.599253Z",
     "shell.execute_reply": "2022-08-03T18:02:54.597099Z"
    },
    "papermill": {
     "duration": 0.219626,
     "end_time": "2022-08-03T18:02:54.602768",
     "exception": false,
     "start_time": "2022-08-03T18:02:54.383142",
     "status": "completed"
    },
    "tags": []
   },
   "outputs": [
    {
     "name": "stdout",
     "output_type": "stream",
     "text": [
      "      discourse_id  Adequate  Effective  Ineffective\n",
      "0     0013cc385424  0.601400   0.012322     0.386278\n",
      "1     9704a709b505  0.712948   0.129844     0.157208\n",
      "2     c22adee811b6  0.792790   0.021522     0.185688\n",
      "3     a10d361e54e4  0.462269   0.506121     0.031610\n",
      "4     db3e453ec4e2  0.597122   0.020138     0.382741\n",
      "...            ...       ...        ...          ...\n",
      "3672  643277623c55  0.005922   0.993987     0.000090\n",
      "3673  f315ff556868  0.597889   0.369200     0.032911\n",
      "3674  7a3aef0cfc2d  0.785922   0.150481     0.063597\n",
      "3675  09cc9d107416  0.501665   0.493819     0.004516\n",
      "3676  13290ff2b629  0.709621   0.138783     0.151596\n",
      "\n",
      "[3677 rows x 4 columns]\n"
     ]
    }
   ],
   "source": [
    "df_test_predict = pd.DataFrame(y_predict, columns=['Adequate','Effective','Ineffective'])\n",
    "final_test_dataset = pd.merge(df_feeds, df_test_predict, how = 'right', left_index= True ,right_index =True)\n",
    "final_test_dataset = final_test_dataset[['discourse_id', 'Adequate_y', 'Effective_y','Ineffective_y']]\n",
    "final_test_dataset.rename(columns={'Adequate_y' : 'Adequate', 'Effective_y' : 'Effective', 'Ineffective_y' : 'Ineffective'}, inplace=True)\n",
    "final_test_dataset.to_csv('submission.csv', index=False)\n",
    "print(final_test_dataset)"
   ]
  }
 ],
 "metadata": {
  "kernelspec": {
   "display_name": "Python 3",
   "language": "python",
   "name": "python3"
  },
  "language_info": {
   "codemirror_mode": {
    "name": "ipython",
    "version": 3
   },
   "file_extension": ".py",
   "mimetype": "text/x-python",
   "name": "python",
   "nbconvert_exporter": "python",
   "pygments_lexer": "ipython3",
   "version": "3.7.12"
  },
  "papermill": {
   "default_parameters": {},
   "duration": 250.624743,
   "end_time": "2022-08-03T18:02:57.558506",
   "environment_variables": {},
   "exception": null,
   "input_path": "__notebook__.ipynb",
   "output_path": "__notebook__.ipynb",
   "parameters": {},
   "start_time": "2022-08-03T17:58:46.933763",
   "version": "2.3.4"
  }
 },
 "nbformat": 4,
 "nbformat_minor": 5
}
