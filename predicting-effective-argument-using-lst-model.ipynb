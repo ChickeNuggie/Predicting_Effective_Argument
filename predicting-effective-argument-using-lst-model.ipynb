{
 "cells": [
  {
   "cell_type": "markdown",
   "id": "9533bca1",
   "metadata": {
    "papermill": {
     "duration": 0.007417,
     "end_time": "2022-08-02T15:23:48.892162",
     "exception": false,
     "start_time": "2022-08-02T15:23:48.884745",
     "status": "completed"
    },
    "tags": []
   },
   "source": [
    "### Load the dataset from kaggle's data directory.\n",
    "Check the working directory of kaggle's dataset and load its train dataset."
   ]
  },
  {
   "cell_type": "code",
   "execution_count": 1,
   "id": "a03e31ff",
   "metadata": {
    "execution": {
     "iopub.execute_input": "2022-08-02T15:23:48.907465Z",
     "iopub.status.busy": "2022-08-02T15:23:48.906193Z",
     "iopub.status.idle": "2022-08-02T15:23:48.921534Z",
     "shell.execute_reply": "2022-08-02T15:23:48.920485Z"
    },
    "papermill": {
     "duration": 0.025794,
     "end_time": "2022-08-02T15:23:48.924380",
     "exception": false,
     "start_time": "2022-08-02T15:23:48.898586",
     "status": "completed"
    },
    "tags": []
   },
   "outputs": [
    {
     "data": {
      "text/plain": [
       "['sample_submission.csv', 'train.csv', 'test.csv', 'test', 'train']"
      ]
     },
     "execution_count": 1,
     "metadata": {},
     "output_type": "execute_result"
    }
   ],
   "source": [
    "import os\n",
    "os.listdir('/kaggle/input/feedback-prize-effectiveness')"
   ]
  },
  {
   "cell_type": "code",
   "execution_count": 2,
   "id": "ff5ff167",
   "metadata": {
    "execution": {
     "iopub.execute_input": "2022-08-02T15:23:48.938306Z",
     "iopub.status.busy": "2022-08-02T15:23:48.938013Z",
     "iopub.status.idle": "2022-08-02T15:23:50.597538Z",
     "shell.execute_reply": "2022-08-02T15:23:50.596481Z"
    },
    "papermill": {
     "duration": 1.669824,
     "end_time": "2022-08-02T15:23:50.600581",
     "exception": false,
     "start_time": "2022-08-02T15:23:48.930757",
     "status": "completed"
    },
    "tags": []
   },
   "outputs": [],
   "source": [
    "import numpy as np\n",
    "import pandas as pd\n",
    "from sklearn.model_selection import train_test_split, GridSearchCV \n",
    "\n",
    "\n",
    "df_feeds = pd.read_csv(\"../input/feedback-prize-effectiveness/train.csv\")\n",
    "df_feeds['discourse_text'].isnull().sum() # checks for NAs\n",
    "\n",
    "import string\n",
    "string.punctuation \n",
    "import re\n",
    "from nltk.corpus import stopwords\n",
    "from collections import Counter\n",
    "from itertools import chain"
   ]
  },
  {
   "cell_type": "markdown",
   "id": "02a83bef",
   "metadata": {
    "papermill": {
     "duration": 0.010034,
     "end_time": "2022-08-02T15:23:50.621987",
     "exception": false,
     "start_time": "2022-08-02T15:23:50.611953",
     "status": "completed"
    },
    "tags": []
   },
   "source": [
    "### Data pre-processing\n",
    "\n",
    "Remove stopwords from corpus stopwords dictionary to prevent commonly used language or text such as 'a', 'the', etc, that may affect the predictive performance."
   ]
  },
  {
   "cell_type": "code",
   "execution_count": 3,
   "id": "c2211459",
   "metadata": {
    "execution": {
     "iopub.execute_input": "2022-08-02T15:23:50.643709Z",
     "iopub.status.busy": "2022-08-02T15:23:50.643228Z",
     "iopub.status.idle": "2022-08-02T15:23:51.616366Z",
     "shell.execute_reply": "2022-08-02T15:23:51.615306Z"
    },
    "papermill": {
     "duration": 0.986499,
     "end_time": "2022-08-02T15:23:51.618665",
     "exception": false,
     "start_time": "2022-08-02T15:23:50.632166",
     "status": "completed"
    },
    "tags": []
   },
   "outputs": [
    {
     "name": "stdout",
     "output_type": "stream",
     "text": [
      "0        hi  i m isaac  i m going to be writing about h...\n",
      "1        on my perspective  i think that the face is a ...\n",
      "2        i think that the face is a natural landform be...\n",
      "3        if life was on mars  we would know by now  the...\n",
      "4        people thought that the face was formed by ali...\n",
      "                               ...                        \n",
      "36760    for many people they don t like only asking on...\n",
      "36761    also people have different views and opinions ...\n",
      "36762    advice is something that can impact a persons ...\n",
      "36763    someone can use everything that many people sa...\n",
      "36764    in conclusion asking for an opinion can be ben...\n",
      "Name: discourse_text, Length: 36765, dtype: object\n"
     ]
    }
   ],
   "source": [
    "stop = set(stopwords.words('english')) \n",
    "df_feeds['discourse_text'].replace(\"[^a-zA-Z]\",\" \", regex=True, inplace =True)  # match strings that contains non-letter and replace with black to remove string.punctuations.\n",
    "df_feeds['discourse_text'] = df_feeds['discourse_text'].str.lower() # converts strings to lower case.\n",
    "print(df_feeds['discourse_text'])\n",
    "df_feeds['discourse_text'] = df_feeds['discourse_text'].apply(lambda x: [item for item in str(x).split() if item not in stop])\n",
    "freq = pd.Series(Counter(chain.from_iterable(df_feeds['discourse_text']))).sort_values(ascending=False) # count the frequencies of words."
   ]
  },
  {
   "cell_type": "markdown",
   "id": "7cfc021c",
   "metadata": {
    "papermill": {
     "duration": 0.006633,
     "end_time": "2022-08-02T15:23:51.632322",
     "exception": false,
     "start_time": "2022-08-02T15:23:51.625689",
     "status": "completed"
    },
    "tags": []
   },
   "source": [
    "#### Lemmatize all tokens into a new list to prevent overfitting of dataset when verb, nouns, adverb or adjectives are not as concerning on the impact of effectiveness of an argument."
   ]
  },
  {
   "cell_type": "code",
   "execution_count": 4,
   "id": "10487e38",
   "metadata": {
    "execution": {
     "iopub.execute_input": "2022-08-02T15:23:51.650364Z",
     "iopub.status.busy": "2022-08-02T15:23:51.648835Z",
     "iopub.status.idle": "2022-08-02T15:24:05.733470Z",
     "shell.execute_reply": "2022-08-02T15:24:05.732482Z"
    },
    "papermill": {
     "duration": 14.094299,
     "end_time": "2022-08-02T15:24:05.735842",
     "exception": false,
     "start_time": "2022-08-02T15:23:51.641543",
     "status": "completed"
    },
    "tags": []
   },
   "outputs": [
    {
     "name": "stderr",
     "output_type": "stream",
     "text": [
      "[nltk_data] Downloading package omw-1.4 to /usr/share/nltk_data...\n"
     ]
    }
   ],
   "source": [
    "import nltk\n",
    "nltk.download('omw-1.4') #if error persist from ntlk libaries.\n",
    "from nltk.stem import WordNetLemmatizer\n",
    "from nltk.tokenize import word_tokenize\n",
    "from nltk import word_tokenize\n",
    "wordnet_lem = WordNetLemmatizer()\n",
    "df_feeds['discourse_text'] = df_feeds['discourse_text'].apply(\n",
    "                    lambda lst:[wordnet_lem.lemmatize(word, pos='v') for word in lst])\n",
    "df_feeds['discourse_text'] = df_feeds['discourse_text'].apply(\n",
    "                    lambda lst:[wordnet_lem.lemmatize(word, pos='n') for word in lst])\n",
    "df_feeds['discourse_text'] = df_feeds['discourse_text'].apply(\n",
    "                    lambda lst:[wordnet_lem.lemmatize(word, pos='r') for word in lst])\n",
    "df_feeds['discourse_text'] = df_feeds['discourse_text'].apply(\n",
    "                    lambda lst:[wordnet_lem.lemmatize(word, pos='a') for word in lst])\n",
    "freq_final = pd.Series(Counter(chain.from_iterable(df_feeds['discourse_text']))).sort_values(ascending=False)\n"
   ]
  },
  {
   "cell_type": "markdown",
   "id": "2546fc7c",
   "metadata": {
    "papermill": {
     "duration": 0.006304,
     "end_time": "2022-08-02T15:24:05.749872",
     "exception": false,
     "start_time": "2022-08-02T15:24:05.743568",
     "status": "completed"
    },
    "tags": []
   },
   "source": [
    "#### Visualize top 30 word frequencies. "
   ]
  },
  {
   "cell_type": "code",
   "execution_count": 5,
   "id": "48f4e46b",
   "metadata": {
    "execution": {
     "iopub.execute_input": "2022-08-02T15:24:05.764808Z",
     "iopub.status.busy": "2022-08-02T15:24:05.763871Z",
     "iopub.status.idle": "2022-08-02T15:24:06.322563Z",
     "shell.execute_reply": "2022-08-02T15:24:06.321600Z"
    },
    "papermill": {
     "duration": 0.568275,
     "end_time": "2022-08-02T15:24:06.324739",
     "exception": false,
     "start_time": "2022-08-02T15:24:05.756464",
     "status": "completed"
    },
    "tags": []
   },
   "outputs": [
    {
     "data": {
      "image/png": "[encoded data removed]",
      "text/plain": [
       "<Figure size 576x432 with 1 Axes>"
      ]
     },
     "metadata": {
      "needs_background": "light"
     },
     "output_type": "display_data"
    }
   ],
   "source": [
    "import seaborn as sns \n",
    "import matplotlib.pyplot as plt\n",
    "top_words = freq_final.head(30).reset_index()\n",
    "\n",
    "sns.reset_orig()\n",
    "plt.figure(figsize = (8,6))\n",
    "my_palette = sns.color_palette(\"colorblind\") # variations of default palette: deep, muted, pastel, bright, dark, colorblind. \n",
    "plt.style.use('seaborn-colorblind')\n",
    "sns.set(rc={'figure.figsize':(10,5)})\n",
    "sns.barplot(x=top_words.iloc[:,1], y=top_words.iloc[:,0],data=top_words , alpha = 0.6).set_title('Top 20 count of word frequencies')\n",
    "plt.xlabel('Frequencies')\n",
    "plt.ylabel('Words')\n",
    "plt.show()"
   ]
  },
  {
   "cell_type": "markdown",
   "id": "883ee48b",
   "metadata": {
    "papermill": {
     "duration": 0.006754,
     "end_time": "2022-08-02T15:24:06.338644",
     "exception": false,
     "start_time": "2022-08-02T15:24:06.331890",
     "status": "completed"
    },
    "tags": []
   },
   "source": [
    "#### Visualize the dataset to determine if data is normal distributed."
   ]
  },
  {
   "cell_type": "code",
   "execution_count": 6,
   "id": "7f6d11ac",
   "metadata": {
    "execution": {
     "iopub.execute_input": "2022-08-02T15:24:06.353884Z",
     "iopub.status.busy": "2022-08-02T15:24:06.353587Z",
     "iopub.status.idle": "2022-08-02T15:24:06.365234Z",
     "shell.execute_reply": "2022-08-02T15:24:06.363619Z"
    },
    "papermill": {
     "duration": 0.021369,
     "end_time": "2022-08-02T15:24:06.367279",
     "exception": false,
     "start_time": "2022-08-02T15:24:06.345910",
     "status": "completed"
    },
    "tags": []
   },
   "outputs": [
    {
     "name": "stdout",
     "output_type": "stream",
     "text": [
      "Adequate       20977\n",
      "Effective       9326\n",
      "Ineffective     6462\n",
      "Name: discourse_effectiveness, dtype: int64\n",
      "\n",
      "Predicting only 0 = 57.06% accuracy\n",
      "\n",
      "Predicting only 1 = 25.37% accuracy\n",
      "\n",
      "Predicting only 2 = 17.58% accuracy\n"
     ]
    }
   ],
   "source": [
    "counts = df_feeds.discourse_effectiveness.value_counts()\n",
    "print(counts)\n",
    "print(\"\\nPredicting only 0 = {:.2f}% accuracy\".format(counts[0] / sum(counts) * 100))\n",
    "print(\"\\nPredicting only 1 = {:.2f}% accuracy\".format(counts[1] / sum(counts) * 100))\n",
    "print(\"\\nPredicting only 2 = {:.2f}% accuracy\".format(counts[2] / sum(counts) * 100))"
   ]
  },
  {
   "cell_type": "code",
   "execution_count": 7,
   "id": "5ecb6254",
   "metadata": {
    "execution": {
     "iopub.execute_input": "2022-08-02T15:24:06.382144Z",
     "iopub.status.busy": "2022-08-02T15:24:06.381880Z",
     "iopub.status.idle": "2022-08-02T15:24:06.584733Z",
     "shell.execute_reply": "2022-08-02T15:24:06.583781Z"
    },
    "papermill": {
     "duration": 0.212797,
     "end_time": "2022-08-02T15:24:06.586883",
     "exception": false,
     "start_time": "2022-08-02T15:24:06.374086",
     "status": "completed"
    },
    "tags": []
   },
   "outputs": [
    {
     "data": {
      "image/png": "[encoded data removed]",
      "text/plain": [
       "<Figure size 720x360 with 1 Axes>"
      ]
     },
     "metadata": {},
     "output_type": "display_data"
    }
   ],
   "source": [
    "df_counts = pd.DataFrame(counts).reset_index()\n",
    "plt.figure(figsize = (10,5))\n",
    "sns.barplot(x=df_counts['index'],y=df_counts['discourse_effectiveness'],data=df_counts,alpha = 0.6).set_title('Total count of Effectiveness')\n",
    "plt.xlabel('Effectiveness')\n",
    "plt.ylabel('Count')\n",
    "plt.show()"
   ]
  },
  {
   "cell_type": "markdown",
   "id": "a4b51a58",
   "metadata": {
    "papermill": {
     "duration": 0.006915,
     "end_time": "2022-08-02T15:24:06.601018",
     "exception": false,
     "start_time": "2022-08-02T15:24:06.594103",
     "status": "completed"
    },
    "tags": []
   },
   "source": [
    "It can be observed that there are more Adequate feedbacks than Effective and Ineffective, indicating that the data may be imbalanced and may be prone to lower prediction accuracy. "
   ]
  },
  {
   "cell_type": "markdown",
   "id": "1524c2ca",
   "metadata": {
    "papermill": {
     "duration": 0.006842,
     "end_time": "2022-08-02T15:24:06.614958",
     "exception": false,
     "start_time": "2022-08-02T15:24:06.608116",
     "status": "completed"
    },
    "tags": []
   },
   "source": [
    "#### One-hot-encoding by creating dummies to categorical data."
   ]
  },
  {
   "cell_type": "code",
   "execution_count": 8,
   "id": "18ce9a52",
   "metadata": {
    "execution": {
     "iopub.execute_input": "2022-08-02T15:24:06.630505Z",
     "iopub.status.busy": "2022-08-02T15:24:06.630202Z",
     "iopub.status.idle": "2022-08-02T15:24:06.641115Z",
     "shell.execute_reply": "2022-08-02T15:24:06.640284Z"
    },
    "papermill": {
     "duration": 0.021144,
     "end_time": "2022-08-02T15:24:06.643158",
     "exception": false,
     "start_time": "2022-08-02T15:24:06.622014",
     "status": "completed"
    },
    "tags": []
   },
   "outputs": [],
   "source": [
    "df_effects = pd.get_dummies(df_feeds.iloc[:,4])\n",
    "df_feeds = pd.concat([df_feeds, df_effects], axis=1) # combine dummy rows."
   ]
  },
  {
   "cell_type": "markdown",
   "id": "f8360b18",
   "metadata": {
    "papermill": {
     "duration": 0.006889,
     "end_time": "2022-08-02T15:24:06.657202",
     "exception": false,
     "start_time": "2022-08-02T15:24:06.650313",
     "status": "completed"
    },
    "tags": []
   },
   "source": [
    "#### Train-test validation approach."
   ]
  },
  {
   "cell_type": "code",
   "execution_count": 9,
   "id": "44b94eef",
   "metadata": {
    "execution": {
     "iopub.execute_input": "2022-08-02T15:24:06.673346Z",
     "iopub.status.busy": "2022-08-02T15:24:06.673014Z",
     "iopub.status.idle": "2022-08-02T15:24:06.712118Z",
     "shell.execute_reply": "2022-08-02T15:24:06.711267Z"
    },
    "papermill": {
     "duration": 0.049556,
     "end_time": "2022-08-02T15:24:06.714086",
     "exception": false,
     "start_time": "2022-08-02T15:24:06.664530",
     "status": "completed"
    },
    "tags": []
   },
   "outputs": [],
   "source": [
    "X_train, X_test, y_train, y_test = train_test_split(df_feeds['discourse_text'].values, df_feeds[['Adequate', 'Effective','Ineffective']].values, stratify=df_feeds['discourse_effectiveness'],test_size=0.1, random_state=100)"
   ]
  },
  {
   "cell_type": "markdown",
   "id": "35cf7a26",
   "metadata": {
    "papermill": {
     "duration": 0.006956,
     "end_time": "2022-08-02T15:24:06.728077",
     "exception": false,
     "start_time": "2022-08-02T15:24:06.721121",
     "status": "completed"
    },
    "tags": []
   },
   "source": [
    "#### Tokenize 500 most common words to prevent overftitting from noise text that least occur."
   ]
  },
  {
   "cell_type": "code",
   "execution_count": 10,
   "id": "a1ac7d49",
   "metadata": {
    "execution": {
     "iopub.execute_input": "2022-08-02T15:24:06.743668Z",
     "iopub.status.busy": "2022-08-02T15:24:06.743371Z",
     "iopub.status.idle": "2022-08-02T15:24:13.311505Z",
     "shell.execute_reply": "2022-08-02T15:24:13.310470Z"
    },
    "papermill": {
     "duration": 6.578348,
     "end_time": "2022-08-02T15:24:13.313845",
     "exception": false,
     "start_time": "2022-08-02T15:24:06.735497",
     "status": "completed"
    },
    "tags": []
   },
   "outputs": [],
   "source": [
    "from tensorflow.keras.preprocessing.text import Tokenizer\n",
    "from tensorflow.keras.preprocessing.sequence import pad_sequences\n",
    "tokenizer = Tokenizer(num_words=500, oov_token='x')\n",
    "word_index = tokenizer.word_index\n",
    "count_words = tokenizer.word_counts\n",
    "tokenizer.fit_on_texts(X_train) \n",
    "tokenizer.fit_on_texts(X_test)\n",
    "seq_train = tokenizer.texts_to_sequences(X_train)\n",
    "seq_test = tokenizer.texts_to_sequences(X_test)\n",
    "pad_train = pad_sequences(seq_train) \n",
    "pad_test = pad_sequences(seq_test)"
   ]
  },
  {
   "cell_type": "markdown",
   "id": "554cc7ba",
   "metadata": {
    "papermill": {
     "duration": 0.006965,
     "end_time": "2022-08-02T15:24:13.328298",
     "exception": false,
     "start_time": "2022-08-02T15:24:13.321333",
     "status": "completed"
    },
    "tags": []
   },
   "source": [
    "#### Shuffle train set after splitting to improve or avoid overfitting and ensure data are representatives.\n"
   ]
  },
  {
   "cell_type": "code",
   "execution_count": 11,
   "id": "55c69634",
   "metadata": {
    "execution": {
     "iopub.execute_input": "2022-08-02T15:24:13.344114Z",
     "iopub.status.busy": "2022-08-02T15:24:13.343564Z",
     "iopub.status.idle": "2022-08-02T15:24:13.373978Z",
     "shell.execute_reply": "2022-08-02T15:24:13.372114Z"
    },
    "papermill": {
     "duration": 0.040921,
     "end_time": "2022-08-02T15:24:13.376243",
     "exception": false,
     "start_time": "2022-08-02T15:24:13.335322",
     "status": "completed"
    },
    "tags": []
   },
   "outputs": [
    {
     "name": "stdout",
     "output_type": "stream",
     "text": [
      "[   0    0    0    0    0    0    0    0    0    0    0    0    0    0\n",
      "    0    0    0    0    0    0    0    0    0    0    0    0    0    0\n",
      "    0    0    0    0    0    0    0    0    0    0    0    0    0    0\n",
      "    0    0    0    0    0    0    0    0    0    0    0    0    0    0\n",
      "    0    0    0    0    0    0    0    0    0    0    0    0    0    0\n",
      "    0    0    0    0    0    0    0    0    0    0    0    0    0    0\n",
      "    0    0    0    0    0    0    0    0    0    0    0    0    0    0\n",
      "    0    0    0    0    0    0    0    0    0    0    0    0    0    0\n",
      "    0    0    0    0    0    0    0    0    0    0    0    0    0    0\n",
      "    0    0    0    0    0    0    0    0    0    0    0    0    0    0\n",
      "    0    0    0    0    0    0    0    0    0    0    0    0    0    0\n",
      "    0    0    0    0    0    0    0    0    0    0    0    0    0    0\n",
      "    0    0    0    0    0    0    0    0    0    0    0    0    0    0\n",
      "    0    0    0    0    0    0    0    0    0    0    0    0    0    0\n",
      "    0    0    0    0    0    0    0    0    0    0    0    0    0    0\n",
      "    0    0    0    0    0    0    0    0    0    0    0    0    0    0\n",
      "    0    0    0    0    0    0    0    0    0    0    0    0    0    0\n",
      "    0    0    0    0    0    0    0    0    0    0    0    0    0    0\n",
      "    0    0    0    0    0    0    0    0    0    0    0    0    0    0\n",
      "    0    0    0    0    0    0    0    0    0    0    0    0    0    0\n",
      "    0    0    0    0    0    0    0    0    0    0    0    0    0    0\n",
      "    0    0    0    0    0    0    0    0    0    0    0    0    0    0\n",
      "    0    0    0    0    0    0    0    0    0    0    0    0    0    0\n",
      "    0    0    0    0    0    0    0  113   18    2  239  259 2821 2821\n",
      " 2821  244   19    7    2 2821    6    2   44  135   29    3   20  365\n",
      "    6  255    4 2821   29  209   68   23 2821 2821 2821   12   34    4\n",
      "   44  194  153 2821    3    4 2821 2821 2821]\n"
     ]
    }
   ],
   "source": [
    "from sklearn.utils import shuffle\n",
    "pad_train, y_train = shuffle(pad_train, y_train)\n",
    "print(pad_train[9])"
   ]
  },
  {
   "cell_type": "markdown",
   "id": "fb7bad5e",
   "metadata": {
    "papermill": {
     "duration": 0.007334,
     "end_time": "2022-08-02T15:24:13.390992",
     "exception": false,
     "start_time": "2022-08-02T15:24:13.383658",
     "status": "completed"
    },
    "tags": []
   },
   "source": [
    "### Creating LST model to predict effectiveness of arguments.\n",
    "Create LST model and add neuron layers to easily define relationship of the output classess. Last layer based on number of desired categorical/classes output of interest.\n",
    "\n",
    "Linear regularization used in optimizer settings to prevent overfitting of data."
   ]
  },
  {
   "cell_type": "code",
   "execution_count": 12,
   "id": "abffb888",
   "metadata": {
    "execution": {
     "iopub.execute_input": "2022-08-02T15:24:13.407299Z",
     "iopub.status.busy": "2022-08-02T15:24:13.406978Z",
     "iopub.status.idle": "2022-08-02T15:24:16.821339Z",
     "shell.execute_reply": "2022-08-02T15:24:16.820149Z"
    },
    "papermill": {
     "duration": 3.425087,
     "end_time": "2022-08-02T15:24:16.823891",
     "exception": false,
     "start_time": "2022-08-02T15:24:13.398804",
     "status": "completed"
    },
    "tags": []
   },
   "outputs": [
    {
     "name": "stderr",
     "output_type": "stream",
     "text": [
      "2022-08-02 15:24:13.512042: I tensorflow/stream_executor/cuda/cuda_gpu_executor.cc:937] successful NUMA node read from SysFS had negative value (-1), but there must be at least one NUMA node, so returning NUMA node zero\n",
      "2022-08-02 15:24:13.622872: I tensorflow/stream_executor/cuda/cuda_gpu_executor.cc:937] successful NUMA node read from SysFS had negative value (-1), but there must be at least one NUMA node, so returning NUMA node zero\n",
      "2022-08-02 15:24:13.623721: I tensorflow/stream_executor/cuda/cuda_gpu_executor.cc:937] successful NUMA node read from SysFS had negative value (-1), but there must be at least one NUMA node, so returning NUMA node zero\n",
      "2022-08-02 15:24:13.625726: I tensorflow/core/platform/cpu_feature_guard.cc:142] This TensorFlow binary is optimized with oneAPI Deep Neural Network Library (oneDNN) to use the following CPU instructions in performance-critical operations:  AVX2 AVX512F FMA\n",
      "To enable them in other operations, rebuild TensorFlow with the appropriate compiler flags.\n",
      "2022-08-02 15:24:13.626064: I tensorflow/stream_executor/cuda/cuda_gpu_executor.cc:937] successful NUMA node read from SysFS had negative value (-1), but there must be at least one NUMA node, so returning NUMA node zero\n",
      "2022-08-02 15:24:13.626854: I tensorflow/stream_executor/cuda/cuda_gpu_executor.cc:937] successful NUMA node read from SysFS had negative value (-1), but there must be at least one NUMA node, so returning NUMA node zero\n",
      "2022-08-02 15:24:13.627545: I tensorflow/stream_executor/cuda/cuda_gpu_executor.cc:937] successful NUMA node read from SysFS had negative value (-1), but there must be at least one NUMA node, so returning NUMA node zero\n",
      "2022-08-02 15:24:15.873687: I tensorflow/stream_executor/cuda/cuda_gpu_executor.cc:937] successful NUMA node read from SysFS had negative value (-1), but there must be at least one NUMA node, so returning NUMA node zero\n",
      "2022-08-02 15:24:15.874583: I tensorflow/stream_executor/cuda/cuda_gpu_executor.cc:937] successful NUMA node read from SysFS had negative value (-1), but there must be at least one NUMA node, so returning NUMA node zero\n",
      "2022-08-02 15:24:15.875256: I tensorflow/stream_executor/cuda/cuda_gpu_executor.cc:937] successful NUMA node read from SysFS had negative value (-1), but there must be at least one NUMA node, so returning NUMA node zero\n",
      "2022-08-02 15:24:15.875931: I tensorflow/core/common_runtime/gpu/gpu_device.cc:1510] Created device /job:localhost/replica:0/task:0/device:GPU:0 with 15403 MB memory:  -> device: 0, name: Tesla P100-PCIE-16GB, pci bus id: 0000:00:04.0, compute capability: 6.0\n"
     ]
    },
    {
     "name": "stdout",
     "output_type": "stream",
     "text": [
      "Model: \"sequential\"\n",
      "_________________________________________________________________\n",
      "Layer (type)                 Output Shape              Param #   \n",
      "=================================================================\n",
      "embedding (Embedding)        (None, None, 100)         300000    \n",
      "_________________________________________________________________\n",
      "spatial_dropout1d (SpatialDr (None, None, 100)         0         \n",
      "_________________________________________________________________\n",
      "lstm (LSTM)                  (None, 128)               117248    \n",
      "_________________________________________________________________\n",
      "dense (Dense)                (None, 128)               16512     \n",
      "_________________________________________________________________\n",
      "dense_1 (Dense)              (None, 128)               16512     \n",
      "_________________________________________________________________\n",
      "dropout (Dropout)            (None, 128)               0         \n",
      "_________________________________________________________________\n",
      "dense_2 (Dense)              (None, 128)               16512     \n",
      "_________________________________________________________________\n",
      "dense_3 (Dense)              (None, 64)                8256      \n",
      "_________________________________________________________________\n",
      "dense_4 (Dense)              (None, 64)                4160      \n",
      "_________________________________________________________________\n",
      "dropout_1 (Dropout)          (None, 64)                0         \n",
      "_________________________________________________________________\n",
      "dense_5 (Dense)              (None, 3)                 195       \n",
      "=================================================================\n",
      "Total params: 479,395\n",
      "Trainable params: 479,395\n",
      "Non-trainable params: 0\n",
      "_________________________________________________________________\n"
     ]
    }
   ],
   "source": [
    "import tensorflow as tf\n",
    "from tensorflow.keras import regularizers\n",
    "import keras\n",
    "from keras.callbacks import EarlyStopping\n",
    "from tensorflow.keras.models import Sequential \n",
    "import tensorflow\n",
    "from tensorflow.keras.layers import Dropout\n",
    "\n",
    "# Create LST model and add neuron layers to easily define relationship of the output classess. Last layer based on number of desired categorical/classes output of interest.\n",
    "# Linear regularization used in optimizer settings to prevent overfitting of data.\n",
    "lst_mod = tf.keras.Sequential([\n",
    "    tf.keras.layers.Embedding(input_dim=3000, output_dim=100),\n",
    "    tf.keras.layers.SpatialDropout1D(0.3),\n",
    "    tf.keras.layers.LSTM(128),\n",
    "    tf.keras.layers.Dense(128, activation='relu'),\n",
    "    tf.keras.layers.Dense(128, activation='relu'),\n",
    "    tf.keras.layers.Dropout(0.3),\n",
    "    tf.keras.layers.Dense(128, activation='relu'),\n",
    "    tf.keras.layers.Dense(64, activation='relu'),\n",
    "    tf.keras.layers.Dense(64, activation='relu'),\n",
    "    tf.keras.layers.Dropout(0.2),\n",
    "    tf.keras.layers.Dense(3, activation='softmax')\n",
    "])\n",
    "\n",
    "optimizer = tf.keras.optimizers.Adam(learning_rate=0.001)\n",
    "lst_mod.compile(loss='categorical_crossentropy', optimizer=optimizer, metrics=['accuracy'])\n",
    "lst_mod.summary()"
   ]
  },
  {
   "cell_type": "markdown",
   "id": "c7ea9dfd",
   "metadata": {
    "papermill": {
     "duration": 0.008506,
     "end_time": "2022-08-02T15:24:16.840673",
     "exception": false,
     "start_time": "2022-08-02T15:24:16.832167",
     "status": "completed"
    },
    "tags": []
   },
   "source": [
    "#### Implementing early stopper to prevent overfitting of data that may occur on validation accuracy.\n"
   ]
  },
  {
   "cell_type": "code",
   "execution_count": 13,
   "id": "f34e4e7e",
   "metadata": {
    "execution": {
     "iopub.execute_input": "2022-08-02T15:24:16.856724Z",
     "iopub.status.busy": "2022-08-02T15:24:16.856414Z",
     "iopub.status.idle": "2022-08-02T15:24:16.861949Z",
     "shell.execute_reply": "2022-08-02T15:24:16.860889Z"
    },
    "papermill": {
     "duration": 0.016198,
     "end_time": "2022-08-02T15:24:16.864227",
     "exception": false,
     "start_time": "2022-08-02T15:24:16.848029",
     "status": "completed"
    },
    "tags": []
   },
   "outputs": [],
   "source": [
    "class earlystop(tf.keras.callbacks.Callback):\n",
    "  def on_epoch_end(self, epoch, logs={}): \n",
    "    if(logs.get('val_accuracy')>0.855):\n",
    "      print(\"Accuracy has reached > 85.5%!\") \n",
    "      self.model.stop_training = True\n",
    "es = earlystop() "
   ]
  },
  {
   "cell_type": "markdown",
   "id": "21083682",
   "metadata": {
    "papermill": {
     "duration": 0.00717,
     "end_time": "2022-08-02T15:24:16.878742",
     "exception": false,
     "start_time": "2022-08-02T15:24:16.871572",
     "status": "completed"
    },
    "tags": []
   },
   "source": [
    "After numerous trial runs, epochs = 20 provides constant increase in test accuracy. If epochs > 20, LST model may overfit, where train accuracy graduaually increasing while validation accuracy decreases."
   ]
  },
  {
   "cell_type": "code",
   "execution_count": 14,
   "id": "82583c56",
   "metadata": {
    "execution": {
     "iopub.execute_input": "2022-08-02T15:24:16.895582Z",
     "iopub.status.busy": "2022-08-02T15:24:16.894937Z",
     "iopub.status.idle": "2022-08-02T15:27:40.476752Z",
     "shell.execute_reply": "2022-08-02T15:27:40.475711Z"
    },
    "papermill": {
     "duration": 203.593202,
     "end_time": "2022-08-02T15:27:40.479399",
     "exception": false,
     "start_time": "2022-08-02T15:24:16.886197",
     "status": "completed"
    },
    "tags": []
   },
   "outputs": [
    {
     "name": "stderr",
     "output_type": "stream",
     "text": [
      "2022-08-02 15:24:16.991297: I tensorflow/compiler/mlir/mlir_graph_optimization_pass.cc:185] None of the MLIR Optimization Passes are enabled (registered 2)\n"
     ]
    },
    {
     "name": "stdout",
     "output_type": "stream",
     "text": [
      "Epoch 1/20\n"
     ]
    },
    {
     "name": "stderr",
     "output_type": "stream",
     "text": [
      "2022-08-02 15:24:19.504600: I tensorflow/stream_executor/cuda/cuda_dnn.cc:369] Loaded cuDNN version 8005\n"
     ]
    },
    {
     "name": "stdout",
     "output_type": "stream",
     "text": [
      "331/331 [==============================] - 14s 30ms/step - loss: 0.9029 - accuracy: 0.6098 - val_loss: 0.8523 - val_accuracy: 0.6258\n",
      "Epoch 2/20\n",
      "331/331 [==============================] - 10s 30ms/step - loss: 0.8376 - accuracy: 0.6305 - val_loss: 0.8301 - val_accuracy: 0.6329\n",
      "Epoch 3/20\n",
      "331/331 [==============================] - 10s 29ms/step - loss: 0.8150 - accuracy: 0.6374 - val_loss: 0.8167 - val_accuracy: 0.6331\n",
      "Epoch 4/20\n",
      "331/331 [==============================] - 10s 29ms/step - loss: 0.8087 - accuracy: 0.6384 - val_loss: 0.8167 - val_accuracy: 0.6380\n",
      "Epoch 5/20\n",
      "331/331 [==============================] - 10s 29ms/step - loss: 0.7981 - accuracy: 0.6439 - val_loss: 0.8132 - val_accuracy: 0.6440\n",
      "Epoch 6/20\n",
      "331/331 [==============================] - 10s 29ms/step - loss: 0.7882 - accuracy: 0.6491 - val_loss: 0.8089 - val_accuracy: 0.6440\n",
      "Epoch 7/20\n",
      "331/331 [==============================] - 10s 29ms/step - loss: 0.7838 - accuracy: 0.6506 - val_loss: 0.8141 - val_accuracy: 0.6435\n",
      "Epoch 8/20\n",
      "331/331 [==============================] - 10s 29ms/step - loss: 0.7741 - accuracy: 0.6538 - val_loss: 0.8170 - val_accuracy: 0.6492\n",
      "Epoch 9/20\n",
      "331/331 [==============================] - 10s 29ms/step - loss: 0.7670 - accuracy: 0.6575 - val_loss: 0.8109 - val_accuracy: 0.6350\n",
      "Epoch 10/20\n",
      "331/331 [==============================] - 10s 29ms/step - loss: 0.7601 - accuracy: 0.6597 - val_loss: 0.8089 - val_accuracy: 0.6494\n",
      "Epoch 11/20\n",
      "331/331 [==============================] - 10s 29ms/step - loss: 0.7525 - accuracy: 0.6621 - val_loss: 0.8101 - val_accuracy: 0.6405\n",
      "Epoch 12/20\n",
      "331/331 [==============================] - 10s 30ms/step - loss: 0.7443 - accuracy: 0.6686 - val_loss: 0.8097 - val_accuracy: 0.6503\n",
      "Epoch 13/20\n",
      "331/331 [==============================] - 10s 30ms/step - loss: 0.7355 - accuracy: 0.6710 - val_loss: 0.8054 - val_accuracy: 0.6470\n",
      "Epoch 14/20\n",
      "331/331 [==============================] - 10s 30ms/step - loss: 0.7308 - accuracy: 0.6728 - val_loss: 0.8191 - val_accuracy: 0.6429\n",
      "Epoch 15/20\n",
      "331/331 [==============================] - 10s 30ms/step - loss: 0.7223 - accuracy: 0.6731 - val_loss: 0.8265 - val_accuracy: 0.6413\n",
      "Epoch 16/20\n",
      "331/331 [==============================] - 10s 29ms/step - loss: 0.7200 - accuracy: 0.6761 - val_loss: 0.8311 - val_accuracy: 0.6456\n",
      "Epoch 17/20\n",
      "331/331 [==============================] - 10s 29ms/step - loss: 0.7104 - accuracy: 0.6789 - val_loss: 0.8412 - val_accuracy: 0.6426\n",
      "Epoch 18/20\n",
      "331/331 [==============================] - 10s 30ms/step - loss: 0.6990 - accuracy: 0.6833 - val_loss: 0.8417 - val_accuracy: 0.6416\n",
      "Epoch 19/20\n",
      "331/331 [==============================] - 10s 29ms/step - loss: 0.6907 - accuracy: 0.6866 - val_loss: 0.8585 - val_accuracy: 0.6391\n",
      "Epoch 20/20\n",
      "331/331 [==============================] - 10s 29ms/step - loss: 0.6836 - accuracy: 0.6917 - val_loss: 0.8678 - val_accuracy: 0.6380\n"
     ]
    }
   ],
   "source": [
    "lst_mod1 = lst_mod.fit(pad_train, y_train, epochs=20, callbacks=[es],\n",
    "            validation_data=(pad_test, y_test), verbose=1, batch_size=100)"
   ]
  },
  {
   "cell_type": "markdown",
   "id": "004fa2af",
   "metadata": {
    "papermill": {
     "duration": 0.17752,
     "end_time": "2022-08-02T15:27:40.834517",
     "exception": false,
     "start_time": "2022-08-02T15:27:40.656997",
     "status": "completed"
    },
    "tags": []
   },
   "source": [
    "##### Visualize overview accuracy and validation accuracy of individual epochs of the LST model.\n",
    "\n",
    "###### Note: Saving LST model into a variable allows the model to be visualized on graph, else it would return an error where history is not callable."
   ]
  },
  {
   "cell_type": "code",
   "execution_count": 15,
   "id": "756dc923",
   "metadata": {
    "execution": {
     "iopub.execute_input": "2022-08-02T15:27:41.254624Z",
     "iopub.status.busy": "2022-08-02T15:27:41.254040Z",
     "iopub.status.idle": "2022-08-02T15:27:41.659342Z",
     "shell.execute_reply": "2022-08-02T15:27:41.658400Z"
    },
    "papermill": {
     "duration": 0.594704,
     "end_time": "2022-08-02T15:27:41.661809",
     "exception": false,
     "start_time": "2022-08-02T15:27:41.067105",
     "status": "completed"
    },
    "tags": []
   },
   "outputs": [
    {
     "data": {
      "image/png": "[encoded data removed]",
      "text/plain": [
       "<Figure size 1080x720 with 1 Axes>"
      ]
     },
     "metadata": {},
     "output_type": "display_data"
    }
   ],
   "source": [
    "plt.figure(figsize = (15,10))\n",
    "plt.plot(lst_mod1.history['accuracy'])\n",
    "plt.plot(lst_mod1.history['val_accuracy'])\n",
    "plt.title('accuracy')\n",
    "plt.ylabel('accuracy')\n",
    "plt.xlabel('epoch')\n",
    "plt.legend(['train', 'val'], loc='upper left')\n",
    "plt.show()"
   ]
  },
  {
   "cell_type": "markdown",
   "id": "95d28260",
   "metadata": {
    "papermill": {
     "duration": 0.17578,
     "end_time": "2022-08-02T15:27:42.095656",
     "exception": false,
     "start_time": "2022-08-02T15:27:41.919876",
     "status": "completed"
    },
    "tags": []
   },
   "source": [
    "##### Predict LST model on padded test set."
   ]
  },
  {
   "cell_type": "code",
   "execution_count": 16,
   "id": "a5dbc466",
   "metadata": {
    "execution": {
     "iopub.execute_input": "2022-08-02T15:27:42.466276Z",
     "iopub.status.busy": "2022-08-02T15:27:42.465921Z",
     "iopub.status.idle": "2022-08-02T15:27:43.411856Z",
     "shell.execute_reply": "2022-08-02T15:27:43.410568Z"
    },
    "papermill": {
     "duration": 1.141407,
     "end_time": "2022-08-02T15:27:43.414685",
     "exception": false,
     "start_time": "2022-08-02T15:27:42.273278",
     "status": "completed"
    },
    "tags": []
   },
   "outputs": [
    {
     "name": "stdout",
     "output_type": "stream",
     "text": [
      "[[0.6803066  0.00556754 0.31412587]\n",
      " [0.728417   0.11794535 0.15363768]\n",
      " [0.7483122  0.05025303 0.20143478]\n",
      " ...\n",
      " [0.85462755 0.06120837 0.08416406]\n",
      " [0.4116303  0.58673114 0.00163853]\n",
      " [0.7079885  0.19127648 0.10073506]]\n"
     ]
    }
   ],
   "source": [
    "y_predict = lst_mod.predict(pad_test, verbose=0)\n",
    "print(y_predict)"
   ]
  },
  {
   "cell_type": "markdown",
   "id": "d8427ba7",
   "metadata": {
    "papermill": {
     "duration": 0.175667,
     "end_time": "2022-08-02T15:27:43.764921",
     "exception": false,
     "start_time": "2022-08-02T15:27:43.589254",
     "status": "completed"
    },
    "tags": []
   },
   "source": [
    "#### Confusion matrix "
   ]
  },
  {
   "cell_type": "code",
   "execution_count": 17,
   "id": "1bff860b",
   "metadata": {
    "execution": {
     "iopub.execute_input": "2022-08-02T15:27:44.118609Z",
     "iopub.status.busy": "2022-08-02T15:27:44.118222Z",
     "iopub.status.idle": "2022-08-02T15:27:44.138723Z",
     "shell.execute_reply": "2022-08-02T15:27:44.137352Z"
    },
    "papermill": {
     "duration": 0.200744,
     "end_time": "2022-08-02T15:27:44.141688",
     "exception": false,
     "start_time": "2022-08-02T15:27:43.940944",
     "status": "completed"
    },
    "tags": []
   },
   "outputs": [
    {
     "name": "stdout",
     "output_type": "stream",
     "text": [
      "[[1763  243   92]\n",
      " [ 448  472   13]\n",
      " [ 498   37  111]]\n",
      "0.6380201251019854\n",
      "              precision    recall  f1-score   support\n",
      "\n",
      "           0       0.65      0.84      0.73      2098\n",
      "           1       0.63      0.51      0.56       933\n",
      "           2       0.51      0.17      0.26       646\n",
      "\n",
      "    accuracy                           0.64      3677\n",
      "   macro avg       0.60      0.51      0.52      3677\n",
      "weighted avg       0.62      0.64      0.61      3677\n",
      "\n"
     ]
    }
   ],
   "source": [
    "import sklearn.metrics as metrics\n",
    "from sklearn.metrics import classification_report,confusion_matrix,accuracy_score\n",
    "test_cm = metrics.confusion_matrix(y_test.argmax(axis=1), y_predict.argmax(axis=1))\n",
    "print(test_cm)\n",
    "test_score = metrics.accuracy_score(y_test.argmax(axis=1), y_predict.argmax(axis=1))\n",
    "print(test_score)\n",
    "test_report = metrics.classification_report(y_test.argmax(axis=1), y_predict.argmax(axis=1))\n",
    "print(test_report)\n"
   ]
  },
  {
   "cell_type": "markdown",
   "id": "3fa6860d",
   "metadata": {
    "papermill": {
     "duration": 0.174534,
     "end_time": "2022-08-02T15:27:44.535011",
     "exception": false,
     "start_time": "2022-08-02T15:27:44.360477",
     "status": "completed"
    },
    "tags": []
   },
   "source": [
    "It can be seen that basesd on classification report, 0: 'Adequate' has the highest overall accuracy in terms of precision (actual true positive ouf of predicted positive), recall (true positive rate) and f1-score (mean of precision and recall, taking consideration of false positive and false negatives)\n",
    "\n",
    "It can also be observed that 'Adequate' has the highest number of observations supporting its accuracy.\n",
    "\n",
    "Followed by 1:'Effective' with the second highest accuracy and 2: 'Ineffective' as the least overall accuracy. \n"
   ]
  },
  {
   "cell_type": "markdown",
   "id": "9da707d0",
   "metadata": {
    "papermill": {
     "duration": 0.174387,
     "end_time": "2022-08-02T15:27:44.884298",
     "exception": false,
     "start_time": "2022-08-02T15:27:44.709911",
     "status": "completed"
    },
    "tags": []
   },
   "source": [
    "#### Visualize Confusion Matrix"
   ]
  },
  {
   "cell_type": "code",
   "execution_count": 18,
   "id": "c7c985fa",
   "metadata": {
    "execution": {
     "iopub.execute_input": "2022-08-02T15:27:45.238526Z",
     "iopub.status.busy": "2022-08-02T15:27:45.237386Z",
     "iopub.status.idle": "2022-08-02T15:27:45.504596Z",
     "shell.execute_reply": "2022-08-02T15:27:45.503545Z"
    },
    "papermill": {
     "duration": 0.44551,
     "end_time": "2022-08-02T15:27:45.507311",
     "exception": false,
     "start_time": "2022-08-02T15:27:45.061801",
     "status": "completed"
    },
    "tags": []
   },
   "outputs": [
    {
     "data": {
      "image/png": "[encoded data removed]",
      "text/plain": [
       "<Figure size 720x576 with 2 Axes>"
      ]
     },
     "metadata": {},
     "output_type": "display_data"
    }
   ],
   "source": [
    "test_cm = pd.DataFrame(test_cm, range(3), range(3))\n",
    "plt.figure(figsize = (10,8))\n",
    "sns.set(font_scale=2)\n",
    "sns.heatmap(test_cm, annot=True, annot_kws={\"size\": 21},fmt='d')\n",
    "plt.show()"
   ]
  },
  {
   "cell_type": "markdown",
   "id": "0732016a",
   "metadata": {
    "papermill": {
     "duration": 0.178972,
     "end_time": "2022-08-02T15:27:45.863646",
     "exception": false,
     "start_time": "2022-08-02T15:27:45.684674",
     "status": "completed"
    },
    "tags": []
   },
   "source": [
    "#### Rename columns and Export final test.csv dataset for submission.\n"
   ]
  },
  {
   "cell_type": "code",
   "execution_count": 19,
   "id": "3730d613",
   "metadata": {
    "execution": {
     "iopub.execute_input": "2022-08-02T15:27:46.216406Z",
     "iopub.status.busy": "2022-08-02T15:27:46.215359Z",
     "iopub.status.idle": "2022-08-02T15:27:46.250225Z",
     "shell.execute_reply": "2022-08-02T15:27:46.248573Z"
    },
    "papermill": {
     "duration": 0.21336,
     "end_time": "2022-08-02T15:27:46.252809",
     "exception": false,
     "start_time": "2022-08-02T15:27:46.039449",
     "status": "completed"
    },
    "tags": []
   },
   "outputs": [
    {
     "name": "stdout",
     "output_type": "stream",
     "text": [
      "      discourse_id  Adequate  Effective  Ineffective\n",
      "0     0013cc385424  0.680307   0.005568     0.314126\n",
      "1     9704a709b505  0.728417   0.117945     0.153638\n",
      "2     c22adee811b6  0.748312   0.050253     0.201435\n",
      "3     a10d361e54e4  0.087361   0.912479     0.000160\n",
      "4     db3e453ec4e2  0.593463   0.051603     0.354933\n",
      "...            ...       ...        ...          ...\n",
      "3672  643277623c55  0.004026   0.995942     0.000032\n",
      "3673  f315ff556868  0.375927   0.618319     0.005754\n",
      "3674  7a3aef0cfc2d  0.854628   0.061208     0.084164\n",
      "3675  09cc9d107416  0.411630   0.586731     0.001639\n",
      "3676  13290ff2b629  0.707989   0.191276     0.100735\n",
      "\n",
      "[3677 rows x 4 columns]\n"
     ]
    }
   ],
   "source": [
    "df_test_predict = pd.DataFrame(y_predict, columns=['Adequate','Effective','Ineffective'])\n",
    "final_test_dataset = pd.merge(df_feeds, df_test_predict, how = 'right', left_index= True ,right_index =True)\n",
    "final_test_dataset = final_test_dataset[['discourse_id', 'Adequate_y', 'Effective_y','Ineffective_y']]\n",
    "final_test_dataset.rename(columns={'Adequate_y' : 'Adequate', 'Effective_y' : 'Effective', 'Ineffective_y' : 'Ineffective'}, inplace=True)\n",
    "final_test_dataset.to_csv('test_submission.csv', index=False)\n",
    "print(final_test_dataset)"
   ]
  }
 ],
 "metadata": {
  "kernelspec": {
   "display_name": "Python 3",
   "language": "python",
   "name": "python3"
  },
  "language_info": {
   "codemirror_mode": {
    "name": "ipython",
    "version": 3
   },
   "file_extension": ".py",
   "mimetype": "text/x-python",
   "name": "python",
   "nbconvert_exporter": "python",
   "pygments_lexer": "ipython3",
   "version": "3.7.12"
  },
  "papermill": {
   "default_parameters": {},
   "duration": 248.547684,
   "end_time": "2022-08-02T15:27:49.434903",
   "environment_variables": {},
   "exception": null,
   "input_path": "__notebook__.ipynb",
   "output_path": "__notebook__.ipynb",
   "parameters": {},
   "start_time": "2022-08-02T15:23:40.887219",
   "version": "2.3.4"
  }
 },
 "nbformat": 4,
 "nbformat_minor": 5
}
