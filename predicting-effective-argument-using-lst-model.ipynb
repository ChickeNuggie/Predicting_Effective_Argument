{
 "cells": [
  {
   "cell_type": "markdown",
   "id": "86146b22",
   "metadata": {
    "papermill": {
     "duration": 0.008686,
     "end_time": "2022-08-03T17:04:58.832506",
     "exception": false,
     "start_time": "2022-08-03T17:04:58.823820",
     "status": "completed"
    },
    "tags": []
   },
   "source": [
    "### Load the dataset from kaggle's data directory.\n",
    "Check the working directory of kaggle's dataset and load its train dataset."
   ]
  },
  {
   "cell_type": "code",
   "execution_count": 1,
   "id": "0710689b",
   "metadata": {
    "execution": {
     "iopub.execute_input": "2022-08-03T17:04:58.848233Z",
     "iopub.status.busy": "2022-08-03T17:04:58.847722Z",
     "iopub.status.idle": "2022-08-03T17:04:58.861935Z",
     "shell.execute_reply": "2022-08-03T17:04:58.861044Z"
    },
    "papermill": {
     "duration": 0.024368,
     "end_time": "2022-08-03T17:04:58.863953",
     "exception": false,
     "start_time": "2022-08-03T17:04:58.839585",
     "status": "completed"
    },
    "tags": []
   },
   "outputs": [
    {
     "data": {
      "text/plain": [
       "['sample_submission.csv', 'train.csv', 'test.csv', 'test', 'train']"
      ]
     },
     "execution_count": 1,
     "metadata": {},
     "output_type": "execute_result"
    }
   ],
   "source": [
    "import os\n",
    "os.listdir('/kaggle/input/feedback-prize-effectiveness')"
   ]
  },
  {
   "cell_type": "code",
   "execution_count": 2,
   "id": "90c37fee",
   "metadata": {
    "execution": {
     "iopub.execute_input": "2022-08-03T17:04:58.879282Z",
     "iopub.status.busy": "2022-08-03T17:04:58.878949Z",
     "iopub.status.idle": "2022-08-03T17:05:00.341503Z",
     "shell.execute_reply": "2022-08-03T17:05:00.340520Z"
    },
    "papermill": {
     "duration": 1.473043,
     "end_time": "2022-08-03T17:05:00.343858",
     "exception": false,
     "start_time": "2022-08-03T17:04:58.870815",
     "status": "completed"
    },
    "tags": []
   },
   "outputs": [],
   "source": [
    "import numpy as np\n",
    "import pandas as pd\n",
    "from sklearn.model_selection import train_test_split, GridSearchCV \n",
    "\n",
    "\n",
    "df_feeds = pd.read_csv(\"../input/feedback-prize-effectiveness/train.csv\")\n",
    "df_feeds['discourse_text'].isnull().sum() # checks for NAs\n",
    "\n",
    "import string\n",
    "string.punctuation \n",
    "import re\n",
    "\n",
    "\n",
    "from nltk.corpus import stopwords \n",
    "from collections import Counter\n",
    "from itertools import chain\n",
    "\n"
   ]
  },
  {
   "cell_type": "markdown",
   "id": "030ebb67",
   "metadata": {
    "papermill": {
     "duration": 0.006782,
     "end_time": "2022-08-03T17:05:00.358236",
     "exception": false,
     "start_time": "2022-08-03T17:05:00.351454",
     "status": "completed"
    },
    "tags": []
   },
   "source": [
    "### Data pre-processing\n",
    "\n",
    "Remove stopwords from corpus stopwords dictionary to prevent commonly used language or text such as 'a', 'the', etc, that may affect the predictive performance."
   ]
  },
  {
   "cell_type": "code",
   "execution_count": 3,
   "id": "904fd4cd",
   "metadata": {
    "execution": {
     "iopub.execute_input": "2022-08-03T17:05:00.374333Z",
     "iopub.status.busy": "2022-08-03T17:05:00.372826Z",
     "iopub.status.idle": "2022-08-03T17:05:01.320009Z",
     "shell.execute_reply": "2022-08-03T17:05:01.319062Z"
    },
    "papermill": {
     "duration": 0.957284,
     "end_time": "2022-08-03T17:05:01.322392",
     "exception": false,
     "start_time": "2022-08-03T17:05:00.365108",
     "status": "completed"
    },
    "tags": []
   },
   "outputs": [
    {
     "name": "stdout",
     "output_type": "stream",
     "text": [
      "0        hi  i m isaac  i m going to be writing about h...\n",
      "1        on my perspective  i think that the face is a ...\n",
      "2        i think that the face is a natural landform be...\n",
      "3        if life was on mars  we would know by now  the...\n",
      "4        people thought that the face was formed by ali...\n",
      "                               ...                        \n",
      "36760    for many people they don t like only asking on...\n",
      "36761    also people have different views and opinions ...\n",
      "36762    advice is something that can impact a persons ...\n",
      "36763    someone can use everything that many people sa...\n",
      "36764    in conclusion asking for an opinion can be ben...\n",
      "Name: discourse_text, Length: 36765, dtype: object\n"
     ]
    }
   ],
   "source": [
    "stop = set(stopwords.words('english')) \n",
    "df_feeds['discourse_text'].replace(\"[^a-zA-Z]\",\" \", regex=True, inplace =True)  # match strings that contains non-letter and replace with black to remove string.punctuations.\n",
    "df_feeds['discourse_text'] = df_feeds['discourse_text'].str.lower() # converts strings to lower case.\n",
    "print(df_feeds['discourse_text'])\n",
    "df_feeds['discourse_text'] = df_feeds['discourse_text'].apply(lambda x: [item for item in str(x).split() if item not in stop])\n",
    "freq = pd.Series(Counter(chain.from_iterable(df_feeds['discourse_text']))).sort_values(ascending=False) # count the frequencies of words."
   ]
  },
  {
   "cell_type": "markdown",
   "id": "1c8c7128",
   "metadata": {
    "papermill": {
     "duration": 0.006712,
     "end_time": "2022-08-03T17:05:01.336465",
     "exception": false,
     "start_time": "2022-08-03T17:05:01.329753",
     "status": "completed"
    },
    "tags": []
   },
   "source": [
    "#### Note: To access nltk 'owm-1.4' file without internet, simply download its files at https://raw.githubusercontent.com/nltk/nltk_data/gh-pages/packages/corpora/omw-1.4.zip , upload to kaggle dataset and run the below command to install the file."
   ]
  },
  {
   "cell_type": "code",
   "execution_count": 4,
   "id": "2086514c",
   "metadata": {
    "execution": {
     "iopub.execute_input": "2022-08-03T17:05:01.353154Z",
     "iopub.status.busy": "2022-08-03T17:05:01.352828Z",
     "iopub.status.idle": "2022-08-03T17:05:02.396515Z",
     "shell.execute_reply": "2022-08-03T17:05:02.395189Z"
    },
    "papermill": {
     "duration": 1.05536,
     "end_time": "2022-08-03T17:05:02.398932",
     "exception": false,
     "start_time": "2022-08-03T17:05:01.343572",
     "status": "completed"
    },
    "tags": []
   },
   "outputs": [],
   "source": [
    "!ln -s /kaggle/input/nltk-omw/omw-1.4 /usr/share/nltk_data/corpora/omw-1.4 "
   ]
  },
  {
   "cell_type": "markdown",
   "id": "7899e881",
   "metadata": {
    "papermill": {
     "duration": 0.007559,
     "end_time": "2022-08-03T17:05:02.414743",
     "exception": false,
     "start_time": "2022-08-03T17:05:02.407184",
     "status": "completed"
    },
    "tags": []
   },
   "source": [
    "Test if the file is working"
   ]
  },
  {
   "cell_type": "code",
   "execution_count": 5,
   "id": "b5062ffe",
   "metadata": {
    "execution": {
     "iopub.execute_input": "2022-08-03T17:05:02.432237Z",
     "iopub.status.busy": "2022-08-03T17:05:02.430495Z",
     "iopub.status.idle": "2022-08-03T17:05:04.489435Z",
     "shell.execute_reply": "2022-08-03T17:05:04.488505Z"
    },
    "papermill": {
     "duration": 2.069811,
     "end_time": "2022-08-03T17:05:04.491709",
     "exception": false,
     "start_time": "2022-08-03T17:05:02.421898",
     "status": "completed"
    },
    "tags": []
   },
   "outputs": [
    {
     "data": {
      "text/plain": [
       "[Synset('trial.n.02'),\n",
       " Synset('test.n.02'),\n",
       " Synset('examination.n.02'),\n",
       " Synset('test.n.04'),\n",
       " Synset('test.n.05'),\n",
       " Synset('test.n.06'),\n",
       " Synset('test.v.01'),\n",
       " Synset('screen.v.01'),\n",
       " Synset('quiz.v.01'),\n",
       " Synset('test.v.04'),\n",
       " Synset('test.v.05'),\n",
       " Synset('test.v.06'),\n",
       " Synset('test.v.07')]"
      ]
     },
     "execution_count": 5,
     "metadata": {},
     "output_type": "execute_result"
    }
   ],
   "source": [
    "import nltk\n",
    "nltk.corpus.wordnet.synsets('test')"
   ]
  },
  {
   "cell_type": "markdown",
   "id": "09ba4112",
   "metadata": {
    "papermill": {
     "duration": 0.006937,
     "end_time": "2022-08-03T17:05:04.506101",
     "exception": false,
     "start_time": "2022-08-03T17:05:04.499164",
     "status": "completed"
    },
    "tags": []
   },
   "source": [
    "#### Lemmatize all tokens into a new list to prevent overfitting of dataset when verb, nouns, adverb or adjectives are not as concerning on the impact of effectiveness of an argument.\n"
   ]
  },
  {
   "cell_type": "code",
   "execution_count": 6,
   "id": "b514deea",
   "metadata": {
    "execution": {
     "iopub.execute_input": "2022-08-03T17:05:04.521516Z",
     "iopub.status.busy": "2022-08-03T17:05:04.521204Z",
     "iopub.status.idle": "2022-08-03T17:05:16.608488Z",
     "shell.execute_reply": "2022-08-03T17:05:16.607495Z"
    },
    "papermill": {
     "duration": 12.097514,
     "end_time": "2022-08-03T17:05:16.610826",
     "exception": false,
     "start_time": "2022-08-03T17:05:04.513312",
     "status": "completed"
    },
    "tags": []
   },
   "outputs": [],
   "source": [
    "\n",
    "from nltk.stem import WordNetLemmatizer\n",
    "from nltk.tokenize import word_tokenize\n",
    "from nltk import word_tokenize\n",
    "wordnet_lem = WordNetLemmatizer()\n",
    "df_feeds['discourse_text'] = df_feeds['discourse_text'].apply(\n",
    "                   lambda lst:[wordnet_lem.lemmatize(word, pos='v') for word in lst])\n",
    "df_feeds['discourse_text'] = df_feeds['discourse_text'].apply(\n",
    "                    lambda lst:[wordnet_lem.lemmatize(word, pos='n') for word in lst])\n",
    "df_feeds['discourse_text'] = df_feeds['discourse_text'].apply(\n",
    "                    lambda lst:[wordnet_lem.lemmatize(word, pos='r') for word in lst])\n",
    "df_feeds['discourse_text'] = df_feeds['discourse_text'].apply(\n",
    "                    lambda lst:[wordnet_lem.lemmatize(word, pos='a') for word in lst])\n",
    "freq_final = pd.Series(Counter(chain.from_iterable(df_feeds['discourse_text']))).sort_values(ascending=False)\n"
   ]
  },
  {
   "cell_type": "markdown",
   "id": "8ca9e514",
   "metadata": {
    "papermill": {
     "duration": 0.00694,
     "end_time": "2022-08-03T17:05:16.625223",
     "exception": false,
     "start_time": "2022-08-03T17:05:16.618283",
     "status": "completed"
    },
    "tags": []
   },
   "source": [
    "#### Visualize top 30 word frequencies. "
   ]
  },
  {
   "cell_type": "code",
   "execution_count": 7,
   "id": "80de81dc",
   "metadata": {
    "execution": {
     "iopub.execute_input": "2022-08-03T17:05:16.640578Z",
     "iopub.status.busy": "2022-08-03T17:05:16.640279Z",
     "iopub.status.idle": "2022-08-03T17:05:17.189048Z",
     "shell.execute_reply": "2022-08-03T17:05:17.188005Z"
    },
    "papermill": {
     "duration": 0.558751,
     "end_time": "2022-08-03T17:05:17.191154",
     "exception": false,
     "start_time": "2022-08-03T17:05:16.632403",
     "status": "completed"
    },
    "tags": []
   },
   "outputs": [
    {
     "data": {
      "image/png": "[encoded data removed]",
      "text/plain": [
       "<Figure size 576x432 with 1 Axes>"
      ]
     },
     "metadata": {
      "needs_background": "light"
     },
     "output_type": "display_data"
    }
   ],
   "source": [
    "import seaborn as sns \n",
    "import matplotlib.pyplot as plt\n",
    "top_words = freq_final.head(30).reset_index()\n",
    "\n",
    "sns.reset_orig()\n",
    "plt.figure(figsize = (8,6))\n",
    "my_palette = sns.color_palette(\"colorblind\") # variations of default palette: deep, muted, pastel, bright, dark, colorblind. \n",
    "plt.style.use('seaborn-colorblind')\n",
    "sns.set(rc={'figure.figsize':(10,5)})\n",
    "sns.barplot(x=top_words.iloc[:,1], y=top_words.iloc[:,0],data=top_words , alpha = 0.6).set_title('Top 20 count of word frequencies')\n",
    "plt.xlabel('Frequencies')\n",
    "plt.ylabel('Words')\n",
    "plt.show()"
   ]
  },
  {
   "cell_type": "markdown",
   "id": "53abaf2a",
   "metadata": {
    "papermill": {
     "duration": 0.007199,
     "end_time": "2022-08-03T17:05:17.206013",
     "exception": false,
     "start_time": "2022-08-03T17:05:17.198814",
     "status": "completed"
    },
    "tags": []
   },
   "source": [
    "#### Visualize the dataset to determine if data is normal distributed."
   ]
  },
  {
   "cell_type": "code",
   "execution_count": 8,
   "id": "b2fe0fd1",
   "metadata": {
    "execution": {
     "iopub.execute_input": "2022-08-03T17:05:17.223174Z",
     "iopub.status.busy": "2022-08-03T17:05:17.222387Z",
     "iopub.status.idle": "2022-08-03T17:05:17.233767Z",
     "shell.execute_reply": "2022-08-03T17:05:17.232079Z"
    },
    "papermill": {
     "duration": 0.022357,
     "end_time": "2022-08-03T17:05:17.235762",
     "exception": false,
     "start_time": "2022-08-03T17:05:17.213405",
     "status": "completed"
    },
    "tags": []
   },
   "outputs": [
    {
     "name": "stdout",
     "output_type": "stream",
     "text": [
      "Adequate       20977\n",
      "Effective       9326\n",
      "Ineffective     6462\n",
      "Name: discourse_effectiveness, dtype: int64\n",
      "\n",
      "Predicting only 0 = 57.06% accuracy\n",
      "\n",
      "Predicting only 1 = 25.37% accuracy\n",
      "\n",
      "Predicting only 2 = 17.58% accuracy\n"
     ]
    }
   ],
   "source": [
    "counts = df_feeds.discourse_effectiveness.value_counts()\n",
    "print(counts)\n",
    "print(\"\\nPredicting only 0 = {:.2f}% accuracy\".format(counts[0] / sum(counts) * 100))\n",
    "print(\"\\nPredicting only 1 = {:.2f}% accuracy\".format(counts[1] / sum(counts) * 100))\n",
    "print(\"\\nPredicting only 2 = {:.2f}% accuracy\".format(counts[2] / sum(counts) * 100))"
   ]
  },
  {
   "cell_type": "code",
   "execution_count": 9,
   "id": "56a8f25d",
   "metadata": {
    "execution": {
     "iopub.execute_input": "2022-08-03T17:05:17.252942Z",
     "iopub.status.busy": "2022-08-03T17:05:17.251546Z",
     "iopub.status.idle": "2022-08-03T17:05:17.451990Z",
     "shell.execute_reply": "2022-08-03T17:05:17.451083Z"
    },
    "papermill": {
     "duration": 0.210615,
     "end_time": "2022-08-03T17:05:17.453983",
     "exception": false,
     "start_time": "2022-08-03T17:05:17.243368",
     "status": "completed"
    },
    "tags": []
   },
   "outputs": [
    {
     "data": {
      "image/png": "[encoded data removed]",
      "text/plain": [
       "<Figure size 720x360 with 1 Axes>"
      ]
     },
     "metadata": {},
     "output_type": "display_data"
    }
   ],
   "source": [
    "df_counts = pd.DataFrame(counts).reset_index()\n",
    "plt.figure(figsize = (10,5))\n",
    "sns.barplot(x=df_counts['index'],y=df_counts['discourse_effectiveness'],data=df_counts,alpha = 0.6).set_title('Total count of Effectiveness')\n",
    "plt.xlabel('Effectiveness')\n",
    "plt.ylabel('Count')\n",
    "plt.show()"
   ]
  },
  {
   "cell_type": "markdown",
   "id": "d0ae04fc",
   "metadata": {
    "papermill": {
     "duration": 0.00756,
     "end_time": "2022-08-03T17:05:17.469583",
     "exception": false,
     "start_time": "2022-08-03T17:05:17.462023",
     "status": "completed"
    },
    "tags": []
   },
   "source": [
    "It can be observed that there are more Adequate feedbacks than Effective and Ineffective, indicating that the data may be imbalanced and may be prone to lower prediction accuracy. "
   ]
  },
  {
   "cell_type": "markdown",
   "id": "a331f901",
   "metadata": {
    "papermill": {
     "duration": 0.00744,
     "end_time": "2022-08-03T17:05:17.484773",
     "exception": false,
     "start_time": "2022-08-03T17:05:17.477333",
     "status": "completed"
    },
    "tags": []
   },
   "source": [
    "#### One-hot-encoding by creating dummies to categorical data."
   ]
  },
  {
   "cell_type": "code",
   "execution_count": 10,
   "id": "48e38704",
   "metadata": {
    "execution": {
     "iopub.execute_input": "2022-08-03T17:05:17.501658Z",
     "iopub.status.busy": "2022-08-03T17:05:17.501117Z",
     "iopub.status.idle": "2022-08-03T17:05:17.514135Z",
     "shell.execute_reply": "2022-08-03T17:05:17.513267Z"
    },
    "papermill": {
     "duration": 0.023809,
     "end_time": "2022-08-03T17:05:17.516270",
     "exception": false,
     "start_time": "2022-08-03T17:05:17.492461",
     "status": "completed"
    },
    "tags": []
   },
   "outputs": [],
   "source": [
    "df_effects = pd.get_dummies(df_feeds.iloc[:,4])\n",
    "df_feeds = pd.concat([df_feeds, df_effects], axis=1) # combine dummy rows."
   ]
  },
  {
   "cell_type": "markdown",
   "id": "b36c6c28",
   "metadata": {
    "papermill": {
     "duration": 0.00757,
     "end_time": "2022-08-03T17:05:17.531966",
     "exception": false,
     "start_time": "2022-08-03T17:05:17.524396",
     "status": "completed"
    },
    "tags": []
   },
   "source": [
    "#### Train-test validation approach."
   ]
  },
  {
   "cell_type": "code",
   "execution_count": 11,
   "id": "a99bb0e1",
   "metadata": {
    "execution": {
     "iopub.execute_input": "2022-08-03T17:05:17.548671Z",
     "iopub.status.busy": "2022-08-03T17:05:17.548383Z",
     "iopub.status.idle": "2022-08-03T17:05:17.583447Z",
     "shell.execute_reply": "2022-08-03T17:05:17.582536Z"
    },
    "papermill": {
     "duration": 0.045627,
     "end_time": "2022-08-03T17:05:17.585442",
     "exception": false,
     "start_time": "2022-08-03T17:05:17.539815",
     "status": "completed"
    },
    "tags": []
   },
   "outputs": [],
   "source": [
    "X_train, X_test, y_train, y_test = train_test_split(df_feeds['discourse_text'].values, df_feeds[['Adequate', 'Effective','Ineffective']].values, stratify=df_feeds['discourse_effectiveness'],test_size=0.1, random_state=100)"
   ]
  },
  {
   "cell_type": "markdown",
   "id": "435e34e2",
   "metadata": {
    "papermill": {
     "duration": 0.007419,
     "end_time": "2022-08-03T17:05:17.600506",
     "exception": false,
     "start_time": "2022-08-03T17:05:17.593087",
     "status": "completed"
    },
    "tags": []
   },
   "source": [
    "#### Tokenize 500 most common words to prevent overftitting from noise text that least occur."
   ]
  },
  {
   "cell_type": "code",
   "execution_count": 12,
   "id": "8f576b5f",
   "metadata": {
    "execution": {
     "iopub.execute_input": "2022-08-03T17:05:17.617982Z",
     "iopub.status.busy": "2022-08-03T17:05:17.617175Z",
     "iopub.status.idle": "2022-08-03T17:05:23.601678Z",
     "shell.execute_reply": "2022-08-03T17:05:23.600621Z"
    },
    "papermill": {
     "duration": 5.995911,
     "end_time": "2022-08-03T17:05:23.604156",
     "exception": false,
     "start_time": "2022-08-03T17:05:17.608245",
     "status": "completed"
    },
    "tags": []
   },
   "outputs": [],
   "source": [
    "from tensorflow.keras.preprocessing.text import Tokenizer\n",
    "from tensorflow.keras.preprocessing.sequence import pad_sequences\n",
    "tokenizer = Tokenizer(num_words=500, oov_token='x')\n",
    "word_index = tokenizer.word_index\n",
    "count_words = tokenizer.word_counts\n",
    "tokenizer.fit_on_texts(X_train) \n",
    "tokenizer.fit_on_texts(X_test)\n",
    "seq_train = tokenizer.texts_to_sequences(X_train)\n",
    "seq_test = tokenizer.texts_to_sequences(X_test)\n",
    "pad_train = pad_sequences(seq_train) \n",
    "pad_test = pad_sequences(seq_test)"
   ]
  },
  {
   "cell_type": "markdown",
   "id": "fbb8253a",
   "metadata": {
    "papermill": {
     "duration": 0.007868,
     "end_time": "2022-08-03T17:05:23.620319",
     "exception": false,
     "start_time": "2022-08-03T17:05:23.612451",
     "status": "completed"
    },
    "tags": []
   },
   "source": [
    "#### Shuffle train set after splitting to improve or avoid overfitting and ensure data are representatives.\n"
   ]
  },
  {
   "cell_type": "code",
   "execution_count": 13,
   "id": "bd5c2faa",
   "metadata": {
    "execution": {
     "iopub.execute_input": "2022-08-03T17:05:23.637559Z",
     "iopub.status.busy": "2022-08-03T17:05:23.636962Z",
     "iopub.status.idle": "2022-08-03T17:05:23.667789Z",
     "shell.execute_reply": "2022-08-03T17:05:23.666568Z"
    },
    "papermill": {
     "duration": 0.042309,
     "end_time": "2022-08-03T17:05:23.670670",
     "exception": false,
     "start_time": "2022-08-03T17:05:23.628361",
     "status": "completed"
    },
    "tags": []
   },
   "outputs": [
    {
     "name": "stdout",
     "output_type": "stream",
     "text": [
      "[   0    0    0    0    0    0    0    0    0    0    0    0    0    0\n",
      "    0    0    0    0    0    0    0    0    0    0    0    0    0    0\n",
      "    0    0    0    0    0    0    0    0    0    0    0    0    0    0\n",
      "    0    0    0    0    0    0    0    0    0    0    0    0    0    0\n",
      "    0    0    0    0    0    0    0    0    0    0    0    0    0    0\n",
      "    0    0    0    0    0    0    0    0    0    0    0    0    0    0\n",
      "    0    0    0    0    0    0    0    0    0    0    0    0    0    0\n",
      "    0    0    0    0    0    0    0    0    0    0    0    0    0    0\n",
      "    0    0    0    0    0    0    0    0    0    0    0    0    0    0\n",
      "    0    0    0    0    0    0    0    0    0    0    0    0    0    0\n",
      "    0    0    0    0    0    0    0    0    0    0    0    0    0    0\n",
      "    0    0    0    0    0    0    0    0    0    0    0    0    0    0\n",
      "    0    0    0    0    0    0    0    0    0    0    0    0    0    0\n",
      "    0    0    0    0    0    0    0    0    0    0    0    0    0    0\n",
      "    0    0    0    0    0    0    0    0    0    0    0    0    0    0\n",
      "    0    0    0    0    0    0    0    0    0    0    0    0    0    0\n",
      "    0    0    0    0    0    0    0    0    0    0    0    0    0    0\n",
      "    0    0    0    0    0    0    0    0    0    0    0    0    0    0\n",
      "    0    0    0    0    0    0    0    0    0    0    0    0    0    0\n",
      "    0    0    0    0    0    0    0    0    0    0    0    0    0    0\n",
      "    0    0    0    0    0    0    0    0    0    0    0    0    0    0\n",
      "    0    0    0    0    0    0    0    0    0    0    0    0    0    0\n",
      "    0    0    0    0    0    0    0    0    0    0    0    0    0    0\n",
      "    0    0    0    0    0    0    0    0    0    0    0    0    0    0\n",
      "    0    0    0    0    0    0    0    0    0    0    0    0    0    0\n",
      "    0   93   85 2821  311  155    9    5  435  155   62    5  471 2821\n",
      " 2821  102   87  103    4 2821 2821   52  279]\n"
     ]
    }
   ],
   "source": [
    "from sklearn.utils import shuffle\n",
    "pad_train, y_train = shuffle(pad_train, y_train)\n",
    "print(pad_train[9])"
   ]
  },
  {
   "cell_type": "markdown",
   "id": "43b47438",
   "metadata": {
    "papermill": {
     "duration": 0.007632,
     "end_time": "2022-08-03T17:05:23.686626",
     "exception": false,
     "start_time": "2022-08-03T17:05:23.678994",
     "status": "completed"
    },
    "tags": []
   },
   "source": [
    "### Creating LST model to predict effectiveness of arguments.\n",
    "Create LST model and add neuron layers to easily define relationship of the output classess. Last layer based on number of desired categorical/classes output of interest.\n",
    "\n",
    "Linear regularization used in optimizer settings to prevent overfitting of data."
   ]
  },
  {
   "cell_type": "code",
   "execution_count": 14,
   "id": "7e442fde",
   "metadata": {
    "execution": {
     "iopub.execute_input": "2022-08-03T17:05:23.704071Z",
     "iopub.status.busy": "2022-08-03T17:05:23.703176Z",
     "iopub.status.idle": "2022-08-03T17:05:26.983969Z",
     "shell.execute_reply": "2022-08-03T17:05:26.982975Z"
    },
    "papermill": {
     "duration": 3.291613,
     "end_time": "2022-08-03T17:05:26.986022",
     "exception": false,
     "start_time": "2022-08-03T17:05:23.694409",
     "status": "completed"
    },
    "tags": []
   },
   "outputs": [
    {
     "name": "stderr",
     "output_type": "stream",
     "text": [
      "2022-08-03 17:05:24.043550: I tensorflow/stream_executor/cuda/cuda_gpu_executor.cc:937] successful NUMA node read from SysFS had negative value (-1), but there must be at least one NUMA node, so returning NUMA node zero\n",
      "2022-08-03 17:05:24.139098: I tensorflow/stream_executor/cuda/cuda_gpu_executor.cc:937] successful NUMA node read from SysFS had negative value (-1), but there must be at least one NUMA node, so returning NUMA node zero\n",
      "2022-08-03 17:05:24.139844: I tensorflow/stream_executor/cuda/cuda_gpu_executor.cc:937] successful NUMA node read from SysFS had negative value (-1), but there must be at least one NUMA node, so returning NUMA node zero\n",
      "2022-08-03 17:05:24.141251: I tensorflow/core/platform/cpu_feature_guard.cc:142] This TensorFlow binary is optimized with oneAPI Deep Neural Network Library (oneDNN) to use the following CPU instructions in performance-critical operations:  AVX2 AVX512F FMA\n",
      "To enable them in other operations, rebuild TensorFlow with the appropriate compiler flags.\n",
      "2022-08-03 17:05:24.141604: I tensorflow/stream_executor/cuda/cuda_gpu_executor.cc:937] successful NUMA node read from SysFS had negative value (-1), but there must be at least one NUMA node, so returning NUMA node zero\n",
      "2022-08-03 17:05:24.142321: I tensorflow/stream_executor/cuda/cuda_gpu_executor.cc:937] successful NUMA node read from SysFS had negative value (-1), but there must be at least one NUMA node, so returning NUMA node zero\n",
      "2022-08-03 17:05:24.142957: I tensorflow/stream_executor/cuda/cuda_gpu_executor.cc:937] successful NUMA node read from SysFS had negative value (-1), but there must be at least one NUMA node, so returning NUMA node zero\n",
      "2022-08-03 17:05:26.285377: I tensorflow/stream_executor/cuda/cuda_gpu_executor.cc:937] successful NUMA node read from SysFS had negative value (-1), but there must be at least one NUMA node, so returning NUMA node zero\n",
      "2022-08-03 17:05:26.286393: I tensorflow/stream_executor/cuda/cuda_gpu_executor.cc:937] successful NUMA node read from SysFS had negative value (-1), but there must be at least one NUMA node, so returning NUMA node zero\n",
      "2022-08-03 17:05:26.287083: I tensorflow/stream_executor/cuda/cuda_gpu_executor.cc:937] successful NUMA node read from SysFS had negative value (-1), but there must be at least one NUMA node, so returning NUMA node zero\n",
      "2022-08-03 17:05:26.287668: I tensorflow/core/common_runtime/gpu/gpu_device.cc:1510] Created device /job:localhost/replica:0/task:0/device:GPU:0 with 15403 MB memory:  -> device: 0, name: Tesla P100-PCIE-16GB, pci bus id: 0000:00:04.0, compute capability: 6.0\n"
     ]
    },
    {
     "name": "stdout",
     "output_type": "stream",
     "text": [
      "Model: \"sequential\"\n",
      "_________________________________________________________________\n",
      "Layer (type)                 Output Shape              Param #   \n",
      "=================================================================\n",
      "embedding (Embedding)        (None, None, 100)         300000    \n",
      "_________________________________________________________________\n",
      "spatial_dropout1d (SpatialDr (None, None, 100)         0         \n",
      "_________________________________________________________________\n",
      "lstm (LSTM)                  (None, 128)               117248    \n",
      "_________________________________________________________________\n",
      "dense (Dense)                (None, 128)               16512     \n",
      "_________________________________________________________________\n",
      "dense_1 (Dense)              (None, 128)               16512     \n",
      "_________________________________________________________________\n",
      "dropout (Dropout)            (None, 128)               0         \n",
      "_________________________________________________________________\n",
      "dense_2 (Dense)              (None, 128)               16512     \n",
      "_________________________________________________________________\n",
      "dense_3 (Dense)              (None, 64)                8256      \n",
      "_________________________________________________________________\n",
      "dense_4 (Dense)              (None, 64)                4160      \n",
      "_________________________________________________________________\n",
      "dropout_1 (Dropout)          (None, 64)                0         \n",
      "_________________________________________________________________\n",
      "dense_5 (Dense)              (None, 3)                 195       \n",
      "=================================================================\n",
      "Total params: 479,395\n",
      "Trainable params: 479,395\n",
      "Non-trainable params: 0\n",
      "_________________________________________________________________\n"
     ]
    }
   ],
   "source": [
    "import tensorflow as tf\n",
    "from tensorflow.keras import regularizers\n",
    "import keras\n",
    "from keras.callbacks import EarlyStopping\n",
    "from tensorflow.keras.models import Sequential \n",
    "import tensorflow\n",
    "from tensorflow.keras.layers import Dropout\n",
    "\n",
    "# Create LST model and add neuron layers to easily define relationship of the output classess. Last layer based on number of desired categorical/classes output of interest.\n",
    "# Linear regularization used in optimizer settings to prevent overfitting of data.\n",
    "lst_mod = tf.keras.Sequential([\n",
    "    tf.keras.layers.Embedding(input_dim=3000, output_dim=100),\n",
    "    tf.keras.layers.SpatialDropout1D(0.3),\n",
    "    tf.keras.layers.LSTM(128),\n",
    "    tf.keras.layers.Dense(128, activation='relu'),\n",
    "    tf.keras.layers.Dense(128, activation='relu'),\n",
    "    tf.keras.layers.Dropout(0.3),\n",
    "    tf.keras.layers.Dense(128, activation='relu'),\n",
    "    tf.keras.layers.Dense(64, activation='relu'),\n",
    "    tf.keras.layers.Dense(64, activation='relu'),\n",
    "    tf.keras.layers.Dropout(0.2),\n",
    "    tf.keras.layers.Dense(3, activation='softmax')\n",
    "])\n",
    "\n",
    "optimizer = tf.keras.optimizers.Adam(learning_rate=0.001)\n",
    "lst_mod.compile(loss='categorical_crossentropy', optimizer=optimizer, metrics=['accuracy'])\n",
    "lst_mod.summary()"
   ]
  },
  {
   "cell_type": "markdown",
   "id": "06cc94ab",
   "metadata": {
    "papermill": {
     "duration": 0.008075,
     "end_time": "2022-08-03T17:05:27.002531",
     "exception": false,
     "start_time": "2022-08-03T17:05:26.994456",
     "status": "completed"
    },
    "tags": []
   },
   "source": [
    "#### Implementing early stopper to prevent overfitting of data that may occur on validation accuracy.\n"
   ]
  },
  {
   "cell_type": "code",
   "execution_count": 15,
   "id": "2d0b17f1",
   "metadata": {
    "execution": {
     "iopub.execute_input": "2022-08-03T17:05:27.020529Z",
     "iopub.status.busy": "2022-08-03T17:05:27.019991Z",
     "iopub.status.idle": "2022-08-03T17:05:27.025933Z",
     "shell.execute_reply": "2022-08-03T17:05:27.024522Z"
    },
    "papermill": {
     "duration": 0.017042,
     "end_time": "2022-08-03T17:05:27.027985",
     "exception": false,
     "start_time": "2022-08-03T17:05:27.010943",
     "status": "completed"
    },
    "tags": []
   },
   "outputs": [],
   "source": [
    "class earlystop(tf.keras.callbacks.Callback):\n",
    "  def on_epoch_end(self, epoch, logs={}): \n",
    "    if(logs.get('val_accuracy')>0.855):\n",
    "      print(\"Accuracy has reached > 85.5%!\") \n",
    "      self.model.stop_training = True\n",
    "es = earlystop() "
   ]
  },
  {
   "cell_type": "markdown",
   "id": "fdd57847",
   "metadata": {
    "papermill": {
     "duration": 0.007653,
     "end_time": "2022-08-03T17:05:27.043519",
     "exception": false,
     "start_time": "2022-08-03T17:05:27.035866",
     "status": "completed"
    },
    "tags": []
   },
   "source": [
    "After numerous trial runs, epochs = 20 provides constant increase in test accuracy. If epochs > 20, LST model may overfit, where train accuracy graduaually increasing while validation accuracy decreases."
   ]
  },
  {
   "cell_type": "code",
   "execution_count": 16,
   "id": "800b010f",
   "metadata": {
    "execution": {
     "iopub.execute_input": "2022-08-03T17:05:27.060591Z",
     "iopub.status.busy": "2022-08-03T17:05:27.060109Z",
     "iopub.status.idle": "2022-08-03T17:08:44.516044Z",
     "shell.execute_reply": "2022-08-03T17:08:44.514750Z"
    },
    "papermill": {
     "duration": 197.467062,
     "end_time": "2022-08-03T17:08:44.518479",
     "exception": false,
     "start_time": "2022-08-03T17:05:27.051417",
     "status": "completed"
    },
    "tags": []
   },
   "outputs": [
    {
     "name": "stderr",
     "output_type": "stream",
     "text": [
      "2022-08-03 17:05:27.146718: I tensorflow/compiler/mlir/mlir_graph_optimization_pass.cc:185] None of the MLIR Optimization Passes are enabled (registered 2)\n"
     ]
    },
    {
     "name": "stdout",
     "output_type": "stream",
     "text": [
      "Epoch 1/20\n"
     ]
    },
    {
     "name": "stderr",
     "output_type": "stream",
     "text": [
      "2022-08-03 17:05:29.504947: I tensorflow/stream_executor/cuda/cuda_dnn.cc:369] Loaded cuDNN version 8005\n"
     ]
    },
    {
     "name": "stdout",
     "output_type": "stream",
     "text": [
      "331/331 [==============================] - 14s 30ms/step - loss: 0.9037 - accuracy: 0.6005 - val_loss: 0.8342 - val_accuracy: 0.6250\n",
      "Epoch 2/20\n",
      "331/331 [==============================] - 10s 29ms/step - loss: 0.8338 - accuracy: 0.6282 - val_loss: 0.8179 - val_accuracy: 0.6358\n",
      "Epoch 3/20\n",
      "331/331 [==============================] - 10s 30ms/step - loss: 0.8186 - accuracy: 0.6363 - val_loss: 0.8317 - val_accuracy: 0.6372\n",
      "Epoch 4/20\n",
      "331/331 [==============================] - 10s 29ms/step - loss: 0.8086 - accuracy: 0.6410 - val_loss: 0.8029 - val_accuracy: 0.6511\n",
      "Epoch 5/20\n",
      "331/331 [==============================] - 10s 29ms/step - loss: 0.7953 - accuracy: 0.6474 - val_loss: 0.8106 - val_accuracy: 0.6383\n",
      "Epoch 6/20\n",
      "331/331 [==============================] - 10s 29ms/step - loss: 0.7831 - accuracy: 0.6533 - val_loss: 0.8091 - val_accuracy: 0.6486\n",
      "Epoch 7/20\n",
      "331/331 [==============================] - 10s 29ms/step - loss: 0.7781 - accuracy: 0.6529 - val_loss: 0.8037 - val_accuracy: 0.6481\n",
      "Epoch 8/20\n",
      "331/331 [==============================] - 10s 29ms/step - loss: 0.7696 - accuracy: 0.6577 - val_loss: 0.8163 - val_accuracy: 0.6334\n",
      "Epoch 9/20\n",
      "331/331 [==============================] - 10s 29ms/step - loss: 0.7627 - accuracy: 0.6612 - val_loss: 0.8057 - val_accuracy: 0.6421\n",
      "Epoch 10/20\n",
      "331/331 [==============================] - 10s 29ms/step - loss: 0.7554 - accuracy: 0.6647 - val_loss: 0.8115 - val_accuracy: 0.6350\n",
      "Epoch 11/20\n",
      "331/331 [==============================] - 10s 29ms/step - loss: 0.7477 - accuracy: 0.6680 - val_loss: 0.8086 - val_accuracy: 0.6462\n",
      "Epoch 12/20\n",
      "331/331 [==============================] - 10s 29ms/step - loss: 0.7418 - accuracy: 0.6712 - val_loss: 0.8082 - val_accuracy: 0.6473\n",
      "Epoch 13/20\n",
      "331/331 [==============================] - 10s 29ms/step - loss: 0.7324 - accuracy: 0.6737 - val_loss: 0.8173 - val_accuracy: 0.6492\n",
      "Epoch 14/20\n",
      "331/331 [==============================] - 10s 29ms/step - loss: 0.7262 - accuracy: 0.6763 - val_loss: 0.8370 - val_accuracy: 0.6454\n",
      "Epoch 15/20\n",
      "331/331 [==============================] - 10s 29ms/step - loss: 0.7187 - accuracy: 0.6800 - val_loss: 0.8186 - val_accuracy: 0.6459\n",
      "Epoch 16/20\n",
      "331/331 [==============================] - 10s 29ms/step - loss: 0.7132 - accuracy: 0.6814 - val_loss: 0.8331 - val_accuracy: 0.6350\n",
      "Epoch 17/20\n",
      "331/331 [==============================] - 10s 30ms/step - loss: 0.7053 - accuracy: 0.6868 - val_loss: 0.8444 - val_accuracy: 0.6375\n",
      "Epoch 18/20\n",
      "331/331 [==============================] - 10s 29ms/step - loss: 0.6938 - accuracy: 0.6896 - val_loss: 0.8482 - val_accuracy: 0.6478\n",
      "Epoch 19/20\n",
      "331/331 [==============================] - 10s 29ms/step - loss: 0.6871 - accuracy: 0.6947 - val_loss: 0.8524 - val_accuracy: 0.6375\n",
      "Epoch 20/20\n",
      "331/331 [==============================] - 10s 30ms/step - loss: 0.6785 - accuracy: 0.6945 - val_loss: 0.8735 - val_accuracy: 0.6231\n"
     ]
    }
   ],
   "source": [
    "lst_mod1 = lst_mod.fit(pad_train, y_train, epochs=20, callbacks=[es],\n",
    "            validation_data=(pad_test, y_test), verbose=1, batch_size=100)"
   ]
  },
  {
   "cell_type": "markdown",
   "id": "0e09cde8",
   "metadata": {
    "papermill": {
     "duration": 0.175352,
     "end_time": "2022-08-03T17:08:44.868367",
     "exception": false,
     "start_time": "2022-08-03T17:08:44.693015",
     "status": "completed"
    },
    "tags": []
   },
   "source": [
    "##### Visualize overview accuracy and validation accuracy of individual epochs of the LST model.\n",
    "\n",
    "###### Note: Saving LST model into a variable allows the model to be visualized on graph, else it would return an error where history is not callable."
   ]
  },
  {
   "cell_type": "code",
   "execution_count": 17,
   "id": "dd7ecbc2",
   "metadata": {
    "execution": {
     "iopub.execute_input": "2022-08-03T17:08:45.274089Z",
     "iopub.status.busy": "2022-08-03T17:08:45.273706Z",
     "iopub.status.idle": "2022-08-03T17:08:45.548727Z",
     "shell.execute_reply": "2022-08-03T17:08:45.547815Z"
    },
    "papermill": {
     "duration": 0.453493,
     "end_time": "2022-08-03T17:08:45.550877",
     "exception": false,
     "start_time": "2022-08-03T17:08:45.097384",
     "status": "completed"
    },
    "tags": []
   },
   "outputs": [
    {
     "data": {
      "image/png": "[encoded data removed]",
      "text/plain": [
       "<Figure size 1080x720 with 1 Axes>"
      ]
     },
     "metadata": {},
     "output_type": "display_data"
    }
   ],
   "source": [
    "plt.figure(figsize = (15,10))\n",
    "plt.plot(lst_mod1.history['accuracy'])\n",
    "plt.plot(lst_mod1.history['val_accuracy'])\n",
    "plt.title('accuracy')\n",
    "plt.ylabel('accuracy')\n",
    "plt.xlabel('epoch')\n",
    "plt.legend(['train', 'val'], loc='upper left')\n",
    "plt.show()"
   ]
  },
  {
   "cell_type": "markdown",
   "id": "99ed825d",
   "metadata": {
    "papermill": {
     "duration": 0.176526,
     "end_time": "2022-08-03T17:08:45.904531",
     "exception": false,
     "start_time": "2022-08-03T17:08:45.728005",
     "status": "completed"
    },
    "tags": []
   },
   "source": [
    "##### Predict LST model on padded test set."
   ]
  },
  {
   "cell_type": "code",
   "execution_count": 18,
   "id": "c795782d",
   "metadata": {
    "execution": {
     "iopub.execute_input": "2022-08-03T17:08:46.257715Z",
     "iopub.status.busy": "2022-08-03T17:08:46.257355Z",
     "iopub.status.idle": "2022-08-03T17:08:47.215342Z",
     "shell.execute_reply": "2022-08-03T17:08:47.214053Z"
    },
    "papermill": {
     "duration": 1.137617,
     "end_time": "2022-08-03T17:08:47.218046",
     "exception": false,
     "start_time": "2022-08-03T17:08:46.080429",
     "status": "completed"
    },
    "tags": []
   },
   "outputs": [
    {
     "name": "stdout",
     "output_type": "stream",
     "text": [
      "[[5.5952787e-01 8.0368674e-04 4.3966845e-01]\n",
      " [7.0691580e-01 8.2555212e-02 2.1052898e-01]\n",
      " [7.1928936e-01 2.4198513e-02 2.5651208e-01]\n",
      " ...\n",
      " [8.2983404e-01 9.3971759e-02 7.6194160e-02]\n",
      " [6.5522099e-01 3.4216049e-01 2.6185091e-03]\n",
      " [7.4542069e-01 1.8703757e-01 6.7541666e-02]]\n"
     ]
    }
   ],
   "source": [
    "y_predict = lst_mod.predict(pad_test, verbose=0)\n",
    "print(y_predict)"
   ]
  },
  {
   "cell_type": "markdown",
   "id": "43885e84",
   "metadata": {
    "papermill": {
     "duration": 0.176296,
     "end_time": "2022-08-03T17:08:47.570840",
     "exception": false,
     "start_time": "2022-08-03T17:08:47.394544",
     "status": "completed"
    },
    "tags": []
   },
   "source": [
    "#### Confusion matrix "
   ]
  },
  {
   "cell_type": "code",
   "execution_count": 19,
   "id": "2c5deb46",
   "metadata": {
    "execution": {
     "iopub.execute_input": "2022-08-03T17:08:47.924280Z",
     "iopub.status.busy": "2022-08-03T17:08:47.923890Z",
     "iopub.status.idle": "2022-08-03T17:08:47.944266Z",
     "shell.execute_reply": "2022-08-03T17:08:47.942707Z"
    },
    "papermill": {
     "duration": 0.201874,
     "end_time": "2022-08-03T17:08:47.946380",
     "exception": false,
     "start_time": "2022-08-03T17:08:47.744506",
     "status": "completed"
    },
    "tags": []
   },
   "outputs": [
    {
     "name": "stdout",
     "output_type": "stream",
     "text": [
      "[[1671  246  181]\n",
      " [ 429  480   24]\n",
      " [ 468   38  140]]\n",
      "0.6230622790318194\n",
      "              precision    recall  f1-score   support\n",
      "\n",
      "           0       0.65      0.80      0.72      2098\n",
      "           1       0.63      0.51      0.57       933\n",
      "           2       0.41      0.22      0.28       646\n",
      "\n",
      "    accuracy                           0.62      3677\n",
      "   macro avg       0.56      0.51      0.52      3677\n",
      "weighted avg       0.60      0.62      0.60      3677\n",
      "\n"
     ]
    }
   ],
   "source": [
    "import sklearn.metrics as metrics\n",
    "from sklearn.metrics import classification_report,confusion_matrix,accuracy_score\n",
    "test_cm = metrics.confusion_matrix(y_test.argmax(axis=1), y_predict.argmax(axis=1))\n",
    "print(test_cm)\n",
    "test_score = metrics.accuracy_score(y_test.argmax(axis=1), y_predict.argmax(axis=1))\n",
    "print(test_score)\n",
    "test_report = metrics.classification_report(y_test.argmax(axis=1), y_predict.argmax(axis=1))\n",
    "print(test_report)\n"
   ]
  },
  {
   "cell_type": "markdown",
   "id": "92f872f0",
   "metadata": {
    "papermill": {
     "duration": 0.17433,
     "end_time": "2022-08-03T17:08:48.335908",
     "exception": false,
     "start_time": "2022-08-03T17:08:48.161578",
     "status": "completed"
    },
    "tags": []
   },
   "source": [
    "It can be seen that basesd on classification report, 0: 'Adequate' has the highest overall accuracy in terms of precision (actual true positive ouf of predicted positive), recall (true positive rate) and f1-score (mean of precision and recall, taking consideration of false positive and false negatives)\n",
    "\n",
    "It can also be observed that 'Adequate' has the highest number of observations supporting its accuracy.\n",
    "\n",
    "Followed by 1:'Effective' with the second highest accuracy and 2: 'Ineffective' as the least overall accuracy. \n"
   ]
  },
  {
   "cell_type": "markdown",
   "id": "a9f07b66",
   "metadata": {
    "papermill": {
     "duration": 0.175781,
     "end_time": "2022-08-03T17:08:48.684614",
     "exception": false,
     "start_time": "2022-08-03T17:08:48.508833",
     "status": "completed"
    },
    "tags": []
   },
   "source": [
    "#### Visualize Confusion Matrix"
   ]
  },
  {
   "cell_type": "code",
   "execution_count": 20,
   "id": "a40ad679",
   "metadata": {
    "execution": {
     "iopub.execute_input": "2022-08-03T17:08:49.037561Z",
     "iopub.status.busy": "2022-08-03T17:08:49.037204Z",
     "iopub.status.idle": "2022-08-03T17:08:49.303850Z",
     "shell.execute_reply": "2022-08-03T17:08:49.302954Z"
    },
    "papermill": {
     "duration": 0.445836,
     "end_time": "2022-08-03T17:08:49.306124",
     "exception": false,
     "start_time": "2022-08-03T17:08:48.860288",
     "status": "completed"
    },
    "tags": []
   },
   "outputs": [
    {
     "data": {
      "image/png": "[encoded data removed]",
      "text/plain": [
       "<Figure size 720x576 with 2 Axes>"
      ]
     },
     "metadata": {},
     "output_type": "display_data"
    }
   ],
   "source": [
    "test_cm = pd.DataFrame(test_cm, range(3), range(3))\n",
    "plt.figure(figsize = (10,8))\n",
    "sns.set(font_scale=2)\n",
    "sns.heatmap(test_cm, annot=True, annot_kws={\"size\": 21},fmt='d')\n",
    "plt.show()"
   ]
  },
  {
   "cell_type": "markdown",
   "id": "3f2baac9",
   "metadata": {
    "papermill": {
     "duration": 0.17719,
     "end_time": "2022-08-03T17:08:49.659265",
     "exception": false,
     "start_time": "2022-08-03T17:08:49.482075",
     "status": "completed"
    },
    "tags": []
   },
   "source": [
    "#### Rename columns and Export final test.csv dataset for submission.\n"
   ]
  },
  {
   "cell_type": "code",
   "execution_count": 21,
   "id": "e85fe54e",
   "metadata": {
    "execution": {
     "iopub.execute_input": "2022-08-03T17:08:50.024497Z",
     "iopub.status.busy": "2022-08-03T17:08:50.024131Z",
     "iopub.status.idle": "2022-08-03T17:08:50.059388Z",
     "shell.execute_reply": "2022-08-03T17:08:50.057605Z"
    },
    "papermill": {
     "duration": 0.214136,
     "end_time": "2022-08-03T17:08:50.061531",
     "exception": false,
     "start_time": "2022-08-03T17:08:49.847395",
     "status": "completed"
    },
    "tags": []
   },
   "outputs": [
    {
     "name": "stdout",
     "output_type": "stream",
     "text": [
      "      discourse_id  Adequate  Effective  Ineffective\n",
      "0     0013cc385424  0.559528   0.000804     0.439668\n",
      "1     9704a709b505  0.706916   0.082555     0.210529\n",
      "2     c22adee811b6  0.719289   0.024199     0.256512\n",
      "3     a10d361e54e4  0.125729   0.872661     0.001610\n",
      "4     db3e453ec4e2  0.457135   0.034265     0.508600\n",
      "...            ...       ...        ...          ...\n",
      "3672  643277623c55  0.062437   0.936672     0.000890\n",
      "3673  f315ff556868  0.335047   0.663321     0.001632\n",
      "3674  7a3aef0cfc2d  0.829834   0.093972     0.076194\n",
      "3675  09cc9d107416  0.655221   0.342160     0.002619\n",
      "3676  13290ff2b629  0.745421   0.187038     0.067542\n",
      "\n",
      "[3677 rows x 4 columns]\n"
     ]
    }
   ],
   "source": [
    "df_test_predict = pd.DataFrame(y_predict, columns=['Adequate','Effective','Ineffective'])\n",
    "final_test_dataset = pd.merge(df_feeds, df_test_predict, how = 'right', left_index= True ,right_index =True)\n",
    "final_test_dataset = final_test_dataset[['discourse_id', 'Adequate_y', 'Effective_y','Ineffective_y']]\n",
    "final_test_dataset.rename(columns={'Adequate_y' : 'Adequate', 'Effective_y' : 'Effective', 'Ineffective_y' : 'Ineffective'}, inplace=True)\n",
    "final_test_dataset.to_csv('submission.csv', index=False)\n",
    "print(final_test_dataset)"
   ]
  }
 ],
 "metadata": {
  "kernelspec": {
   "display_name": "Python 3",
   "language": "python",
   "name": "python3"
  },
  "language_info": {
   "codemirror_mode": {
    "name": "ipython",
    "version": 3
   },
   "file_extension": ".py",
   "mimetype": "text/x-python",
   "name": "python",
   "nbconvert_exporter": "python",
   "pygments_lexer": "ipython3",
   "version": "3.7.12"
  },
  "papermill": {
   "default_parameters": {},
   "duration": 242.56551,
   "end_time": "2022-08-03T17:08:53.811016",
   "environment_variables": {},
   "exception": null,
   "input_path": "__notebook__.ipynb",
   "output_path": "__notebook__.ipynb",
   "parameters": {},
   "start_time": "2022-08-03T17:04:51.245506",
   "version": "2.3.4"
  }
 },
 "nbformat": 4,
 "nbformat_minor": 5
}
