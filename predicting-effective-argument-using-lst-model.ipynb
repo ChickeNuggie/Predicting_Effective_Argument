{
 "cells": [
  {
   "cell_type": "markdown",
   "id": "59252c7e",
   "metadata": {
    "papermill": {
     "duration": 0.008126,
     "end_time": "2022-08-03T18:07:00.584029",
     "exception": false,
     "start_time": "2022-08-03T18:07:00.575903",
     "status": "completed"
    },
    "tags": []
   },
   "source": [
    "### Load the dataset from kaggle's data directory.\n",
    "Check the working directory of kaggle's dataset and load its train dataset."
   ]
  },
  {
   "cell_type": "code",
   "execution_count": 1,
   "id": "01697b0f",
   "metadata": {
    "execution": {
     "iopub.execute_input": "2022-08-03T18:07:00.601603Z",
     "iopub.status.busy": "2022-08-03T18:07:00.601041Z",
     "iopub.status.idle": "2022-08-03T18:07:00.616539Z",
     "shell.execute_reply": "2022-08-03T18:07:00.615544Z"
    },
    "papermill": {
     "duration": 0.027088,
     "end_time": "2022-08-03T18:07:00.618750",
     "exception": false,
     "start_time": "2022-08-03T18:07:00.591662",
     "status": "completed"
    },
    "tags": []
   },
   "outputs": [
    {
     "data": {
      "text/plain": [
       "['sample_submission.csv', 'train.csv', 'test.csv', 'test', 'train']"
      ]
     },
     "execution_count": 1,
     "metadata": {},
     "output_type": "execute_result"
    }
   ],
   "source": [
    "import os\n",
    "os.listdir('/kaggle/input/feedback-prize-effectiveness')"
   ]
  },
  {
   "cell_type": "code",
   "execution_count": 2,
   "id": "cb440000",
   "metadata": {
    "execution": {
     "iopub.execute_input": "2022-08-03T18:07:00.637549Z",
     "iopub.status.busy": "2022-08-03T18:07:00.637233Z",
     "iopub.status.idle": "2022-08-03T18:07:02.441164Z",
     "shell.execute_reply": "2022-08-03T18:07:02.440101Z"
    },
    "papermill": {
     "duration": 1.817631,
     "end_time": "2022-08-03T18:07:02.444018",
     "exception": false,
     "start_time": "2022-08-03T18:07:00.626387",
     "status": "completed"
    },
    "tags": []
   },
   "outputs": [],
   "source": [
    "import numpy as np\n",
    "import pandas as pd\n",
    "from sklearn.model_selection import train_test_split, GridSearchCV \n",
    "\n",
    "\n",
    "df_feeds = pd.read_csv(\"../input/feedback-prize-effectiveness/train.csv\")\n",
    "df_feeds['discourse_text'].isnull().sum() # checks for NAs\n",
    "\n",
    "import string\n",
    "string.punctuation \n",
    "import re\n",
    "\n",
    "\n",
    "from nltk.corpus import stopwords \n",
    "from collections import Counter\n",
    "from itertools import chain\n",
    "\n"
   ]
  },
  {
   "cell_type": "markdown",
   "id": "1c3f15be",
   "metadata": {
    "papermill": {
     "duration": 0.007194,
     "end_time": "2022-08-03T18:07:02.458637",
     "exception": false,
     "start_time": "2022-08-03T18:07:02.451443",
     "status": "completed"
    },
    "tags": []
   },
   "source": [
    "### Data pre-processing\n",
    "\n",
    "Remove stopwords from corpus stopwords dictionary to prevent commonly used language or text such as 'a', 'the', etc, that may affect the predictive performance."
   ]
  },
  {
   "cell_type": "code",
   "execution_count": 3,
   "id": "127fd709",
   "metadata": {
    "execution": {
     "iopub.execute_input": "2022-08-03T18:07:02.474355Z",
     "iopub.status.busy": "2022-08-03T18:07:02.474029Z",
     "iopub.status.idle": "2022-08-03T18:07:03.408840Z",
     "shell.execute_reply": "2022-08-03T18:07:03.407883Z"
    },
    "papermill": {
     "duration": 0.945542,
     "end_time": "2022-08-03T18:07:03.411408",
     "exception": false,
     "start_time": "2022-08-03T18:07:02.465866",
     "status": "completed"
    },
    "tags": []
   },
   "outputs": [
    {
     "name": "stdout",
     "output_type": "stream",
     "text": [
      "0        hi  i m isaac  i m going to be writing about h...\n",
      "1        on my perspective  i think that the face is a ...\n",
      "2        i think that the face is a natural landform be...\n",
      "3        if life was on mars  we would know by now  the...\n",
      "4        people thought that the face was formed by ali...\n",
      "                               ...                        \n",
      "36760    for many people they don t like only asking on...\n",
      "36761    also people have different views and opinions ...\n",
      "36762    advice is something that can impact a persons ...\n",
      "36763    someone can use everything that many people sa...\n",
      "36764    in conclusion asking for an opinion can be ben...\n",
      "Name: discourse_text, Length: 36765, dtype: object\n"
     ]
    }
   ],
   "source": [
    "stop = set(stopwords.words('english')) \n",
    "df_feeds['discourse_text'].replace(\"[^a-zA-Z]\",\" \", regex=True, inplace =True)  # match strings that contains non-letter and replace with black to remove string.punctuations.\n",
    "df_feeds['discourse_text'] = df_feeds['discourse_text'].str.lower() # converts strings to lower case.\n",
    "print(df_feeds['discourse_text'])\n",
    "df_feeds['discourse_text'] = df_feeds['discourse_text'].apply(lambda x: [item for item in str(x).split() if item not in stop])\n",
    "freq = pd.Series(Counter(chain.from_iterable(df_feeds['discourse_text']))).sort_values(ascending=False) # count the frequencies of words."
   ]
  },
  {
   "cell_type": "markdown",
   "id": "5d30a9de",
   "metadata": {
    "papermill": {
     "duration": 0.007984,
     "end_time": "2022-08-03T18:07:03.427165",
     "exception": false,
     "start_time": "2022-08-03T18:07:03.419181",
     "status": "completed"
    },
    "tags": []
   },
   "source": [
    "#### Note: To access and run nltk corpora 'owm-1.4' file without internet, simply download the file at https://raw.githubusercontent.com/nltk/nltk_data/gh-pages/packages/corpora/omw-1.4.zip , upload to kaggle dataset and run the below command to install the file from kaggle input into the kernel."
   ]
  },
  {
   "cell_type": "code",
   "execution_count": 4,
   "id": "2fcb4c5b",
   "metadata": {
    "execution": {
     "iopub.execute_input": "2022-08-03T18:07:03.444169Z",
     "iopub.status.busy": "2022-08-03T18:07:03.443580Z",
     "iopub.status.idle": "2022-08-03T18:07:04.436147Z",
     "shell.execute_reply": "2022-08-03T18:07:04.434773Z"
    },
    "papermill": {
     "duration": 1.003978,
     "end_time": "2022-08-03T18:07:04.439326",
     "exception": false,
     "start_time": "2022-08-03T18:07:03.435348",
     "status": "completed"
    },
    "tags": []
   },
   "outputs": [],
   "source": [
    "!ln -s /kaggle/input/nltk-omw/omw-1.4 /usr/share/nltk_data/corpora/omw-1.4 "
   ]
  },
  {
   "cell_type": "markdown",
   "id": "344a53f9",
   "metadata": {
    "papermill": {
     "duration": 0.007049,
     "end_time": "2022-08-03T18:07:04.453805",
     "exception": false,
     "start_time": "2022-08-03T18:07:04.446756",
     "status": "completed"
    },
    "tags": []
   },
   "source": [
    "Test if the file is working"
   ]
  },
  {
   "cell_type": "code",
   "execution_count": 5,
   "id": "8de8693a",
   "metadata": {
    "execution": {
     "iopub.execute_input": "2022-08-03T18:07:04.470574Z",
     "iopub.status.busy": "2022-08-03T18:07:04.470194Z",
     "iopub.status.idle": "2022-08-03T18:07:06.418614Z",
     "shell.execute_reply": "2022-08-03T18:07:06.417687Z"
    },
    "papermill": {
     "duration": 1.959239,
     "end_time": "2022-08-03T18:07:06.420944",
     "exception": false,
     "start_time": "2022-08-03T18:07:04.461705",
     "status": "completed"
    },
    "tags": []
   },
   "outputs": [
    {
     "data": {
      "text/plain": [
       "[Synset('trial.n.02'),\n",
       " Synset('test.n.02'),\n",
       " Synset('examination.n.02'),\n",
       " Synset('test.n.04'),\n",
       " Synset('test.n.05'),\n",
       " Synset('test.n.06'),\n",
       " Synset('test.v.01'),\n",
       " Synset('screen.v.01'),\n",
       " Synset('quiz.v.01'),\n",
       " Synset('test.v.04'),\n",
       " Synset('test.v.05'),\n",
       " Synset('test.v.06'),\n",
       " Synset('test.v.07')]"
      ]
     },
     "execution_count": 5,
     "metadata": {},
     "output_type": "execute_result"
    }
   ],
   "source": [
    "import nltk\n",
    "nltk.corpus.wordnet.synsets('test')"
   ]
  },
  {
   "cell_type": "markdown",
   "id": "8779f485",
   "metadata": {
    "papermill": {
     "duration": 0.006999,
     "end_time": "2022-08-03T18:07:06.435351",
     "exception": false,
     "start_time": "2022-08-03T18:07:06.428352",
     "status": "completed"
    },
    "tags": []
   },
   "source": [
    "#### Lemmatize all tokens into a new list to prevent overfitting of dataset when verb, nouns, adverb or adjectives are not as concerning on the impact of effectiveness of an argument.\n"
   ]
  },
  {
   "cell_type": "code",
   "execution_count": 6,
   "id": "35377426",
   "metadata": {
    "execution": {
     "iopub.execute_input": "2022-08-03T18:07:06.450981Z",
     "iopub.status.busy": "2022-08-03T18:07:06.450666Z",
     "iopub.status.idle": "2022-08-03T18:07:18.496983Z",
     "shell.execute_reply": "2022-08-03T18:07:18.496018Z"
    },
    "papermill": {
     "duration": 12.057001,
     "end_time": "2022-08-03T18:07:18.499380",
     "exception": false,
     "start_time": "2022-08-03T18:07:06.442379",
     "status": "completed"
    },
    "tags": []
   },
   "outputs": [],
   "source": [
    "from nltk.stem import WordNetLemmatizer\n",
    "from nltk.tokenize import word_tokenize\n",
    "from nltk import word_tokenize\n",
    "wordnet_lem = WordNetLemmatizer()\n",
    "df_feeds['discourse_text'] = df_feeds['discourse_text'].apply(\n",
    "                   lambda lst:[wordnet_lem.lemmatize(word, pos='v') for word in lst])\n",
    "df_feeds['discourse_text'] = df_feeds['discourse_text'].apply(\n",
    "                    lambda lst:[wordnet_lem.lemmatize(word, pos='n') for word in lst])\n",
    "df_feeds['discourse_text'] = df_feeds['discourse_text'].apply(\n",
    "                    lambda lst:[wordnet_lem.lemmatize(word, pos='r') for word in lst])\n",
    "df_feeds['discourse_text'] = df_feeds['discourse_text'].apply(\n",
    "                    lambda lst:[wordnet_lem.lemmatize(word, pos='a') for word in lst])\n",
    "freq_final = pd.Series(Counter(chain.from_iterable(df_feeds['discourse_text']))).sort_values(ascending=False)\n"
   ]
  },
  {
   "cell_type": "markdown",
   "id": "06ab6637",
   "metadata": {
    "papermill": {
     "duration": 0.006917,
     "end_time": "2022-08-03T18:07:18.513920",
     "exception": false,
     "start_time": "2022-08-03T18:07:18.507003",
     "status": "completed"
    },
    "tags": []
   },
   "source": [
    "#### Visualize top 30 word frequencies. "
   ]
  },
  {
   "cell_type": "code",
   "execution_count": 7,
   "id": "da3f7ccb",
   "metadata": {
    "execution": {
     "iopub.execute_input": "2022-08-03T18:07:18.530462Z",
     "iopub.status.busy": "2022-08-03T18:07:18.529643Z",
     "iopub.status.idle": "2022-08-03T18:07:19.130074Z",
     "shell.execute_reply": "2022-08-03T18:07:19.128963Z"
    },
    "papermill": {
     "duration": 0.611155,
     "end_time": "2022-08-03T18:07:19.132407",
     "exception": false,
     "start_time": "2022-08-03T18:07:18.521252",
     "status": "completed"
    },
    "tags": []
   },
   "outputs": [
    {
     "data": {
      "image/png": "[encoded data removed]",
      "text/plain": [
       "<Figure size 576x432 with 1 Axes>"
      ]
     },
     "metadata": {
      "needs_background": "light"
     },
     "output_type": "display_data"
    }
   ],
   "source": [
    "import seaborn as sns \n",
    "import matplotlib.pyplot as plt\n",
    "top_words = freq_final.head(30).reset_index()\n",
    "\n",
    "sns.reset_orig()\n",
    "plt.figure(figsize = (8,6))\n",
    "my_palette = sns.color_palette(\"colorblind\") # variations of default palette: deep, muted, pastel, bright, dark, colorblind. \n",
    "plt.style.use('seaborn-colorblind')\n",
    "sns.set(rc={'figure.figsize':(10,5)})\n",
    "sns.barplot(x=top_words.iloc[:,1], y=top_words.iloc[:,0],data=top_words , alpha = 0.6).set_title('Top 20 count of word frequencies')\n",
    "plt.xlabel('Frequencies')\n",
    "plt.ylabel('Words')\n",
    "plt.show()"
   ]
  },
  {
   "cell_type": "markdown",
   "id": "ae4fc456",
   "metadata": {
    "papermill": {
     "duration": 0.007595,
     "end_time": "2022-08-03T18:07:19.147933",
     "exception": false,
     "start_time": "2022-08-03T18:07:19.140338",
     "status": "completed"
    },
    "tags": []
   },
   "source": [
    "#### Visualize the dataset to determine if data is normal distributed."
   ]
  },
  {
   "cell_type": "code",
   "execution_count": 8,
   "id": "ca12e5bf",
   "metadata": {
    "execution": {
     "iopub.execute_input": "2022-08-03T18:07:19.167133Z",
     "iopub.status.busy": "2022-08-03T18:07:19.165205Z",
     "iopub.status.idle": "2022-08-03T18:07:19.177080Z",
     "shell.execute_reply": "2022-08-03T18:07:19.176065Z"
    },
    "papermill": {
     "duration": 0.024022,
     "end_time": "2022-08-03T18:07:19.179984",
     "exception": false,
     "start_time": "2022-08-03T18:07:19.155962",
     "status": "completed"
    },
    "tags": []
   },
   "outputs": [
    {
     "name": "stdout",
     "output_type": "stream",
     "text": [
      "Adequate       20977\n",
      "Effective       9326\n",
      "Ineffective     6462\n",
      "Name: discourse_effectiveness, dtype: int64\n",
      "\n",
      "Predicting only 0 = 57.06% accuracy\n",
      "\n",
      "Predicting only 1 = 25.37% accuracy\n",
      "\n",
      "Predicting only 2 = 17.58% accuracy\n"
     ]
    }
   ],
   "source": [
    "counts = df_feeds.discourse_effectiveness.value_counts()\n",
    "print(counts)\n",
    "print(\"\\nPredicting only 0 = {:.2f}% accuracy\".format(counts[0] / sum(counts) * 100))\n",
    "print(\"\\nPredicting only 1 = {:.2f}% accuracy\".format(counts[1] / sum(counts) * 100))\n",
    "print(\"\\nPredicting only 2 = {:.2f}% accuracy\".format(counts[2] / sum(counts) * 100))"
   ]
  },
  {
   "cell_type": "code",
   "execution_count": 9,
   "id": "82141440",
   "metadata": {
    "execution": {
     "iopub.execute_input": "2022-08-03T18:07:19.197882Z",
     "iopub.status.busy": "2022-08-03T18:07:19.197584Z",
     "iopub.status.idle": "2022-08-03T18:07:19.412415Z",
     "shell.execute_reply": "2022-08-03T18:07:19.411542Z"
    },
    "papermill": {
     "duration": 0.225835,
     "end_time": "2022-08-03T18:07:19.414763",
     "exception": false,
     "start_time": "2022-08-03T18:07:19.188928",
     "status": "completed"
    },
    "tags": []
   },
   "outputs": [
    {
     "data": {
      "image/png": "[encoded data removed]",
      "text/plain": [
       "<Figure size 720x360 with 1 Axes>"
      ]
     },
     "metadata": {},
     "output_type": "display_data"
    }
   ],
   "source": [
    "df_counts = pd.DataFrame(counts).reset_index()\n",
    "plt.figure(figsize = (10,5))\n",
    "sns.barplot(x=df_counts['index'],y=df_counts['discourse_effectiveness'],data=df_counts,alpha = 0.6).set_title('Total count of Effectiveness')\n",
    "plt.xlabel('Effectiveness')\n",
    "plt.ylabel('Count')\n",
    "plt.show()"
   ]
  },
  {
   "cell_type": "markdown",
   "id": "c5bd725e",
   "metadata": {
    "papermill": {
     "duration": 0.007833,
     "end_time": "2022-08-03T18:07:19.430817",
     "exception": false,
     "start_time": "2022-08-03T18:07:19.422984",
     "status": "completed"
    },
    "tags": []
   },
   "source": [
    "It can be observed that there are more Adequate feedbacks than Effective and Ineffective, indicating that the data may be imbalanced and may be prone to lower prediction accuracy. "
   ]
  },
  {
   "cell_type": "markdown",
   "id": "67066e20",
   "metadata": {
    "papermill": {
     "duration": 0.007545,
     "end_time": "2022-08-03T18:07:19.446159",
     "exception": false,
     "start_time": "2022-08-03T18:07:19.438614",
     "status": "completed"
    },
    "tags": []
   },
   "source": [
    "#### One-hot-encoding by creating dummies to categorical data."
   ]
  },
  {
   "cell_type": "code",
   "execution_count": 10,
   "id": "045595d1",
   "metadata": {
    "execution": {
     "iopub.execute_input": "2022-08-03T18:07:19.464218Z",
     "iopub.status.busy": "2022-08-03T18:07:19.463242Z",
     "iopub.status.idle": "2022-08-03T18:07:19.476208Z",
     "shell.execute_reply": "2022-08-03T18:07:19.475326Z"
    },
    "papermill": {
     "duration": 0.024198,
     "end_time": "2022-08-03T18:07:19.478225",
     "exception": false,
     "start_time": "2022-08-03T18:07:19.454027",
     "status": "completed"
    },
    "tags": []
   },
   "outputs": [],
   "source": [
    "df_effects = pd.get_dummies(df_feeds.iloc[:,4])\n",
    "df_feeds = pd.concat([df_feeds, df_effects], axis=1) # combine dummy rows."
   ]
  },
  {
   "cell_type": "markdown",
   "id": "3659e8f6",
   "metadata": {
    "papermill": {
     "duration": 0.007637,
     "end_time": "2022-08-03T18:07:19.493790",
     "exception": false,
     "start_time": "2022-08-03T18:07:19.486153",
     "status": "completed"
    },
    "tags": []
   },
   "source": [
    "#### Train-test validation approach."
   ]
  },
  {
   "cell_type": "code",
   "execution_count": 11,
   "id": "f2ce2b7b",
   "metadata": {
    "execution": {
     "iopub.execute_input": "2022-08-03T18:07:19.511106Z",
     "iopub.status.busy": "2022-08-03T18:07:19.510801Z",
     "iopub.status.idle": "2022-08-03T18:07:19.548622Z",
     "shell.execute_reply": "2022-08-03T18:07:19.547646Z"
    },
    "papermill": {
     "duration": 0.04953,
     "end_time": "2022-08-03T18:07:19.551171",
     "exception": false,
     "start_time": "2022-08-03T18:07:19.501641",
     "status": "completed"
    },
    "tags": []
   },
   "outputs": [],
   "source": [
    "X_train, X_test, y_train, y_test = train_test_split(df_feeds['discourse_text'].values, df_feeds[['Adequate', 'Effective','Ineffective']].values, stratify=df_feeds['discourse_effectiveness'],test_size=0.1, random_state=100)"
   ]
  },
  {
   "cell_type": "markdown",
   "id": "77cf4ec9",
   "metadata": {
    "papermill": {
     "duration": 0.007813,
     "end_time": "2022-08-03T18:07:19.567250",
     "exception": false,
     "start_time": "2022-08-03T18:07:19.559437",
     "status": "completed"
    },
    "tags": []
   },
   "source": [
    "#### Tokenize 500 most common words to prevent overftitting from noise text that least occur."
   ]
  },
  {
   "cell_type": "code",
   "execution_count": 12,
   "id": "c26ebfae",
   "metadata": {
    "execution": {
     "iopub.execute_input": "2022-08-03T18:07:19.584819Z",
     "iopub.status.busy": "2022-08-03T18:07:19.584455Z",
     "iopub.status.idle": "2022-08-03T18:07:26.369724Z",
     "shell.execute_reply": "2022-08-03T18:07:26.368662Z"
    },
    "papermill": {
     "duration": 6.796758,
     "end_time": "2022-08-03T18:07:26.372105",
     "exception": false,
     "start_time": "2022-08-03T18:07:19.575347",
     "status": "completed"
    },
    "tags": []
   },
   "outputs": [],
   "source": [
    "from tensorflow.keras.preprocessing.text import Tokenizer\n",
    "from tensorflow.keras.preprocessing.sequence import pad_sequences\n",
    "tokenizer = Tokenizer(num_words=500, oov_token='x')\n",
    "word_index = tokenizer.word_index\n",
    "count_words = tokenizer.word_counts\n",
    "tokenizer.fit_on_texts(X_train) \n",
    "tokenizer.fit_on_texts(X_test)\n",
    "seq_train = tokenizer.texts_to_sequences(X_train)\n",
    "seq_test = tokenizer.texts_to_sequences(X_test)\n",
    "pad_train = pad_sequences(seq_train) \n",
    "pad_test = pad_sequences(seq_test)"
   ]
  },
  {
   "cell_type": "markdown",
   "id": "d7847738",
   "metadata": {
    "papermill": {
     "duration": 0.007918,
     "end_time": "2022-08-03T18:07:26.388333",
     "exception": false,
     "start_time": "2022-08-03T18:07:26.380415",
     "status": "completed"
    },
    "tags": []
   },
   "source": [
    "#### Shuffle train set after splitting to improve or avoid overfitting and ensure data are representatives.\n"
   ]
  },
  {
   "cell_type": "code",
   "execution_count": 13,
   "id": "bad2c874",
   "metadata": {
    "execution": {
     "iopub.execute_input": "2022-08-03T18:07:26.406614Z",
     "iopub.status.busy": "2022-08-03T18:07:26.405379Z",
     "iopub.status.idle": "2022-08-03T18:07:26.436330Z",
     "shell.execute_reply": "2022-08-03T18:07:26.434622Z"
    },
    "papermill": {
     "duration": 0.043002,
     "end_time": "2022-08-03T18:07:26.439254",
     "exception": false,
     "start_time": "2022-08-03T18:07:26.396252",
     "status": "completed"
    },
    "tags": []
   },
   "outputs": [
    {
     "name": "stdout",
     "output_type": "stream",
     "text": [
      "[   0    0    0    0    0    0    0    0    0    0    0    0    0    0\n",
      "    0    0    0    0    0    0    0    0    0    0    0    0    0    0\n",
      "    0    0    0    0    0    0    0    0    0    0    0    0    0    0\n",
      "    0    0    0    0    0    0    0    0    0    0    0    0    0    0\n",
      "    0    0    0    0    0    0    0    0    0    0    0    0    0    0\n",
      "    0    0    0    0    0    0    0    0    0    0    0    0    0    0\n",
      "    0    0    0    0    0    0    0    0    0    0    0    0    0    0\n",
      "    0    0    0    0    0    0    0    0    0    0    0    0    0    0\n",
      "    0    0    0    0    0    0    0    0    0    0    0    0    0    0\n",
      "    0    0    0    0    0    0    0    0    0    0    0    0    0    0\n",
      "    0    0    0    0    0    0    0    0    0    0    0    0    0    0\n",
      "    0    0    0    0    0    0    0    0    0    0    0    0    0    0\n",
      "    0    0    0    0    0    0    0    0    0    0    0    0    0    0\n",
      "    0    0    0    0    0    0    0    0    0    0    0    0    0    0\n",
      "    0    0    0    0    0    0    0    0    0    0    0    0    0    0\n",
      "    0    0    0    0    0    0    0    0    0    0    0    0    0    0\n",
      "    0    0    0    0    0    0    0    0    0    0    0    0    0    0\n",
      "    0    0    0    0    0    0    0    0    0    0    0    0    0    0\n",
      "    0    0    0    0    0    0    0    0    0    0    0    0    0    0\n",
      "    0    0    0    0    0    0    0    0    0    0    0    0    0    0\n",
      "    0    0    0    0    0    0    0    0    0    0    0    0    0    0\n",
      "    0    0    0    0    0    0    0    0    0    0    0    0    0    0\n",
      "    0    0    0    0    0    0    0    0    0    0    0    0    0    0\n",
      "    0    0    0    0    0    0    0    0    0    0    0    0    0    0\n",
      "    0    0    0    0    0    0    0    0    0    0    0    0    0    0\n",
      "    0    0    0    0    0    0    0    0    0    0    0 2821 2821  261\n",
      "  299   16 2821   16    3   37  261 2821  261]\n"
     ]
    }
   ],
   "source": [
    "from sklearn.utils import shuffle\n",
    "pad_train, y_train = shuffle(pad_train, y_train)\n",
    "print(pad_train[9])"
   ]
  },
  {
   "cell_type": "markdown",
   "id": "a17e7b07",
   "metadata": {
    "papermill": {
     "duration": 0.007966,
     "end_time": "2022-08-03T18:07:26.455829",
     "exception": false,
     "start_time": "2022-08-03T18:07:26.447863",
     "status": "completed"
    },
    "tags": []
   },
   "source": [
    "### Creating LST model to predict effectiveness of arguments.\n",
    "Create LST model and add neuron layers to easily define relationship of the output classess. Last layer based on number of desired categorical/classes output of interest.\n",
    "\n",
    "Linear regularization used in optimizer settings to prevent overfitting of data."
   ]
  },
  {
   "cell_type": "code",
   "execution_count": 14,
   "id": "e98d7cbd",
   "metadata": {
    "execution": {
     "iopub.execute_input": "2022-08-03T18:07:26.474140Z",
     "iopub.status.busy": "2022-08-03T18:07:26.473813Z",
     "iopub.status.idle": "2022-08-03T18:07:30.012572Z",
     "shell.execute_reply": "2022-08-03T18:07:30.010734Z"
    },
    "papermill": {
     "duration": 3.550497,
     "end_time": "2022-08-03T18:07:30.014836",
     "exception": false,
     "start_time": "2022-08-03T18:07:26.464339",
     "status": "completed"
    },
    "tags": []
   },
   "outputs": [
    {
     "name": "stderr",
     "output_type": "stream",
     "text": [
      "2022-08-03 18:07:26.833591: I tensorflow/stream_executor/cuda/cuda_gpu_executor.cc:937] successful NUMA node read from SysFS had negative value (-1), but there must be at least one NUMA node, so returning NUMA node zero\n",
      "2022-08-03 18:07:26.949694: I tensorflow/stream_executor/cuda/cuda_gpu_executor.cc:937] successful NUMA node read from SysFS had negative value (-1), but there must be at least one NUMA node, so returning NUMA node zero\n",
      "2022-08-03 18:07:26.950548: I tensorflow/stream_executor/cuda/cuda_gpu_executor.cc:937] successful NUMA node read from SysFS had negative value (-1), but there must be at least one NUMA node, so returning NUMA node zero\n",
      "2022-08-03 18:07:26.952351: I tensorflow/core/platform/cpu_feature_guard.cc:142] This TensorFlow binary is optimized with oneAPI Deep Neural Network Library (oneDNN) to use the following CPU instructions in performance-critical operations:  AVX2 AVX512F FMA\n",
      "To enable them in other operations, rebuild TensorFlow with the appropriate compiler flags.\n",
      "2022-08-03 18:07:26.952717: I tensorflow/stream_executor/cuda/cuda_gpu_executor.cc:937] successful NUMA node read from SysFS had negative value (-1), but there must be at least one NUMA node, so returning NUMA node zero\n",
      "2022-08-03 18:07:26.953424: I tensorflow/stream_executor/cuda/cuda_gpu_executor.cc:937] successful NUMA node read from SysFS had negative value (-1), but there must be at least one NUMA node, so returning NUMA node zero\n",
      "2022-08-03 18:07:26.954083: I tensorflow/stream_executor/cuda/cuda_gpu_executor.cc:937] successful NUMA node read from SysFS had negative value (-1), but there must be at least one NUMA node, so returning NUMA node zero\n",
      "2022-08-03 18:07:29.295831: I tensorflow/stream_executor/cuda/cuda_gpu_executor.cc:937] successful NUMA node read from SysFS had negative value (-1), but there must be at least one NUMA node, so returning NUMA node zero\n",
      "2022-08-03 18:07:29.296808: I tensorflow/stream_executor/cuda/cuda_gpu_executor.cc:937] successful NUMA node read from SysFS had negative value (-1), but there must be at least one NUMA node, so returning NUMA node zero\n",
      "2022-08-03 18:07:29.297596: I tensorflow/stream_executor/cuda/cuda_gpu_executor.cc:937] successful NUMA node read from SysFS had negative value (-1), but there must be at least one NUMA node, so returning NUMA node zero\n",
      "2022-08-03 18:07:29.298197: I tensorflow/core/common_runtime/gpu/gpu_device.cc:1510] Created device /job:localhost/replica:0/task:0/device:GPU:0 with 15403 MB memory:  -> device: 0, name: Tesla P100-PCIE-16GB, pci bus id: 0000:00:04.0, compute capability: 6.0\n"
     ]
    },
    {
     "name": "stdout",
     "output_type": "stream",
     "text": [
      "Model: \"sequential\"\n",
      "_________________________________________________________________\n",
      "Layer (type)                 Output Shape              Param #   \n",
      "=================================================================\n",
      "embedding (Embedding)        (None, None, 100)         300000    \n",
      "_________________________________________________________________\n",
      "spatial_dropout1d (SpatialDr (None, None, 100)         0         \n",
      "_________________________________________________________________\n",
      "lstm (LSTM)                  (None, 128)               117248    \n",
      "_________________________________________________________________\n",
      "dense (Dense)                (None, 128)               16512     \n",
      "_________________________________________________________________\n",
      "dense_1 (Dense)              (None, 128)               16512     \n",
      "_________________________________________________________________\n",
      "dropout (Dropout)            (None, 128)               0         \n",
      "_________________________________________________________________\n",
      "dense_2 (Dense)              (None, 128)               16512     \n",
      "_________________________________________________________________\n",
      "dense_3 (Dense)              (None, 64)                8256      \n",
      "_________________________________________________________________\n",
      "dense_4 (Dense)              (None, 64)                4160      \n",
      "_________________________________________________________________\n",
      "dropout_1 (Dropout)          (None, 64)                0         \n",
      "_________________________________________________________________\n",
      "dense_5 (Dense)              (None, 3)                 195       \n",
      "=================================================================\n",
      "Total params: 479,395\n",
      "Trainable params: 479,395\n",
      "Non-trainable params: 0\n",
      "_________________________________________________________________\n"
     ]
    }
   ],
   "source": [
    "import tensorflow as tf\n",
    "from tensorflow.keras import regularizers\n",
    "import keras\n",
    "from keras.callbacks import EarlyStopping\n",
    "from tensorflow.keras.models import Sequential \n",
    "import tensorflow\n",
    "from tensorflow.keras.layers import Dropout\n",
    "\n",
    "# Create LST model and add neuron layers to easily define relationship of the output classess. Last layer based on number of desired categorical/classes output of interest.\n",
    "# Linear regularization used in optimizer settings to prevent overfitting of data.\n",
    "lst_mod = tf.keras.Sequential([\n",
    "    tf.keras.layers.Embedding(input_dim=3000, output_dim=100),\n",
    "    tf.keras.layers.SpatialDropout1D(0.3),\n",
    "    tf.keras.layers.LSTM(128),\n",
    "    tf.keras.layers.Dense(128, activation='relu'),\n",
    "    tf.keras.layers.Dense(128, activation='relu'),\n",
    "    tf.keras.layers.Dropout(0.3),\n",
    "    tf.keras.layers.Dense(128, activation='relu'),\n",
    "    tf.keras.layers.Dense(64, activation='relu'),\n",
    "    tf.keras.layers.Dense(64, activation='relu'),\n",
    "    tf.keras.layers.Dropout(0.2),\n",
    "    tf.keras.layers.Dense(3, activation='softmax')\n",
    "])\n",
    "\n",
    "optimizer = tf.keras.optimizers.Adam(learning_rate=0.001)\n",
    "lst_mod.compile(loss='categorical_crossentropy', optimizer=optimizer, metrics=['accuracy'])\n",
    "lst_mod.summary()"
   ]
  },
  {
   "cell_type": "markdown",
   "id": "a5724898",
   "metadata": {
    "papermill": {
     "duration": 0.009132,
     "end_time": "2022-08-03T18:07:30.033671",
     "exception": false,
     "start_time": "2022-08-03T18:07:30.024539",
     "status": "completed"
    },
    "tags": []
   },
   "source": [
    "#### Implementing early stopper to prevent overfitting of data that may occur on validation accuracy.\n"
   ]
  },
  {
   "cell_type": "code",
   "execution_count": 15,
   "id": "46af51ee",
   "metadata": {
    "execution": {
     "iopub.execute_input": "2022-08-03T18:07:30.055633Z",
     "iopub.status.busy": "2022-08-03T18:07:30.054454Z",
     "iopub.status.idle": "2022-08-03T18:07:30.061267Z",
     "shell.execute_reply": "2022-08-03T18:07:30.060176Z"
    },
    "papermill": {
     "duration": 0.02022,
     "end_time": "2022-08-03T18:07:30.063728",
     "exception": false,
     "start_time": "2022-08-03T18:07:30.043508",
     "status": "completed"
    },
    "tags": []
   },
   "outputs": [],
   "source": [
    "class earlystop(tf.keras.callbacks.Callback):\n",
    "  def on_epoch_end(self, epoch, logs={}): \n",
    "    if(logs.get('val_accuracy')>0.855):\n",
    "      print(\"Accuracy has reached > 85.5%!\") \n",
    "      self.model.stop_training = True\n",
    "es = earlystop() "
   ]
  },
  {
   "cell_type": "markdown",
   "id": "7405b58d",
   "metadata": {
    "papermill": {
     "duration": 0.008891,
     "end_time": "2022-08-03T18:07:30.081851",
     "exception": false,
     "start_time": "2022-08-03T18:07:30.072960",
     "status": "completed"
    },
    "tags": []
   },
   "source": [
    "After numerous trial runs, epochs = 20 provides constant increase in test accuracy. If epochs > 20, LST model may overfit, where train accuracy graduaually increasing while validation accuracy decreases.\n",
    "\n",
    "##### Note:To run batches of data faster, it is recommended to turn on Accelerator to GPU under settings."
   ]
  },
  {
   "cell_type": "code",
   "execution_count": 16,
   "id": "d76b9c37",
   "metadata": {
    "execution": {
     "iopub.execute_input": "2022-08-03T18:07:30.101003Z",
     "iopub.status.busy": "2022-08-03T18:07:30.100650Z",
     "iopub.status.idle": "2022-08-03T18:11:53.740111Z",
     "shell.execute_reply": "2022-08-03T18:11:53.738958Z"
    },
    "papermill": {
     "duration": 263.652249,
     "end_time": "2022-08-03T18:11:53.743052",
     "exception": false,
     "start_time": "2022-08-03T18:07:30.090803",
     "status": "completed"
    },
    "tags": []
   },
   "outputs": [
    {
     "name": "stderr",
     "output_type": "stream",
     "text": [
      "2022-08-03 18:07:30.197749: I tensorflow/compiler/mlir/mlir_graph_optimization_pass.cc:185] None of the MLIR Optimization Passes are enabled (registered 2)\n"
     ]
    },
    {
     "name": "stdout",
     "output_type": "stream",
     "text": [
      "Epoch 1/20\n"
     ]
    },
    {
     "name": "stderr",
     "output_type": "stream",
     "text": [
      "2022-08-03 18:07:32.809879: I tensorflow/stream_executor/cuda/cuda_dnn.cc:369] Loaded cuDNN version 8005\n"
     ]
    },
    {
     "name": "stdout",
     "output_type": "stream",
     "text": [
      "331/331 [==============================] - 14s 31ms/step - loss: 0.9066 - accuracy: 0.6074 - val_loss: 0.8375 - val_accuracy: 0.6299\n",
      "Epoch 2/20\n",
      "331/331 [==============================] - 10s 30ms/step - loss: 0.8354 - accuracy: 0.6303 - val_loss: 0.8278 - val_accuracy: 0.6361\n",
      "Epoch 3/20\n",
      "331/331 [==============================] - 10s 30ms/step - loss: 0.8146 - accuracy: 0.6361 - val_loss: 0.8163 - val_accuracy: 0.6416\n",
      "Epoch 4/20\n",
      "331/331 [==============================] - 10s 30ms/step - loss: 0.8128 - accuracy: 0.6411 - val_loss: 0.8508 - val_accuracy: 0.6293\n",
      "Epoch 5/20\n",
      "331/331 [==============================] - 10s 30ms/step - loss: 0.8056 - accuracy: 0.6413 - val_loss: 0.8220 - val_accuracy: 0.6494\n",
      "Epoch 6/20\n",
      "331/331 [==============================] - 10s 30ms/step - loss: 0.7932 - accuracy: 0.6500 - val_loss: 0.8164 - val_accuracy: 0.6394\n",
      "Epoch 7/20\n",
      "331/331 [==============================] - 10s 30ms/step - loss: 0.7849 - accuracy: 0.6474 - val_loss: 0.8087 - val_accuracy: 0.6497\n",
      "Epoch 8/20\n",
      "331/331 [==============================] - 10s 30ms/step - loss: 0.7726 - accuracy: 0.6560 - val_loss: 0.8023 - val_accuracy: 0.6516\n",
      "Epoch 9/20\n",
      "331/331 [==============================] - 10s 30ms/step - loss: 0.7660 - accuracy: 0.6610 - val_loss: 0.8083 - val_accuracy: 0.6443\n",
      "Epoch 10/20\n",
      "331/331 [==============================] - 10s 30ms/step - loss: 0.7591 - accuracy: 0.6629 - val_loss: 0.8043 - val_accuracy: 0.6565\n",
      "Epoch 11/20\n",
      "331/331 [==============================] - 10s 30ms/step - loss: 0.7516 - accuracy: 0.6639 - val_loss: 0.8151 - val_accuracy: 0.6407\n",
      "Epoch 12/20\n",
      "331/331 [==============================] - 10s 31ms/step - loss: 0.7441 - accuracy: 0.6691 - val_loss: 0.8089 - val_accuracy: 0.6437\n",
      "Epoch 13/20\n",
      "331/331 [==============================] - 10s 30ms/step - loss: 0.7363 - accuracy: 0.6719 - val_loss: 0.8087 - val_accuracy: 0.6565\n",
      "Epoch 14/20\n",
      "331/331 [==============================] - 10s 30ms/step - loss: 0.7322 - accuracy: 0.6736 - val_loss: 0.8133 - val_accuracy: 0.6522\n",
      "Epoch 15/20\n",
      "331/331 [==============================] - 10s 30ms/step - loss: 0.7259 - accuracy: 0.6735 - val_loss: 0.8220 - val_accuracy: 0.6524\n",
      "Epoch 16/20\n",
      "331/331 [==============================] - 10s 30ms/step - loss: 0.7171 - accuracy: 0.6782 - val_loss: 0.8226 - val_accuracy: 0.6535\n",
      "Epoch 17/20\n",
      "331/331 [==============================] - 10s 30ms/step - loss: 0.7101 - accuracy: 0.6808 - val_loss: 0.8254 - val_accuracy: 0.6494\n",
      "Epoch 18/20\n",
      "331/331 [==============================] - 10s 30ms/step - loss: 0.7004 - accuracy: 0.6858 - val_loss: 0.8448 - val_accuracy: 0.6369\n",
      "Epoch 19/20\n",
      "331/331 [==============================] - 10s 30ms/step - loss: 0.6907 - accuracy: 0.6916 - val_loss: 0.8443 - val_accuracy: 0.6448\n",
      "Epoch 20/20\n",
      "331/331 [==============================] - 10s 31ms/step - loss: 0.6801 - accuracy: 0.6963 - val_loss: 0.8642 - val_accuracy: 0.6144\n"
     ]
    }
   ],
   "source": [
    "lst_mod1 = lst_mod.fit(pad_train, y_train, epochs=20, callbacks=[es],\n",
    "            validation_data=(pad_test, y_test), verbose=1, batch_size=100)"
   ]
  },
  {
   "cell_type": "markdown",
   "id": "37bcb0fd",
   "metadata": {
    "papermill": {
     "duration": 0.202889,
     "end_time": "2022-08-03T18:11:54.134987",
     "exception": false,
     "start_time": "2022-08-03T18:11:53.932098",
     "status": "completed"
    },
    "tags": []
   },
   "source": [
    "#### Visualize overview accuracy and validation accuracy of individual epochs of the LST model.\n",
    "\n",
    "##### Note: Saving LST model into a variable allows the model to be visualized on graph, else it would return an error where history is not callable."
   ]
  },
  {
   "cell_type": "code",
   "execution_count": 17,
   "id": "90483db0",
   "metadata": {
    "execution": {
     "iopub.execute_input": "2022-08-03T18:11:54.574152Z",
     "iopub.status.busy": "2022-08-03T18:11:54.573789Z",
     "iopub.status.idle": "2022-08-03T18:11:54.874341Z",
     "shell.execute_reply": "2022-08-03T18:11:54.873427Z"
    },
    "papermill": {
     "duration": 0.488001,
     "end_time": "2022-08-03T18:11:54.876687",
     "exception": false,
     "start_time": "2022-08-03T18:11:54.388686",
     "status": "completed"
    },
    "tags": []
   },
   "outputs": [
    {
     "data": {
      "image/png": "[encoded data removed]",
      "text/plain": [
       "<Figure size 1080x720 with 1 Axes>"
      ]
     },
     "metadata": {},
     "output_type": "display_data"
    }
   ],
   "source": [
    "plt.figure(figsize = (15,10))\n",
    "plt.plot(lst_mod1.history['accuracy'])\n",
    "plt.plot(lst_mod1.history['val_accuracy'])\n",
    "plt.title('accuracy')\n",
    "plt.ylabel('accuracy')\n",
    "plt.xlabel('epoch')\n",
    "plt.legend(['train', 'val'], loc='upper left')\n",
    "plt.show()"
   ]
  },
  {
   "cell_type": "markdown",
   "id": "03b2107c",
   "metadata": {
    "papermill": {
     "duration": 0.181041,
     "end_time": "2022-08-03T18:11:55.240997",
     "exception": false,
     "start_time": "2022-08-03T18:11:55.059956",
     "status": "completed"
    },
    "tags": []
   },
   "source": [
    "##### Predict LST model on padded test set."
   ]
  },
  {
   "cell_type": "code",
   "execution_count": 18,
   "id": "82e713b2",
   "metadata": {
    "execution": {
     "iopub.execute_input": "2022-08-03T18:11:55.607237Z",
     "iopub.status.busy": "2022-08-03T18:11:55.606864Z",
     "iopub.status.idle": "2022-08-03T18:11:56.577702Z",
     "shell.execute_reply": "2022-08-03T18:11:56.576333Z"
    },
    "papermill": {
     "duration": 1.155725,
     "end_time": "2022-08-03T18:11:56.580560",
     "exception": false,
     "start_time": "2022-08-03T18:11:55.424835",
     "status": "completed"
    },
    "tags": []
   },
   "outputs": [
    {
     "name": "stdout",
     "output_type": "stream",
     "text": [
      "[[6.8903941e-01 6.1921350e-04 3.1034139e-01]\n",
      " [7.2773975e-01 1.3890688e-01 1.3335344e-01]\n",
      " [6.7678088e-01 9.3050227e-03 3.1391412e-01]\n",
      " ...\n",
      " [7.8363198e-01 1.3786602e-01 7.8502066e-02]\n",
      " [3.2525325e-01 6.7399073e-01 7.5596734e-04]\n",
      " [6.2842500e-01 1.3825025e-01 2.3332475e-01]]\n"
     ]
    }
   ],
   "source": [
    "y_predict = lst_mod.predict(pad_test, verbose=0)\n",
    "print(y_predict)"
   ]
  },
  {
   "cell_type": "markdown",
   "id": "dae65ce2",
   "metadata": {
    "papermill": {
     "duration": 0.183883,
     "end_time": "2022-08-03T18:11:56.951754",
     "exception": false,
     "start_time": "2022-08-03T18:11:56.767871",
     "status": "completed"
    },
    "tags": []
   },
   "source": [
    "#### Confusion matrix "
   ]
  },
  {
   "cell_type": "code",
   "execution_count": 19,
   "id": "d50d647f",
   "metadata": {
    "execution": {
     "iopub.execute_input": "2022-08-03T18:11:57.319580Z",
     "iopub.status.busy": "2022-08-03T18:11:57.318580Z",
     "iopub.status.idle": "2022-08-03T18:11:57.339050Z",
     "shell.execute_reply": "2022-08-03T18:11:57.337779Z"
    },
    "papermill": {
     "duration": 0.207116,
     "end_time": "2022-08-03T18:11:57.342613",
     "exception": false,
     "start_time": "2022-08-03T18:11:57.135497",
     "status": "completed"
    },
    "tags": []
   },
   "outputs": [
    {
     "name": "stdout",
     "output_type": "stream",
     "text": [
      "[[1635  242  221]\n",
      " [ 458  451   24]\n",
      " [ 436   37  173]]\n",
      "0.6143595322273593\n",
      "              precision    recall  f1-score   support\n",
      "\n",
      "           0       0.65      0.78      0.71      2098\n",
      "           1       0.62      0.48      0.54       933\n",
      "           2       0.41      0.27      0.33       646\n",
      "\n",
      "    accuracy                           0.61      3677\n",
      "   macro avg       0.56      0.51      0.52      3677\n",
      "weighted avg       0.60      0.61      0.60      3677\n",
      "\n"
     ]
    }
   ],
   "source": [
    "import sklearn.metrics as metrics\n",
    "from sklearn.metrics import classification_report,confusion_matrix,accuracy_score\n",
    "test_cm = metrics.confusion_matrix(y_test.argmax(axis=1), y_predict.argmax(axis=1))\n",
    "print(test_cm)\n",
    "test_score = metrics.accuracy_score(y_test.argmax(axis=1), y_predict.argmax(axis=1))\n",
    "print(test_score)\n",
    "test_report = metrics.classification_report(y_test.argmax(axis=1), y_predict.argmax(axis=1))\n",
    "print(test_report)\n"
   ]
  },
  {
   "cell_type": "markdown",
   "id": "248a5a60",
   "metadata": {
    "papermill": {
     "duration": 0.191403,
     "end_time": "2022-08-03T18:11:57.771550",
     "exception": false,
     "start_time": "2022-08-03T18:11:57.580147",
     "status": "completed"
    },
    "tags": []
   },
   "source": [
    "It can be seen that basesd on classification report, 0: 'Adequate' has the highest overall accuracy in terms of precision (actual true positive ouf of predicted positive), recall (true positive rate) and f1-score (mean of precision and recall, taking consideration of false positive and false negatives)\n",
    "\n",
    "It can also be observed that 'Adequate' has the highest number of observations supporting its accuracy.\n",
    "\n",
    "Followed by 1:'Effective' with the second highest accuracy and 2: 'Ineffective' as the least overall accuracy. \n"
   ]
  },
  {
   "cell_type": "markdown",
   "id": "40248cd1",
   "metadata": {
    "papermill": {
     "duration": 0.18668,
     "end_time": "2022-08-03T18:11:58.142056",
     "exception": false,
     "start_time": "2022-08-03T18:11:57.955376",
     "status": "completed"
    },
    "tags": []
   },
   "source": [
    "#### Visualize Confusion Matrix"
   ]
  },
  {
   "cell_type": "code",
   "execution_count": 20,
   "id": "eb7956b8",
   "metadata": {
    "execution": {
     "iopub.execute_input": "2022-08-03T18:11:58.506433Z",
     "iopub.status.busy": "2022-08-03T18:11:58.506071Z",
     "iopub.status.idle": "2022-08-03T18:11:58.886713Z",
     "shell.execute_reply": "2022-08-03T18:11:58.885208Z"
    },
    "papermill": {
     "duration": 0.565373,
     "end_time": "2022-08-03T18:11:58.889395",
     "exception": false,
     "start_time": "2022-08-03T18:11:58.324022",
     "status": "completed"
    },
    "tags": []
   },
   "outputs": [
    {
     "data": {
      "image/png": "[encoded data removed]",
      "text/plain": [
       "<Figure size 720x576 with 2 Axes>"
      ]
     },
     "metadata": {},
     "output_type": "display_data"
    }
   ],
   "source": [
    "test_cm = pd.DataFrame(test_cm, range(3), range(3))\n",
    "plt.figure(figsize = (10,8))\n",
    "sns.set(font_scale=2)\n",
    "sns.heatmap(test_cm, annot=True, annot_kws={\"size\": 21},fmt='d')\n",
    "plt.show()"
   ]
  },
  {
   "cell_type": "markdown",
   "id": "235ae1b9",
   "metadata": {
    "papermill": {
     "duration": 0.228846,
     "end_time": "2022-08-03T18:11:59.421615",
     "exception": false,
     "start_time": "2022-08-03T18:11:59.192769",
     "status": "completed"
    },
    "tags": []
   },
   "source": [
    "#### Rename columns and Export final test.csv dataset for submission.\n"
   ]
  },
  {
   "cell_type": "code",
   "execution_count": 21,
   "id": "2ee76f3f",
   "metadata": {
    "execution": {
     "iopub.execute_input": "2022-08-03T18:11:59.798909Z",
     "iopub.status.busy": "2022-08-03T18:11:59.798535Z",
     "iopub.status.idle": "2022-08-03T18:11:59.837213Z",
     "shell.execute_reply": "2022-08-03T18:11:59.836230Z"
    },
    "papermill": {
     "duration": 0.23634,
     "end_time": "2022-08-03T18:11:59.839348",
     "exception": false,
     "start_time": "2022-08-03T18:11:59.603008",
     "status": "completed"
    },
    "tags": []
   },
   "outputs": [
    {
     "name": "stdout",
     "output_type": "stream",
     "text": [
      "      discourse_id  Adequate  Effective  Ineffective\n",
      "0     0013cc385424  0.689039   0.000619     0.310341\n",
      "1     9704a709b505  0.727740   0.138907     0.133353\n",
      "2     c22adee811b6  0.676781   0.009305     0.313914\n",
      "3     a10d361e54e4  0.450910   0.531694     0.017396\n",
      "4     db3e453ec4e2  0.752004   0.008687     0.239309\n",
      "...            ...       ...        ...          ...\n",
      "3672  643277623c55  0.009298   0.990538     0.000164\n",
      "3673  f315ff556868  0.352038   0.646253     0.001710\n",
      "3674  7a3aef0cfc2d  0.783632   0.137866     0.078502\n",
      "3675  09cc9d107416  0.325253   0.673991     0.000756\n",
      "3676  13290ff2b629  0.628425   0.138250     0.233325\n",
      "\n",
      "[3677 rows x 4 columns]\n"
     ]
    }
   ],
   "source": [
    "df_test_predict = pd.DataFrame(y_predict, columns=['Adequate','Effective','Ineffective'])\n",
    "final_test_dataset = pd.merge(df_feeds, df_test_predict, how = 'right', left_index= True ,right_index =True)\n",
    "final_test_dataset = final_test_dataset[['discourse_id', 'Adequate_y', 'Effective_y','Ineffective_y']]\n",
    "final_test_dataset.rename(columns={'Adequate_y' : 'Adequate', 'Effective_y' : 'Effective', 'Ineffective_y' : 'Ineffective'}, inplace=True)\n",
    "final_test_dataset.to_csv('submission.csv', index=False)\n",
    "print(final_test_dataset)"
   ]
  }
 ],
 "metadata": {
  "kernelspec": {
   "display_name": "Python 3",
   "language": "python",
   "name": "python3"
  },
  "language_info": {
   "codemirror_mode": {
    "name": "ipython",
    "version": 3
   },
   "file_extension": ".py",
   "mimetype": "text/x-python",
   "name": "python",
   "nbconvert_exporter": "python",
   "pygments_lexer": "ipython3",
   "version": "3.7.12"
  },
  "papermill": {
   "default_parameters": {},
   "duration": 310.594198,
   "end_time": "2022-08-03T18:12:03.048543",
   "environment_variables": {},
   "exception": null,
   "input_path": "__notebook__.ipynb",
   "output_path": "__notebook__.ipynb",
   "parameters": {},
   "start_time": "2022-08-03T18:06:52.454345",
   "version": "2.3.4"
  }
 },
 "nbformat": 4,
 "nbformat_minor": 5
}
